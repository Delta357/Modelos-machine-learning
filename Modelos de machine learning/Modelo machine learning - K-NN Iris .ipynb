{
 "cells": [
  {
   "cell_type": "code",
   "execution_count": 1,
   "metadata": {},
   "outputs": [],
   "source": [
    "import pandas as pd\n",
    "import numpy as np\n",
    "import seaborn as sns\n",
    "import matplotlib.pyplot as plt\n",
    "\n",
    "%matplotlib inline"
   ]
  },
  {
   "cell_type": "code",
   "execution_count": 2,
   "metadata": {},
   "outputs": [
    {
     "data": {
      "text/html": [
       "<div>\n",
       "<style scoped>\n",
       "    .dataframe tbody tr th:only-of-type {\n",
       "        vertical-align: middle;\n",
       "    }\n",
       "\n",
       "    .dataframe tbody tr th {\n",
       "        vertical-align: top;\n",
       "    }\n",
       "\n",
       "    .dataframe thead th {\n",
       "        text-align: right;\n",
       "    }\n",
       "</style>\n",
       "<table border=\"1\" class=\"dataframe\">\n",
       "  <thead>\n",
       "    <tr style=\"text-align: right;\">\n",
       "      <th></th>\n",
       "      <th>sepal length</th>\n",
       "      <th>sepal width</th>\n",
       "      <th>petal length</th>\n",
       "      <th>petal width</th>\n",
       "      <th>class</th>\n",
       "    </tr>\n",
       "  </thead>\n",
       "  <tbody>\n",
       "    <tr>\n",
       "      <th>0</th>\n",
       "      <td>5.1</td>\n",
       "      <td>3.5</td>\n",
       "      <td>1.4</td>\n",
       "      <td>0.2</td>\n",
       "      <td>Iris-setosa</td>\n",
       "    </tr>\n",
       "    <tr>\n",
       "      <th>1</th>\n",
       "      <td>4.9</td>\n",
       "      <td>3.0</td>\n",
       "      <td>1.4</td>\n",
       "      <td>0.2</td>\n",
       "      <td>Iris-setosa</td>\n",
       "    </tr>\n",
       "    <tr>\n",
       "      <th>2</th>\n",
       "      <td>4.7</td>\n",
       "      <td>3.2</td>\n",
       "      <td>1.3</td>\n",
       "      <td>0.2</td>\n",
       "      <td>Iris-setosa</td>\n",
       "    </tr>\n",
       "    <tr>\n",
       "      <th>3</th>\n",
       "      <td>4.6</td>\n",
       "      <td>3.1</td>\n",
       "      <td>1.5</td>\n",
       "      <td>0.2</td>\n",
       "      <td>Iris-setosa</td>\n",
       "    </tr>\n",
       "    <tr>\n",
       "      <th>4</th>\n",
       "      <td>5.0</td>\n",
       "      <td>3.6</td>\n",
       "      <td>1.4</td>\n",
       "      <td>0.2</td>\n",
       "      <td>Iris-setosa</td>\n",
       "    </tr>\n",
       "  </tbody>\n",
       "</table>\n",
       "</div>"
      ],
      "text/plain": [
       "   sepal length  sepal width  petal length  petal width        class\n",
       "0           5.1          3.5           1.4          0.2  Iris-setosa\n",
       "1           4.9          3.0           1.4          0.2  Iris-setosa\n",
       "2           4.7          3.2           1.3          0.2  Iris-setosa\n",
       "3           4.6          3.1           1.5          0.2  Iris-setosa\n",
       "4           5.0          3.6           1.4          0.2  Iris-setosa"
      ]
     },
     "execution_count": 2,
     "metadata": {},
     "output_type": "execute_result"
    }
   ],
   "source": [
    "dados = pd.read_csv(\"Dados\\iris.csv\") \n",
    "dados.head()"
   ]
  },
  {
   "cell_type": "code",
   "execution_count": 3,
   "metadata": {},
   "outputs": [
    {
     "data": {
      "text/html": [
       "<div>\n",
       "<style scoped>\n",
       "    .dataframe tbody tr th:only-of-type {\n",
       "        vertical-align: middle;\n",
       "    }\n",
       "\n",
       "    .dataframe tbody tr th {\n",
       "        vertical-align: top;\n",
       "    }\n",
       "\n",
       "    .dataframe thead th {\n",
       "        text-align: right;\n",
       "    }\n",
       "</style>\n",
       "<table border=\"1\" class=\"dataframe\">\n",
       "  <thead>\n",
       "    <tr style=\"text-align: right;\">\n",
       "      <th></th>\n",
       "      <th>sepal length</th>\n",
       "      <th>sepal width</th>\n",
       "      <th>petal length</th>\n",
       "      <th>petal width</th>\n",
       "      <th>class</th>\n",
       "    </tr>\n",
       "  </thead>\n",
       "  <tbody>\n",
       "    <tr>\n",
       "      <th>145</th>\n",
       "      <td>6.7</td>\n",
       "      <td>3.0</td>\n",
       "      <td>5.2</td>\n",
       "      <td>2.3</td>\n",
       "      <td>Iris-virginica</td>\n",
       "    </tr>\n",
       "    <tr>\n",
       "      <th>146</th>\n",
       "      <td>6.3</td>\n",
       "      <td>2.5</td>\n",
       "      <td>5.0</td>\n",
       "      <td>1.9</td>\n",
       "      <td>Iris-virginica</td>\n",
       "    </tr>\n",
       "    <tr>\n",
       "      <th>147</th>\n",
       "      <td>6.5</td>\n",
       "      <td>3.0</td>\n",
       "      <td>5.2</td>\n",
       "      <td>2.0</td>\n",
       "      <td>Iris-virginica</td>\n",
       "    </tr>\n",
       "    <tr>\n",
       "      <th>148</th>\n",
       "      <td>6.2</td>\n",
       "      <td>3.4</td>\n",
       "      <td>5.4</td>\n",
       "      <td>2.3</td>\n",
       "      <td>Iris-virginica</td>\n",
       "    </tr>\n",
       "    <tr>\n",
       "      <th>149</th>\n",
       "      <td>5.9</td>\n",
       "      <td>3.0</td>\n",
       "      <td>5.1</td>\n",
       "      <td>1.8</td>\n",
       "      <td>Iris-virginica</td>\n",
       "    </tr>\n",
       "  </tbody>\n",
       "</table>\n",
       "</div>"
      ],
      "text/plain": [
       "     sepal length  sepal width  petal length  petal width           class\n",
       "145           6.7          3.0           5.2          2.3  Iris-virginica\n",
       "146           6.3          2.5           5.0          1.9  Iris-virginica\n",
       "147           6.5          3.0           5.2          2.0  Iris-virginica\n",
       "148           6.2          3.4           5.4          2.3  Iris-virginica\n",
       "149           5.9          3.0           5.1          1.8  Iris-virginica"
      ]
     },
     "execution_count": 3,
     "metadata": {},
     "output_type": "execute_result"
    }
   ],
   "source": [
    "dados.tail()"
   ]
  },
  {
   "cell_type": "code",
   "execution_count": 4,
   "metadata": {},
   "outputs": [
    {
     "data": {
      "text/plain": [
       "(150, 5)"
      ]
     },
     "execution_count": 4,
     "metadata": {},
     "output_type": "execute_result"
    }
   ],
   "source": [
    "dados.shape"
   ]
  },
  {
   "cell_type": "code",
   "execution_count": 5,
   "metadata": {},
   "outputs": [
    {
     "data": {
      "text/html": [
       "<div>\n",
       "<style scoped>\n",
       "    .dataframe tbody tr th:only-of-type {\n",
       "        vertical-align: middle;\n",
       "    }\n",
       "\n",
       "    .dataframe tbody tr th {\n",
       "        vertical-align: top;\n",
       "    }\n",
       "\n",
       "    .dataframe thead th {\n",
       "        text-align: right;\n",
       "    }\n",
       "</style>\n",
       "<table border=\"1\" class=\"dataframe\">\n",
       "  <thead>\n",
       "    <tr style=\"text-align: right;\">\n",
       "      <th></th>\n",
       "      <th>sepal length</th>\n",
       "      <th>sepal width</th>\n",
       "      <th>petal length</th>\n",
       "      <th>petal width</th>\n",
       "    </tr>\n",
       "  </thead>\n",
       "  <tbody>\n",
       "    <tr>\n",
       "      <th>count</th>\n",
       "      <td>150.000000</td>\n",
       "      <td>150.000000</td>\n",
       "      <td>150.000000</td>\n",
       "      <td>150.000000</td>\n",
       "    </tr>\n",
       "    <tr>\n",
       "      <th>mean</th>\n",
       "      <td>5.843333</td>\n",
       "      <td>3.054000</td>\n",
       "      <td>3.758667</td>\n",
       "      <td>1.198667</td>\n",
       "    </tr>\n",
       "    <tr>\n",
       "      <th>std</th>\n",
       "      <td>0.828066</td>\n",
       "      <td>0.433594</td>\n",
       "      <td>1.764420</td>\n",
       "      <td>0.763161</td>\n",
       "    </tr>\n",
       "    <tr>\n",
       "      <th>min</th>\n",
       "      <td>4.300000</td>\n",
       "      <td>2.000000</td>\n",
       "      <td>1.000000</td>\n",
       "      <td>0.100000</td>\n",
       "    </tr>\n",
       "    <tr>\n",
       "      <th>25%</th>\n",
       "      <td>5.100000</td>\n",
       "      <td>2.800000</td>\n",
       "      <td>1.600000</td>\n",
       "      <td>0.300000</td>\n",
       "    </tr>\n",
       "    <tr>\n",
       "      <th>50%</th>\n",
       "      <td>5.800000</td>\n",
       "      <td>3.000000</td>\n",
       "      <td>4.350000</td>\n",
       "      <td>1.300000</td>\n",
       "    </tr>\n",
       "    <tr>\n",
       "      <th>75%</th>\n",
       "      <td>6.400000</td>\n",
       "      <td>3.300000</td>\n",
       "      <td>5.100000</td>\n",
       "      <td>1.800000</td>\n",
       "    </tr>\n",
       "    <tr>\n",
       "      <th>max</th>\n",
       "      <td>7.900000</td>\n",
       "      <td>4.400000</td>\n",
       "      <td>6.900000</td>\n",
       "      <td>2.500000</td>\n",
       "    </tr>\n",
       "  </tbody>\n",
       "</table>\n",
       "</div>"
      ],
      "text/plain": [
       "       sepal length  sepal width  petal length  petal width\n",
       "count    150.000000   150.000000    150.000000   150.000000\n",
       "mean       5.843333     3.054000      3.758667     1.198667\n",
       "std        0.828066     0.433594      1.764420     0.763161\n",
       "min        4.300000     2.000000      1.000000     0.100000\n",
       "25%        5.100000     2.800000      1.600000     0.300000\n",
       "50%        5.800000     3.000000      4.350000     1.300000\n",
       "75%        6.400000     3.300000      5.100000     1.800000\n",
       "max        7.900000     4.400000      6.900000     2.500000"
      ]
     },
     "execution_count": 5,
     "metadata": {},
     "output_type": "execute_result"
    }
   ],
   "source": [
    "dados.describe()"
   ]
  },
  {
   "cell_type": "code",
   "execution_count": 6,
   "metadata": {},
   "outputs": [
    {
     "data": {
      "text/plain": [
       "<bound method DataFrame.align of      sepal length  sepal width  petal length  petal width           class\n",
       "0             5.1          3.5           1.4          0.2     Iris-setosa\n",
       "1             4.9          3.0           1.4          0.2     Iris-setosa\n",
       "2             4.7          3.2           1.3          0.2     Iris-setosa\n",
       "3             4.6          3.1           1.5          0.2     Iris-setosa\n",
       "4             5.0          3.6           1.4          0.2     Iris-setosa\n",
       "..            ...          ...           ...          ...             ...\n",
       "145           6.7          3.0           5.2          2.3  Iris-virginica\n",
       "146           6.3          2.5           5.0          1.9  Iris-virginica\n",
       "147           6.5          3.0           5.2          2.0  Iris-virginica\n",
       "148           6.2          3.4           5.4          2.3  Iris-virginica\n",
       "149           5.9          3.0           5.1          1.8  Iris-virginica\n",
       "\n",
       "[150 rows x 5 columns]>"
      ]
     },
     "execution_count": 6,
     "metadata": {},
     "output_type": "execute_result"
    }
   ],
   "source": [
    "dados.align"
   ]
  },
  {
   "cell_type": "code",
   "execution_count": 7,
   "metadata": {},
   "outputs": [
    {
     "data": {
      "text/html": [
       "<div>\n",
       "<style scoped>\n",
       "    .dataframe tbody tr th:only-of-type {\n",
       "        vertical-align: middle;\n",
       "    }\n",
       "\n",
       "    .dataframe tbody tr th {\n",
       "        vertical-align: top;\n",
       "    }\n",
       "\n",
       "    .dataframe thead th {\n",
       "        text-align: right;\n",
       "    }\n",
       "</style>\n",
       "<table border=\"1\" class=\"dataframe\">\n",
       "  <thead>\n",
       "    <tr style=\"text-align: right;\">\n",
       "      <th></th>\n",
       "      <th>comprimento séptico</th>\n",
       "      <th>largura sépala</th>\n",
       "      <th>comprimento pétala</th>\n",
       "      <th>largura pétala</th>\n",
       "      <th>Classe</th>\n",
       "    </tr>\n",
       "  </thead>\n",
       "  <tbody>\n",
       "    <tr>\n",
       "      <th>0</th>\n",
       "      <td>5.1</td>\n",
       "      <td>3.5</td>\n",
       "      <td>1.4</td>\n",
       "      <td>0.2</td>\n",
       "      <td>Iris-setosa</td>\n",
       "    </tr>\n",
       "    <tr>\n",
       "      <th>1</th>\n",
       "      <td>4.9</td>\n",
       "      <td>3.0</td>\n",
       "      <td>1.4</td>\n",
       "      <td>0.2</td>\n",
       "      <td>Iris-setosa</td>\n",
       "    </tr>\n",
       "    <tr>\n",
       "      <th>2</th>\n",
       "      <td>4.7</td>\n",
       "      <td>3.2</td>\n",
       "      <td>1.3</td>\n",
       "      <td>0.2</td>\n",
       "      <td>Iris-setosa</td>\n",
       "    </tr>\n",
       "    <tr>\n",
       "      <th>3</th>\n",
       "      <td>4.6</td>\n",
       "      <td>3.1</td>\n",
       "      <td>1.5</td>\n",
       "      <td>0.2</td>\n",
       "      <td>Iris-setosa</td>\n",
       "    </tr>\n",
       "    <tr>\n",
       "      <th>4</th>\n",
       "      <td>5.0</td>\n",
       "      <td>3.6</td>\n",
       "      <td>1.4</td>\n",
       "      <td>0.2</td>\n",
       "      <td>Iris-setosa</td>\n",
       "    </tr>\n",
       "  </tbody>\n",
       "</table>\n",
       "</div>"
      ],
      "text/plain": [
       "   comprimento séptico  largura sépala  comprimento pétala  largura pétala  \\\n",
       "0                  5.1             3.5                 1.4             0.2   \n",
       "1                  4.9             3.0                 1.4             0.2   \n",
       "2                  4.7             3.2                 1.3             0.2   \n",
       "3                  4.6             3.1                 1.5             0.2   \n",
       "4                  5.0             3.6                 1.4             0.2   \n",
       "\n",
       "        Classe  \n",
       "0  Iris-setosa  \n",
       "1  Iris-setosa  \n",
       "2  Iris-setosa  \n",
       "3  Iris-setosa  \n",
       "4  Iris-setosa  "
      ]
     },
     "execution_count": 7,
     "metadata": {},
     "output_type": "execute_result"
    }
   ],
   "source": [
    "dados.columns = [\"comprimento séptico\", \"largura sépala\", \"comprimento pétala\",\"largura pétala\", \"Classe\"]\n",
    "dados.head()"
   ]
  },
  {
   "cell_type": "markdown",
   "metadata": {},
   "source": [
    "# **Estatistica**"
   ]
  },
  {
   "cell_type": "markdown",
   "metadata": {},
   "source": [
    "**Mediana**"
   ]
  },
  {
   "cell_type": "code",
   "execution_count": 8,
   "metadata": {},
   "outputs": [
    {
     "data": {
      "text/plain": [
       "5.8"
      ]
     },
     "execution_count": 8,
     "metadata": {},
     "output_type": "execute_result"
    }
   ],
   "source": [
    "dados[\"comprimento séptico\"].median()"
   ]
  },
  {
   "cell_type": "code",
   "execution_count": 9,
   "metadata": {},
   "outputs": [
    {
     "data": {
      "text/plain": [
       "3.0"
      ]
     },
     "execution_count": 9,
     "metadata": {},
     "output_type": "execute_result"
    }
   ],
   "source": [
    "dados[\"largura sépala\"].median()"
   ]
  },
  {
   "cell_type": "code",
   "execution_count": 10,
   "metadata": {},
   "outputs": [
    {
     "data": {
      "text/plain": [
       "4.35"
      ]
     },
     "execution_count": 10,
     "metadata": {},
     "output_type": "execute_result"
    }
   ],
   "source": [
    "dados[\"comprimento pétala\"].median()"
   ]
  },
  {
   "cell_type": "code",
   "execution_count": 11,
   "metadata": {},
   "outputs": [
    {
     "data": {
      "text/plain": [
       "1.3"
      ]
     },
     "execution_count": 11,
     "metadata": {},
     "output_type": "execute_result"
    }
   ],
   "source": [
    "dados[\"largura pétala\"].median()"
   ]
  },
  {
   "cell_type": "markdown",
   "metadata": {},
   "source": [
    "**Média**"
   ]
  },
  {
   "cell_type": "code",
   "execution_count": 12,
   "metadata": {},
   "outputs": [
    {
     "data": {
      "text/plain": [
       "5.843333333333335"
      ]
     },
     "execution_count": 12,
     "metadata": {},
     "output_type": "execute_result"
    }
   ],
   "source": [
    "dados[\"comprimento séptico\"].mean()"
   ]
  },
  {
   "cell_type": "code",
   "execution_count": 13,
   "metadata": {},
   "outputs": [
    {
     "data": {
      "text/plain": [
       "3.0540000000000007"
      ]
     },
     "execution_count": 13,
     "metadata": {},
     "output_type": "execute_result"
    }
   ],
   "source": [
    "dados[\"largura sépala\"].mean()"
   ]
  },
  {
   "cell_type": "code",
   "execution_count": 14,
   "metadata": {},
   "outputs": [
    {
     "data": {
      "text/plain": [
       "3.7586666666666693"
      ]
     },
     "execution_count": 14,
     "metadata": {},
     "output_type": "execute_result"
    }
   ],
   "source": [
    "dados[\"comprimento pétala\"].mean()"
   ]
  },
  {
   "cell_type": "code",
   "execution_count": 15,
   "metadata": {},
   "outputs": [
    {
     "data": {
      "text/plain": [
       "1.1986666666666672"
      ]
     },
     "execution_count": 15,
     "metadata": {},
     "output_type": "execute_result"
    }
   ],
   "source": [
    "dados[\"largura pétala\"].mean()"
   ]
  },
  {
   "cell_type": "markdown",
   "metadata": {},
   "source": [
    "**Moda**"
   ]
  },
  {
   "cell_type": "code",
   "execution_count": 16,
   "metadata": {},
   "outputs": [
    {
     "data": {
      "text/plain": [
       "0    5.0\n",
       "dtype: float64"
      ]
     },
     "execution_count": 16,
     "metadata": {},
     "output_type": "execute_result"
    }
   ],
   "source": [
    "dados[\"comprimento séptico\"].mode()"
   ]
  },
  {
   "cell_type": "code",
   "execution_count": 17,
   "metadata": {},
   "outputs": [
    {
     "data": {
      "text/plain": [
       "0    3.0\n",
       "dtype: float64"
      ]
     },
     "execution_count": 17,
     "metadata": {},
     "output_type": "execute_result"
    }
   ],
   "source": [
    "dados[\"largura sépala\"].mode()"
   ]
  },
  {
   "cell_type": "code",
   "execution_count": 18,
   "metadata": {},
   "outputs": [
    {
     "data": {
      "text/plain": [
       "0    1.5\n",
       "dtype: float64"
      ]
     },
     "execution_count": 18,
     "metadata": {},
     "output_type": "execute_result"
    }
   ],
   "source": [
    "dados[\"comprimento pétala\"].mode()"
   ]
  },
  {
   "cell_type": "code",
   "execution_count": 19,
   "metadata": {},
   "outputs": [
    {
     "data": {
      "text/plain": [
       "0    0.2\n",
       "dtype: float64"
      ]
     },
     "execution_count": 19,
     "metadata": {},
     "output_type": "execute_result"
    }
   ],
   "source": [
    "dados[\"largura pétala\"].mode()"
   ]
  },
  {
   "cell_type": "code",
   "execution_count": 20,
   "metadata": {},
   "outputs": [
    {
     "data": {
      "text/plain": [
       "<matplotlib.axes._subplots.AxesSubplot at 0x21d05f73608>"
      ]
     },
     "execution_count": 20,
     "metadata": {},
     "output_type": "execute_result"
    },
    {
     "data": {
      "image/png": "[encoded data removed]",
      "text/plain": [
       "<Figure size 432x288 with 1 Axes>"
      ]
     },
     "metadata": {
      "needs_background": "light"
     },
     "output_type": "display_data"
    },
    {
     "data": {
      "image/png": "[encoded data removed]",
      "text/plain": [
       "<Figure size 432x288 with 1 Axes>"
      ]
     },
     "metadata": {
      "needs_background": "light"
     },
     "output_type": "display_data"
    }
   ],
   "source": [
    "dados.plot.scatter(x='comprimento séptico', y='comprimento pétala')\n",
    "dados.plot.scatter(x= \"comprimento pétala\", y='largura pétala')"
   ]
  },
  {
   "cell_type": "code",
   "execution_count": 21,
   "metadata": {},
   "outputs": [
    {
     "data": {
      "text/plain": [
       "<matplotlib.axes._subplots.AxesSubplot at 0x21d060cfcc8>"
      ]
     },
     "execution_count": 21,
     "metadata": {},
     "output_type": "execute_result"
    },
    {
     "data": {
      "image/png": "[encoded data removed]",
      "text/plain": [
       "<Figure size 432x288 with 1 Axes>"
      ]
     },
     "metadata": {
      "needs_background": "light"
     },
     "output_type": "display_data"
    },
    {
     "data": {
      "image/png": "[encoded data removed]",
      "text/plain": [
       "<Figure size 432x288 with 1 Axes>"
      ]
     },
     "metadata": {
      "needs_background": "light"
     },
     "output_type": "display_data"
    }
   ],
   "source": [
    "dados.plot.scatter(x='largura sépala', y='comprimento pétala')\n",
    "dados.plot.scatter(x= \"comprimento séptico\", y='largura pétala')"
   ]
  },
  {
   "cell_type": "code",
   "execution_count": 22,
   "metadata": {},
   "outputs": [
    {
     "data": {
      "text/plain": [
       "<matplotlib.axes._subplots.AxesSubplot at 0x21d0611fe48>"
      ]
     },
     "execution_count": 22,
     "metadata": {},
     "output_type": "execute_result"
    },
    {
     "data": {
      "image/png": "[encoded data removed]",
      "text/plain": [
       "<Figure size 432x288 with 1 Axes>"
      ]
     },
     "metadata": {
      "needs_background": "light"
     },
     "output_type": "display_data"
    }
   ],
   "source": [
    "dados['largura sépala'].value_counts().plot.barh(title=\"Dados do Iris\")"
   ]
  },
  {
   "cell_type": "code",
   "execution_count": 23,
   "metadata": {},
   "outputs": [
    {
     "data": {
      "text/plain": [
       "<matplotlib.axes._subplots.AxesSubplot at 0x21d0608f208>"
      ]
     },
     "execution_count": 23,
     "metadata": {},
     "output_type": "execute_result"
    },
    {
     "data": {
      "image/png": "[encoded data removed]",
      "text/plain": [
       "<Figure size 432x288 with 1 Axes>"
      ]
     },
     "metadata": {
      "needs_background": "light"
     },
     "output_type": "display_data"
    }
   ],
   "source": [
    "dados['largura pétala'].value_counts().plot.barh(title=\"Dados do Iris\")"
   ]
  },
  {
   "cell_type": "code",
   "execution_count": 24,
   "metadata": {},
   "outputs": [
    {
     "data": {
      "text/plain": [
       "<matplotlib.axes._subplots.AxesSubplot at 0x21d062901c8>"
      ]
     },
     "execution_count": 24,
     "metadata": {},
     "output_type": "execute_result"
    },
    {
     "data": {
      "image/png": "[encoded data removed]",
      "text/plain": [
       "<Figure size 432x288 with 1 Axes>"
      ]
     },
     "metadata": {
      "needs_background": "light"
     },
     "output_type": "display_data"
    }
   ],
   "source": [
    "dados['comprimento séptico'].plot.hist(bins=30, edgecolor='black')"
   ]
  },
  {
   "cell_type": "code",
   "execution_count": 25,
   "metadata": {},
   "outputs": [
    {
     "data": {
      "text/plain": [
       "<matplotlib.axes._subplots.AxesSubplot at 0x21d0629aa08>"
      ]
     },
     "execution_count": 25,
     "metadata": {},
     "output_type": "execute_result"
    },
    {
     "data": {
      "image/png": "[encoded data removed]",
      "text/plain": [
       "<Figure size 432x288 with 1 Axes>"
      ]
     },
     "metadata": {
      "needs_background": "light"
     },
     "output_type": "display_data"
    }
   ],
   "source": [
    "dados['comprimento pétala'].plot.hist(bins=30, edgecolor='black')"
   ]
  },
  {
   "cell_type": "code",
   "execution_count": 26,
   "metadata": {},
   "outputs": [],
   "source": [
    "t1 = dados.iloc[:, 1:4].values\n",
    "f2 = dados.iloc[:, 4].values"
   ]
  },
  {
   "cell_type": "code",
   "execution_count": 27,
   "metadata": {},
   "outputs": [
    {
     "data": {
      "text/plain": [
       "array([[3.5, 1.4, 0.2],\n",
       "       [3. , 1.4, 0.2],\n",
       "       [3.2, 1.3, 0.2],\n",
       "       [3.1, 1.5, 0.2],\n",
       "       [3.6, 1.4, 0.2],\n",
       "       [3.9, 1.7, 0.4],\n",
       "       [3.4, 1.4, 0.3],\n",
       "       [3.4, 1.5, 0.2],\n",
       "       [2.9, 1.4, 0.2],\n",
       "       [3.1, 1.5, 0.1],\n",
       "       [3.7, 1.5, 0.2],\n",
       "       [3.4, 1.6, 0.2],\n",
       "       [3. , 1.4, 0.1],\n",
       "       [3. , 1.1, 0.1],\n",
       "       [4. , 1.2, 0.2],\n",
       "       [4.4, 1.5, 0.4],\n",
       "       [3.9, 1.3, 0.4],\n",
       "       [3.5, 1.4, 0.3],\n",
       "       [3.8, 1.7, 0.3],\n",
       "       [3.8, 1.5, 0.3],\n",
       "       [3.4, 1.7, 0.2],\n",
       "       [3.7, 1.5, 0.4],\n",
       "       [3.6, 1. , 0.2],\n",
       "       [3.3, 1.7, 0.5],\n",
       "       [3.4, 1.9, 0.2],\n",
       "       [3. , 1.6, 0.2],\n",
       "       [3.4, 1.6, 0.4],\n",
       "       [3.5, 1.5, 0.2],\n",
       "       [3.4, 1.4, 0.2],\n",
       "       [3.2, 1.6, 0.2],\n",
       "       [3.1, 1.6, 0.2],\n",
       "       [3.4, 1.5, 0.4],\n",
       "       [4.1, 1.5, 0.1],\n",
       "       [4.2, 1.4, 0.2],\n",
       "       [3.1, 1.5, 0.1],\n",
       "       [3.2, 1.2, 0.2],\n",
       "       [3.5, 1.3, 0.2],\n",
       "       [3.1, 1.5, 0.1],\n",
       "       [3. , 1.3, 0.2],\n",
       "       [3.4, 1.5, 0.2],\n",
       "       [3.5, 1.3, 0.3],\n",
       "       [2.3, 1.3, 0.3],\n",
       "       [3.2, 1.3, 0.2],\n",
       "       [3.5, 1.6, 0.6],\n",
       "       [3.8, 1.9, 0.4],\n",
       "       [3. , 1.4, 0.3],\n",
       "       [3.8, 1.6, 0.2],\n",
       "       [3.2, 1.4, 0.2],\n",
       "       [3.7, 1.5, 0.2],\n",
       "       [3.3, 1.4, 0.2],\n",
       "       [3.2, 4.7, 1.4],\n",
       "       [3.2, 4.5, 1.5],\n",
       "       [3.1, 4.9, 1.5],\n",
       "       [2.3, 4. , 1.3],\n",
       "       [2.8, 4.6, 1.5],\n",
       "       [2.8, 4.5, 1.3],\n",
       "       [3.3, 4.7, 1.6],\n",
       "       [2.4, 3.3, 1. ],\n",
       "       [2.9, 4.6, 1.3],\n",
       "       [2.7, 3.9, 1.4],\n",
       "       [2. , 3.5, 1. ],\n",
       "       [3. , 4.2, 1.5],\n",
       "       [2.2, 4. , 1. ],\n",
       "       [2.9, 4.7, 1.4],\n",
       "       [2.9, 3.6, 1.3],\n",
       "       [3.1, 4.4, 1.4],\n",
       "       [3. , 4.5, 1.5],\n",
       "       [2.7, 4.1, 1. ],\n",
       "       [2.2, 4.5, 1.5],\n",
       "       [2.5, 3.9, 1.1],\n",
       "       [3.2, 4.8, 1.8],\n",
       "       [2.8, 4. , 1.3],\n",
       "       [2.5, 4.9, 1.5],\n",
       "       [2.8, 4.7, 1.2],\n",
       "       [2.9, 4.3, 1.3],\n",
       "       [3. , 4.4, 1.4],\n",
       "       [2.8, 4.8, 1.4],\n",
       "       [3. , 5. , 1.7],\n",
       "       [2.9, 4.5, 1.5],\n",
       "       [2.6, 3.5, 1. ],\n",
       "       [2.4, 3.8, 1.1],\n",
       "       [2.4, 3.7, 1. ],\n",
       "       [2.7, 3.9, 1.2],\n",
       "       [2.7, 5.1, 1.6],\n",
       "       [3. , 4.5, 1.5],\n",
       "       [3.4, 4.5, 1.6],\n",
       "       [3.1, 4.7, 1.5],\n",
       "       [2.3, 4.4, 1.3],\n",
       "       [3. , 4.1, 1.3],\n",
       "       [2.5, 4. , 1.3],\n",
       "       [2.6, 4.4, 1.2],\n",
       "       [3. , 4.6, 1.4],\n",
       "       [2.6, 4. , 1.2],\n",
       "       [2.3, 3.3, 1. ],\n",
       "       [2.7, 4.2, 1.3],\n",
       "       [3. , 4.2, 1.2],\n",
       "       [2.9, 4.2, 1.3],\n",
       "       [2.9, 4.3, 1.3],\n",
       "       [2.5, 3. , 1.1],\n",
       "       [2.8, 4.1, 1.3],\n",
       "       [3.3, 6. , 2.5],\n",
       "       [2.7, 5.1, 1.9],\n",
       "       [3. , 5.9, 2.1],\n",
       "       [2.9, 5.6, 1.8],\n",
       "       [3. , 5.8, 2.2],\n",
       "       [3. , 6.6, 2.1],\n",
       "       [2.5, 4.5, 1.7],\n",
       "       [2.9, 6.3, 1.8],\n",
       "       [2.5, 5.8, 1.8],\n",
       "       [3.6, 6.1, 2.5],\n",
       "       [3.2, 5.1, 2. ],\n",
       "       [2.7, 5.3, 1.9],\n",
       "       [3. , 5.5, 2.1],\n",
       "       [2.5, 5. , 2. ],\n",
       "       [2.8, 5.1, 2.4],\n",
       "       [3.2, 5.3, 2.3],\n",
       "       [3. , 5.5, 1.8],\n",
       "       [3.8, 6.7, 2.2],\n",
       "       [2.6, 6.9, 2.3],\n",
       "       [2.2, 5. , 1.5],\n",
       "       [3.2, 5.7, 2.3],\n",
       "       [2.8, 4.9, 2. ],\n",
       "       [2.8, 6.7, 2. ],\n",
       "       [2.7, 4.9, 1.8],\n",
       "       [3.3, 5.7, 2.1],\n",
       "       [3.2, 6. , 1.8],\n",
       "       [2.8, 4.8, 1.8],\n",
       "       [3. , 4.9, 1.8],\n",
       "       [2.8, 5.6, 2.1],\n",
       "       [3. , 5.8, 1.6],\n",
       "       [2.8, 6.1, 1.9],\n",
       "       [3.8, 6.4, 2. ],\n",
       "       [2.8, 5.6, 2.2],\n",
       "       [2.8, 5.1, 1.5],\n",
       "       [2.6, 5.6, 1.4],\n",
       "       [3. , 6.1, 2.3],\n",
       "       [3.4, 5.6, 2.4],\n",
       "       [3.1, 5.5, 1.8],\n",
       "       [3. , 4.8, 1.8],\n",
       "       [3.1, 5.4, 2.1],\n",
       "       [3.1, 5.6, 2.4],\n",
       "       [3.1, 5.1, 2.3],\n",
       "       [2.7, 5.1, 1.9],\n",
       "       [3.2, 5.9, 2.3],\n",
       "       [3.3, 5.7, 2.5],\n",
       "       [3. , 5.2, 2.3],\n",
       "       [2.5, 5. , 1.9],\n",
       "       [3. , 5.2, 2. ],\n",
       "       [3.4, 5.4, 2.3],\n",
       "       [3. , 5.1, 1.8]])"
      ]
     },
     "execution_count": 27,
     "metadata": {},
     "output_type": "execute_result"
    }
   ],
   "source": [
    "t1"
   ]
  },
  {
   "cell_type": "code",
   "execution_count": 28,
   "metadata": {},
   "outputs": [
    {
     "data": {
      "text/plain": [
       "array(['Iris-setosa', 'Iris-setosa', 'Iris-setosa', 'Iris-setosa',\n",
       "       'Iris-setosa', 'Iris-setosa', 'Iris-setosa', 'Iris-setosa',\n",
       "       'Iris-setosa', 'Iris-setosa', 'Iris-setosa', 'Iris-setosa',\n",
       "       'Iris-setosa', 'Iris-setosa', 'Iris-setosa', 'Iris-setosa',\n",
       "       'Iris-setosa', 'Iris-setosa', 'Iris-setosa', 'Iris-setosa',\n",
       "       'Iris-setosa', 'Iris-setosa', 'Iris-setosa', 'Iris-setosa',\n",
       "       'Iris-setosa', 'Iris-setosa', 'Iris-setosa', 'Iris-setosa',\n",
       "       'Iris-setosa', 'Iris-setosa', 'Iris-setosa', 'Iris-setosa',\n",
       "       'Iris-setosa', 'Iris-setosa', 'Iris-setosa', 'Iris-setosa',\n",
       "       'Iris-setosa', 'Iris-setosa', 'Iris-setosa', 'Iris-setosa',\n",
       "       'Iris-setosa', 'Iris-setosa', 'Iris-setosa', 'Iris-setosa',\n",
       "       'Iris-setosa', 'Iris-setosa', 'Iris-setosa', 'Iris-setosa',\n",
       "       'Iris-setosa', 'Iris-setosa', 'Iris-versicolor', 'Iris-versicolor',\n",
       "       'Iris-versicolor', 'Iris-versicolor', 'Iris-versicolor',\n",
       "       'Iris-versicolor', 'Iris-versicolor', 'Iris-versicolor',\n",
       "       'Iris-versicolor', 'Iris-versicolor', 'Iris-versicolor',\n",
       "       'Iris-versicolor', 'Iris-versicolor', 'Iris-versicolor',\n",
       "       'Iris-versicolor', 'Iris-versicolor', 'Iris-versicolor',\n",
       "       'Iris-versicolor', 'Iris-versicolor', 'Iris-versicolor',\n",
       "       'Iris-versicolor', 'Iris-versicolor', 'Iris-versicolor',\n",
       "       'Iris-versicolor', 'Iris-versicolor', 'Iris-versicolor',\n",
       "       'Iris-versicolor', 'Iris-versicolor', 'Iris-versicolor',\n",
       "       'Iris-versicolor', 'Iris-versicolor', 'Iris-versicolor',\n",
       "       'Iris-versicolor', 'Iris-versicolor', 'Iris-versicolor',\n",
       "       'Iris-versicolor', 'Iris-versicolor', 'Iris-versicolor',\n",
       "       'Iris-versicolor', 'Iris-versicolor', 'Iris-versicolor',\n",
       "       'Iris-versicolor', 'Iris-versicolor', 'Iris-versicolor',\n",
       "       'Iris-versicolor', 'Iris-versicolor', 'Iris-versicolor',\n",
       "       'Iris-versicolor', 'Iris-versicolor', 'Iris-versicolor',\n",
       "       'Iris-virginica', 'Iris-virginica', 'Iris-virginica',\n",
       "       'Iris-virginica', 'Iris-virginica', 'Iris-virginica',\n",
       "       'Iris-virginica', 'Iris-virginica', 'Iris-virginica',\n",
       "       'Iris-virginica', 'Iris-virginica', 'Iris-virginica',\n",
       "       'Iris-virginica', 'Iris-virginica', 'Iris-virginica',\n",
       "       'Iris-virginica', 'Iris-virginica', 'Iris-virginica',\n",
       "       'Iris-virginica', 'Iris-virginica', 'Iris-virginica',\n",
       "       'Iris-virginica', 'Iris-virginica', 'Iris-virginica',\n",
       "       'Iris-virginica', 'Iris-virginica', 'Iris-virginica',\n",
       "       'Iris-virginica', 'Iris-virginica', 'Iris-virginica',\n",
       "       'Iris-virginica', 'Iris-virginica', 'Iris-virginica',\n",
       "       'Iris-virginica', 'Iris-virginica', 'Iris-virginica',\n",
       "       'Iris-virginica', 'Iris-virginica', 'Iris-virginica',\n",
       "       'Iris-virginica', 'Iris-virginica', 'Iris-virginica',\n",
       "       'Iris-virginica', 'Iris-virginica', 'Iris-virginica',\n",
       "       'Iris-virginica', 'Iris-virginica', 'Iris-virginica',\n",
       "       'Iris-virginica', 'Iris-virginica'], dtype=object)"
      ]
     },
     "execution_count": 28,
     "metadata": {},
     "output_type": "execute_result"
    }
   ],
   "source": [
    "f2"
   ]
  },
  {
   "cell_type": "code",
   "execution_count": 29,
   "metadata": {},
   "outputs": [],
   "source": [
    "from sklearn.impute import SimpleImputer\n",
    "\n",
    "imputer = SimpleImputer(missing_values=np.nan, strategy=\"mean\")\n",
    "imputer = imputer.fit(t1[:, 1:4])\n",
    "t1[:, 1:4] = imputer.transform(t1[:, 1:4])"
   ]
  },
  {
   "cell_type": "code",
   "execution_count": 30,
   "metadata": {},
   "outputs": [
    {
     "data": {
      "text/plain": [
       "array([[3.5, 1.4, 0.2],\n",
       "       [3. , 1.4, 0.2],\n",
       "       [3.2, 1.3, 0.2],\n",
       "       [3.1, 1.5, 0.2],\n",
       "       [3.6, 1.4, 0.2],\n",
       "       [3.9, 1.7, 0.4],\n",
       "       [3.4, 1.4, 0.3],\n",
       "       [3.4, 1.5, 0.2],\n",
       "       [2.9, 1.4, 0.2],\n",
       "       [3.1, 1.5, 0.1],\n",
       "       [3.7, 1.5, 0.2],\n",
       "       [3.4, 1.6, 0.2],\n",
       "       [3. , 1.4, 0.1],\n",
       "       [3. , 1.1, 0.1],\n",
       "       [4. , 1.2, 0.2],\n",
       "       [4.4, 1.5, 0.4],\n",
       "       [3.9, 1.3, 0.4],\n",
       "       [3.5, 1.4, 0.3],\n",
       "       [3.8, 1.7, 0.3],\n",
       "       [3.8, 1.5, 0.3],\n",
       "       [3.4, 1.7, 0.2],\n",
       "       [3.7, 1.5, 0.4],\n",
       "       [3.6, 1. , 0.2],\n",
       "       [3.3, 1.7, 0.5],\n",
       "       [3.4, 1.9, 0.2],\n",
       "       [3. , 1.6, 0.2],\n",
       "       [3.4, 1.6, 0.4],\n",
       "       [3.5, 1.5, 0.2],\n",
       "       [3.4, 1.4, 0.2],\n",
       "       [3.2, 1.6, 0.2],\n",
       "       [3.1, 1.6, 0.2],\n",
       "       [3.4, 1.5, 0.4],\n",
       "       [4.1, 1.5, 0.1],\n",
       "       [4.2, 1.4, 0.2],\n",
       "       [3.1, 1.5, 0.1],\n",
       "       [3.2, 1.2, 0.2],\n",
       "       [3.5, 1.3, 0.2],\n",
       "       [3.1, 1.5, 0.1],\n",
       "       [3. , 1.3, 0.2],\n",
       "       [3.4, 1.5, 0.2],\n",
       "       [3.5, 1.3, 0.3],\n",
       "       [2.3, 1.3, 0.3],\n",
       "       [3.2, 1.3, 0.2],\n",
       "       [3.5, 1.6, 0.6],\n",
       "       [3.8, 1.9, 0.4],\n",
       "       [3. , 1.4, 0.3],\n",
       "       [3.8, 1.6, 0.2],\n",
       "       [3.2, 1.4, 0.2],\n",
       "       [3.7, 1.5, 0.2],\n",
       "       [3.3, 1.4, 0.2],\n",
       "       [3.2, 4.7, 1.4],\n",
       "       [3.2, 4.5, 1.5],\n",
       "       [3.1, 4.9, 1.5],\n",
       "       [2.3, 4. , 1.3],\n",
       "       [2.8, 4.6, 1.5],\n",
       "       [2.8, 4.5, 1.3],\n",
       "       [3.3, 4.7, 1.6],\n",
       "       [2.4, 3.3, 1. ],\n",
       "       [2.9, 4.6, 1.3],\n",
       "       [2.7, 3.9, 1.4],\n",
       "       [2. , 3.5, 1. ],\n",
       "       [3. , 4.2, 1.5],\n",
       "       [2.2, 4. , 1. ],\n",
       "       [2.9, 4.7, 1.4],\n",
       "       [2.9, 3.6, 1.3],\n",
       "       [3.1, 4.4, 1.4],\n",
       "       [3. , 4.5, 1.5],\n",
       "       [2.7, 4.1, 1. ],\n",
       "       [2.2, 4.5, 1.5],\n",
       "       [2.5, 3.9, 1.1],\n",
       "       [3.2, 4.8, 1.8],\n",
       "       [2.8, 4. , 1.3],\n",
       "       [2.5, 4.9, 1.5],\n",
       "       [2.8, 4.7, 1.2],\n",
       "       [2.9, 4.3, 1.3],\n",
       "       [3. , 4.4, 1.4],\n",
       "       [2.8, 4.8, 1.4],\n",
       "       [3. , 5. , 1.7],\n",
       "       [2.9, 4.5, 1.5],\n",
       "       [2.6, 3.5, 1. ],\n",
       "       [2.4, 3.8, 1.1],\n",
       "       [2.4, 3.7, 1. ],\n",
       "       [2.7, 3.9, 1.2],\n",
       "       [2.7, 5.1, 1.6],\n",
       "       [3. , 4.5, 1.5],\n",
       "       [3.4, 4.5, 1.6],\n",
       "       [3.1, 4.7, 1.5],\n",
       "       [2.3, 4.4, 1.3],\n",
       "       [3. , 4.1, 1.3],\n",
       "       [2.5, 4. , 1.3],\n",
       "       [2.6, 4.4, 1.2],\n",
       "       [3. , 4.6, 1.4],\n",
       "       [2.6, 4. , 1.2],\n",
       "       [2.3, 3.3, 1. ],\n",
       "       [2.7, 4.2, 1.3],\n",
       "       [3. , 4.2, 1.2],\n",
       "       [2.9, 4.2, 1.3],\n",
       "       [2.9, 4.3, 1.3],\n",
       "       [2.5, 3. , 1.1],\n",
       "       [2.8, 4.1, 1.3],\n",
       "       [3.3, 6. , 2.5],\n",
       "       [2.7, 5.1, 1.9],\n",
       "       [3. , 5.9, 2.1],\n",
       "       [2.9, 5.6, 1.8],\n",
       "       [3. , 5.8, 2.2],\n",
       "       [3. , 6.6, 2.1],\n",
       "       [2.5, 4.5, 1.7],\n",
       "       [2.9, 6.3, 1.8],\n",
       "       [2.5, 5.8, 1.8],\n",
       "       [3.6, 6.1, 2.5],\n",
       "       [3.2, 5.1, 2. ],\n",
       "       [2.7, 5.3, 1.9],\n",
       "       [3. , 5.5, 2.1],\n",
       "       [2.5, 5. , 2. ],\n",
       "       [2.8, 5.1, 2.4],\n",
       "       [3.2, 5.3, 2.3],\n",
       "       [3. , 5.5, 1.8],\n",
       "       [3.8, 6.7, 2.2],\n",
       "       [2.6, 6.9, 2.3],\n",
       "       [2.2, 5. , 1.5],\n",
       "       [3.2, 5.7, 2.3],\n",
       "       [2.8, 4.9, 2. ],\n",
       "       [2.8, 6.7, 2. ],\n",
       "       [2.7, 4.9, 1.8],\n",
       "       [3.3, 5.7, 2.1],\n",
       "       [3.2, 6. , 1.8],\n",
       "       [2.8, 4.8, 1.8],\n",
       "       [3. , 4.9, 1.8],\n",
       "       [2.8, 5.6, 2.1],\n",
       "       [3. , 5.8, 1.6],\n",
       "       [2.8, 6.1, 1.9],\n",
       "       [3.8, 6.4, 2. ],\n",
       "       [2.8, 5.6, 2.2],\n",
       "       [2.8, 5.1, 1.5],\n",
       "       [2.6, 5.6, 1.4],\n",
       "       [3. , 6.1, 2.3],\n",
       "       [3.4, 5.6, 2.4],\n",
       "       [3.1, 5.5, 1.8],\n",
       "       [3. , 4.8, 1.8],\n",
       "       [3.1, 5.4, 2.1],\n",
       "       [3.1, 5.6, 2.4],\n",
       "       [3.1, 5.1, 2.3],\n",
       "       [2.7, 5.1, 1.9],\n",
       "       [3.2, 5.9, 2.3],\n",
       "       [3.3, 5.7, 2.5],\n",
       "       [3. , 5.2, 2.3],\n",
       "       [2.5, 5. , 1.9],\n",
       "       [3. , 5.2, 2. ],\n",
       "       [3.4, 5.4, 2.3],\n",
       "       [3. , 5.1, 1.8]])"
      ]
     },
     "execution_count": 30,
     "metadata": {},
     "output_type": "execute_result"
    }
   ],
   "source": [
    "t1"
   ]
  },
  {
   "cell_type": "code",
   "execution_count": 31,
   "metadata": {},
   "outputs": [],
   "source": [
    "from sklearn.preprocessing import StandardScaler\n",
    "\n",
    "scaler = StandardScaler()\n",
    "t1 = scaler.fit_transform(t1)"
   ]
  },
  {
   "cell_type": "code",
   "execution_count": 32,
   "metadata": {},
   "outputs": [
    {
     "data": {
      "text/plain": [
       "StandardScaler(copy=True, with_mean=True, with_std=True)"
      ]
     },
     "execution_count": 32,
     "metadata": {},
     "output_type": "execute_result"
    }
   ],
   "source": [
    "scaler"
   ]
  },
  {
   "cell_type": "code",
   "execution_count": 33,
   "metadata": {},
   "outputs": [
    {
     "data": {
      "text/plain": [
       "array([[ 1.03205722e+00, -1.34127240e+00, -1.31297673e+00],\n",
       "       [-1.24957601e-01, -1.34127240e+00, -1.31297673e+00],\n",
       "       [ 3.37848329e-01, -1.39813811e+00, -1.31297673e+00],\n",
       "       [ 1.06445364e-01, -1.28440670e+00, -1.31297673e+00],\n",
       "       [ 1.26346019e+00, -1.34127240e+00, -1.31297673e+00],\n",
       "       [ 1.95766909e+00, -1.17067529e+00, -1.05003079e+00],\n",
       "       [ 8.00654259e-01, -1.34127240e+00, -1.18150376e+00],\n",
       "       [ 8.00654259e-01, -1.28440670e+00, -1.31297673e+00],\n",
       "       [-3.56360566e-01, -1.34127240e+00, -1.31297673e+00],\n",
       "       [ 1.06445364e-01, -1.28440670e+00, -1.44444970e+00],\n",
       "       [ 1.49486315e+00, -1.28440670e+00, -1.31297673e+00],\n",
       "       [ 8.00654259e-01, -1.22754100e+00, -1.31297673e+00],\n",
       "       [-1.24957601e-01, -1.34127240e+00, -1.44444970e+00],\n",
       "       [-1.24957601e-01, -1.51186952e+00, -1.44444970e+00],\n",
       "       [ 2.18907205e+00, -1.45500381e+00, -1.31297673e+00],\n",
       "       [ 3.11468391e+00, -1.28440670e+00, -1.05003079e+00],\n",
       "       [ 1.95766909e+00, -1.39813811e+00, -1.05003079e+00],\n",
       "       [ 1.03205722e+00, -1.34127240e+00, -1.18150376e+00],\n",
       "       [ 1.72626612e+00, -1.17067529e+00, -1.18150376e+00],\n",
       "       [ 1.72626612e+00, -1.28440670e+00, -1.18150376e+00],\n",
       "       [ 8.00654259e-01, -1.17067529e+00, -1.31297673e+00],\n",
       "       [ 1.49486315e+00, -1.28440670e+00, -1.05003079e+00],\n",
       "       [ 1.26346019e+00, -1.56873522e+00, -1.31297673e+00],\n",
       "       [ 5.69251294e-01, -1.17067529e+00, -9.18557817e-01],\n",
       "       [ 8.00654259e-01, -1.05694388e+00, -1.31297673e+00],\n",
       "       [-1.24957601e-01, -1.22754100e+00, -1.31297673e+00],\n",
       "       [ 8.00654259e-01, -1.22754100e+00, -1.05003079e+00],\n",
       "       [ 1.03205722e+00, -1.28440670e+00, -1.31297673e+00],\n",
       "       [ 8.00654259e-01, -1.34127240e+00, -1.31297673e+00],\n",
       "       [ 3.37848329e-01, -1.22754100e+00, -1.31297673e+00],\n",
       "       [ 1.06445364e-01, -1.22754100e+00, -1.31297673e+00],\n",
       "       [ 8.00654259e-01, -1.28440670e+00, -1.05003079e+00],\n",
       "       [ 2.42047502e+00, -1.28440670e+00, -1.44444970e+00],\n",
       "       [ 2.65187798e+00, -1.34127240e+00, -1.31297673e+00],\n",
       "       [ 1.06445364e-01, -1.28440670e+00, -1.44444970e+00],\n",
       "       [ 3.37848329e-01, -1.45500381e+00, -1.31297673e+00],\n",
       "       [ 1.03205722e+00, -1.39813811e+00, -1.31297673e+00],\n",
       "       [ 1.06445364e-01, -1.28440670e+00, -1.44444970e+00],\n",
       "       [-1.24957601e-01, -1.39813811e+00, -1.31297673e+00],\n",
       "       [ 8.00654259e-01, -1.28440670e+00, -1.31297673e+00],\n",
       "       [ 1.03205722e+00, -1.39813811e+00, -1.18150376e+00],\n",
       "       [-1.74477836e+00, -1.39813811e+00, -1.18150376e+00],\n",
       "       [ 3.37848329e-01, -1.39813811e+00, -1.31297673e+00],\n",
       "       [ 1.03205722e+00, -1.22754100e+00, -7.87084847e-01],\n",
       "       [ 1.72626612e+00, -1.05694388e+00, -1.05003079e+00],\n",
       "       [-1.24957601e-01, -1.34127240e+00, -1.18150376e+00],\n",
       "       [ 1.72626612e+00, -1.22754100e+00, -1.31297673e+00],\n",
       "       [ 3.37848329e-01, -1.34127240e+00, -1.31297673e+00],\n",
       "       [ 1.49486315e+00, -1.28440670e+00, -1.31297673e+00],\n",
       "       [ 5.69251294e-01, -1.34127240e+00, -1.31297673e+00],\n",
       "       [ 3.37848329e-01,  5.35295827e-01,  2.64698913e-01],\n",
       "       [ 3.37848329e-01,  4.21564419e-01,  3.96171883e-01],\n",
       "       [ 1.06445364e-01,  6.49027235e-01,  3.96171883e-01],\n",
       "       [-1.74477836e+00,  1.37235899e-01,  1.33225943e-01],\n",
       "       [-5.87763531e-01,  4.78430123e-01,  3.96171883e-01],\n",
       "       [-5.87763531e-01,  4.21564419e-01,  1.33225943e-01],\n",
       "       [ 5.69251294e-01,  5.35295827e-01,  5.27644853e-01],\n",
       "       [-1.51337539e+00, -2.60824029e-01, -2.61192967e-01],\n",
       "       [-3.56360566e-01,  4.78430123e-01,  1.33225943e-01],\n",
       "       [-8.19166497e-01,  8.03701950e-02,  2.64698913e-01],\n",
       "       [-2.43898725e+00, -1.47092621e-01, -2.61192967e-01],\n",
       "       [-1.24957601e-01,  2.50967307e-01,  3.96171883e-01],\n",
       "       [-1.97618132e+00,  1.37235899e-01, -2.61192967e-01],\n",
       "       [-3.56360566e-01,  5.35295827e-01,  2.64698913e-01],\n",
       "       [-3.56360566e-01, -9.02269170e-02,  1.33225943e-01],\n",
       "       [ 1.06445364e-01,  3.64698715e-01,  2.64698913e-01],\n",
       "       [-1.24957601e-01,  4.21564419e-01,  3.96171883e-01],\n",
       "       [-8.19166497e-01,  1.94101603e-01, -2.61192967e-01],\n",
       "       [-1.97618132e+00,  4.21564419e-01,  3.96171883e-01],\n",
       "       [-1.28197243e+00,  8.03701950e-02, -1.29719997e-01],\n",
       "       [ 3.37848329e-01,  5.92161531e-01,  7.90590793e-01],\n",
       "       [-5.87763531e-01,  1.37235899e-01,  1.33225943e-01],\n",
       "       [-1.28197243e+00,  6.49027235e-01,  3.96171883e-01],\n",
       "       [-5.87763531e-01,  5.35295827e-01,  1.75297293e-03],\n",
       "       [-3.56360566e-01,  3.07833011e-01,  1.33225943e-01],\n",
       "       [-1.24957601e-01,  3.64698715e-01,  2.64698913e-01],\n",
       "       [-5.87763531e-01,  5.92161531e-01,  2.64698913e-01],\n",
       "       [-1.24957601e-01,  7.05892939e-01,  6.59117823e-01],\n",
       "       [-3.56360566e-01,  4.21564419e-01,  3.96171883e-01],\n",
       "       [-1.05056946e+00, -1.47092621e-01, -2.61192967e-01],\n",
       "       [-1.51337539e+00,  2.35044910e-02, -1.29719997e-01],\n",
       "       [-1.51337539e+00, -3.33612130e-02, -2.61192967e-01],\n",
       "       [-8.19166497e-01,  8.03701950e-02,  1.75297293e-03],\n",
       "       [-8.19166497e-01,  7.62758643e-01,  5.27644853e-01],\n",
       "       [-1.24957601e-01,  4.21564419e-01,  3.96171883e-01],\n",
       "       [ 8.00654259e-01,  4.21564419e-01,  5.27644853e-01],\n",
       "       [ 1.06445364e-01,  5.35295827e-01,  3.96171883e-01],\n",
       "       [-1.74477836e+00,  3.64698715e-01,  1.33225943e-01],\n",
       "       [-1.24957601e-01,  1.94101603e-01,  1.33225943e-01],\n",
       "       [-1.28197243e+00,  1.37235899e-01,  1.33225943e-01],\n",
       "       [-1.05056946e+00,  3.64698715e-01,  1.75297293e-03],\n",
       "       [-1.24957601e-01,  4.78430123e-01,  2.64698913e-01],\n",
       "       [-1.05056946e+00,  1.37235899e-01,  1.75297293e-03],\n",
       "       [-1.74477836e+00, -2.60824029e-01, -2.61192967e-01],\n",
       "       [-8.19166497e-01,  2.50967307e-01,  1.33225943e-01],\n",
       "       [-1.24957601e-01,  2.50967307e-01,  1.75297293e-03],\n",
       "       [-3.56360566e-01,  2.50967307e-01,  1.33225943e-01],\n",
       "       [-3.56360566e-01,  3.07833011e-01,  1.33225943e-01],\n",
       "       [-1.28197243e+00, -4.31421141e-01, -1.29719997e-01],\n",
       "       [-5.87763531e-01,  1.94101603e-01,  1.33225943e-01],\n",
       "       [ 5.69251294e-01,  1.27454998e+00,  1.71090158e+00],\n",
       "       [-8.19166497e-01,  7.62758643e-01,  9.22063763e-01],\n",
       "       [-1.24957601e-01,  1.21768427e+00,  1.18500970e+00],\n",
       "       [-3.56360566e-01,  1.04708716e+00,  7.90590793e-01],\n",
       "       [-1.24957601e-01,  1.16081857e+00,  1.31648267e+00],\n",
       "       [-1.24957601e-01,  1.61574420e+00,  1.18500970e+00],\n",
       "       [-1.28197243e+00,  4.21564419e-01,  6.59117823e-01],\n",
       "       [-3.56360566e-01,  1.44514709e+00,  7.90590793e-01],\n",
       "       [-1.28197243e+00,  1.16081857e+00,  7.90590793e-01],\n",
       "       [ 1.26346019e+00,  1.33141568e+00,  1.71090158e+00],\n",
       "       [ 3.37848329e-01,  7.62758643e-01,  1.05353673e+00],\n",
       "       [-8.19166497e-01,  8.76490051e-01,  9.22063763e-01],\n",
       "       [-1.24957601e-01,  9.90221459e-01,  1.18500970e+00],\n",
       "       [-1.28197243e+00,  7.05892939e-01,  1.05353673e+00],\n",
       "       [-5.87763531e-01,  7.62758643e-01,  1.57942861e+00],\n",
       "       [ 3.37848329e-01,  8.76490051e-01,  1.44795564e+00],\n",
       "       [-1.24957601e-01,  9.90221459e-01,  7.90590793e-01],\n",
       "       [ 1.72626612e+00,  1.67260991e+00,  1.31648267e+00],\n",
       "       [-1.05056946e+00,  1.78634131e+00,  1.44795564e+00],\n",
       "       [-1.97618132e+00,  7.05892939e-01,  3.96171883e-01],\n",
       "       [ 3.37848329e-01,  1.10395287e+00,  1.44795564e+00],\n",
       "       [-5.87763531e-01,  6.49027235e-01,  1.05353673e+00],\n",
       "       [-5.87763531e-01,  1.67260991e+00,  1.05353673e+00],\n",
       "       [-8.19166497e-01,  6.49027235e-01,  7.90590793e-01],\n",
       "       [ 5.69251294e-01,  1.10395287e+00,  1.18500970e+00],\n",
       "       [ 3.37848329e-01,  1.27454998e+00,  7.90590793e-01],\n",
       "       [-5.87763531e-01,  5.92161531e-01,  7.90590793e-01],\n",
       "       [-1.24957601e-01,  6.49027235e-01,  7.90590793e-01],\n",
       "       [-5.87763531e-01,  1.04708716e+00,  1.18500970e+00],\n",
       "       [-1.24957601e-01,  1.16081857e+00,  5.27644853e-01],\n",
       "       [-5.87763531e-01,  1.33141568e+00,  9.22063763e-01],\n",
       "       [ 1.72626612e+00,  1.50201279e+00,  1.05353673e+00],\n",
       "       [-5.87763531e-01,  1.04708716e+00,  1.31648267e+00],\n",
       "       [-5.87763531e-01,  7.62758643e-01,  3.96171883e-01],\n",
       "       [-1.05056946e+00,  1.04708716e+00,  2.64698913e-01],\n",
       "       [-1.24957601e-01,  1.33141568e+00,  1.44795564e+00],\n",
       "       [ 8.00654259e-01,  1.04708716e+00,  1.57942861e+00],\n",
       "       [ 1.06445364e-01,  9.90221459e-01,  7.90590793e-01],\n",
       "       [-1.24957601e-01,  5.92161531e-01,  7.90590793e-01],\n",
       "       [ 1.06445364e-01,  9.33355755e-01,  1.18500970e+00],\n",
       "       [ 1.06445364e-01,  1.04708716e+00,  1.57942861e+00],\n",
       "       [ 1.06445364e-01,  7.62758643e-01,  1.44795564e+00],\n",
       "       [-8.19166497e-01,  7.62758643e-01,  9.22063763e-01],\n",
       "       [ 3.37848329e-01,  1.21768427e+00,  1.44795564e+00],\n",
       "       [ 5.69251294e-01,  1.10395287e+00,  1.71090158e+00],\n",
       "       [-1.24957601e-01,  8.19624347e-01,  1.44795564e+00],\n",
       "       [-1.28197243e+00,  7.05892939e-01,  9.22063763e-01],\n",
       "       [-1.24957601e-01,  8.19624347e-01,  1.05353673e+00],\n",
       "       [ 8.00654259e-01,  9.33355755e-01,  1.44795564e+00],\n",
       "       [-1.24957601e-01,  7.62758643e-01,  7.90590793e-01]])"
      ]
     },
     "execution_count": 33,
     "metadata": {},
     "output_type": "execute_result"
    }
   ],
   "source": [
    "t1"
   ]
  },
  {
   "cell_type": "code",
   "execution_count": 38,
   "metadata": {},
   "outputs": [],
   "source": [
    "from sklearn.model_selection import train_test_split\n",
    "\n",
    "previsores_treinamento, previsores_teste, classe_treinamento, classe_teste = train_test_split(t1, f2, test_size=0.25, random_state=0)"
   ]
  },
  {
   "cell_type": "markdown",
   "metadata": {},
   "source": [
    "**Naive bayes**"
   ]
  },
  {
   "cell_type": "code",
   "execution_count": 40,
   "metadata": {},
   "outputs": [
    {
     "data": {
      "text/plain": [
       "array(['Iris-virginica', 'Iris-versicolor', 'Iris-setosa',\n",
       "       'Iris-virginica', 'Iris-setosa', 'Iris-virginica', 'Iris-setosa',\n",
       "       'Iris-versicolor', 'Iris-versicolor', 'Iris-versicolor',\n",
       "       'Iris-virginica', 'Iris-versicolor', 'Iris-versicolor',\n",
       "       'Iris-versicolor', 'Iris-versicolor', 'Iris-setosa',\n",
       "       'Iris-versicolor', 'Iris-versicolor', 'Iris-setosa', 'Iris-setosa',\n",
       "       'Iris-virginica', 'Iris-versicolor', 'Iris-setosa', 'Iris-setosa',\n",
       "       'Iris-virginica', 'Iris-setosa', 'Iris-setosa', 'Iris-versicolor',\n",
       "       'Iris-versicolor', 'Iris-setosa', 'Iris-virginica',\n",
       "       'Iris-versicolor', 'Iris-setosa', 'Iris-virginica',\n",
       "       'Iris-virginica', 'Iris-versicolor', 'Iris-setosa',\n",
       "       'Iris-virginica'], dtype=object)"
      ]
     },
     "execution_count": 40,
     "metadata": {},
     "output_type": "execute_result"
    }
   ],
   "source": [
    "from sklearn.neighbors import KNeighborsClassifier\n",
    "\n",
    "classificador = KNeighborsClassifier(n_neighbors=5, metric='minkowski', p = 2)\n",
    "classificador.fit(previsores_treinamento, classe_treinamento)\n",
    "previsores = classificador.predict(previsores_teste)\n",
    "previsores"
   ]
  },
  {
   "cell_type": "markdown",
   "metadata": {},
   "source": [
    "**K-NN**"
   ]
  },
  {
   "cell_type": "code",
   "execution_count": 41,
   "metadata": {},
   "outputs": [
    {
     "data": {
      "text/plain": [
       "array(['Iris-virginica', 'Iris-versicolor', 'Iris-setosa',\n",
       "       'Iris-virginica', 'Iris-setosa', 'Iris-virginica', 'Iris-setosa',\n",
       "       'Iris-versicolor', 'Iris-versicolor', 'Iris-versicolor',\n",
       "       'Iris-virginica', 'Iris-versicolor', 'Iris-versicolor',\n",
       "       'Iris-versicolor', 'Iris-versicolor', 'Iris-setosa',\n",
       "       'Iris-versicolor', 'Iris-versicolor', 'Iris-setosa', 'Iris-setosa',\n",
       "       'Iris-virginica', 'Iris-versicolor', 'Iris-setosa', 'Iris-setosa',\n",
       "       'Iris-virginica', 'Iris-setosa', 'Iris-setosa', 'Iris-versicolor',\n",
       "       'Iris-versicolor', 'Iris-setosa', 'Iris-virginica',\n",
       "       'Iris-versicolor', 'Iris-setosa', 'Iris-virginica',\n",
       "       'Iris-virginica', 'Iris-versicolor', 'Iris-setosa',\n",
       "       'Iris-virginica'], dtype=object)"
      ]
     },
     "execution_count": 41,
     "metadata": {},
     "output_type": "execute_result"
    }
   ],
   "source": [
    "from sklearn.neighbors import KNeighborsClassifier\n",
    "\n",
    "classificador = KNeighborsClassifier(n_neighbors=5, metric='minkowski', p = 2)\n",
    "classificador.fit(previsores_treinamento, classe_treinamento)\n",
    "previsoes = classificador.predict(previsores_teste)\n",
    "previsoes"
   ]
  },
  {
   "cell_type": "markdown",
   "metadata": {},
   "source": [
    "# Modelo"
   ]
  },
  {
   "cell_type": "markdown",
   "metadata": {},
   "source": [
    "**Modelo de Machine learning**"
   ]
  },
  {
   "cell_type": "code",
   "execution_count": 42,
   "metadata": {},
   "outputs": [],
   "source": [
    "from sklearn.metrics import confusion_matrix, accuracy_score\n",
    "\n",
    "precisao = accuracy_score(classe_teste, previsoes)\n",
    "matriz = confusion_matrix(classe_teste, previsoes)"
   ]
  },
  {
   "cell_type": "code",
   "execution_count": 43,
   "metadata": {},
   "outputs": [
    {
     "name": "stdout",
     "output_type": "stream",
     "text": [
      "Acuracia foi: 97.37\n"
     ]
    }
   ],
   "source": [
    "print(\"Acuracia foi: %.2f\" % (precisao * 100))"
   ]
  },
  {
   "cell_type": "code",
   "execution_count": 44,
   "metadata": {},
   "outputs": [
    {
     "name": "stdout",
     "output_type": "stream",
     "text": [
      "Matrix de confusão\n",
      "[[13  0  0]\n",
      " [ 0 15  1]\n",
      " [ 0  0  9]]\n"
     ]
    }
   ],
   "source": [
    "print(\"Matrix de confusão\")\n",
    "print(matriz)"
   ]
  },
  {
   "cell_type": "code",
   "execution_count": 45,
   "metadata": {},
   "outputs": [
    {
     "data": {
      "text/plain": [
       "array(['Iris-virginica', 'Iris-versicolor', 'Iris-setosa',\n",
       "       'Iris-virginica', 'Iris-setosa', 'Iris-virginica', 'Iris-setosa',\n",
       "       'Iris-versicolor', 'Iris-versicolor', 'Iris-versicolor',\n",
       "       'Iris-virginica', 'Iris-versicolor', 'Iris-versicolor',\n",
       "       'Iris-versicolor', 'Iris-versicolor', 'Iris-setosa',\n",
       "       'Iris-versicolor', 'Iris-versicolor', 'Iris-setosa', 'Iris-setosa',\n",
       "       'Iris-virginica', 'Iris-versicolor', 'Iris-setosa', 'Iris-setosa',\n",
       "       'Iris-virginica', 'Iris-setosa', 'Iris-setosa', 'Iris-versicolor',\n",
       "       'Iris-versicolor', 'Iris-setosa', 'Iris-virginica',\n",
       "       'Iris-versicolor', 'Iris-setosa', 'Iris-virginica',\n",
       "       'Iris-virginica', 'Iris-versicolor', 'Iris-setosa',\n",
       "       'Iris-versicolor'], dtype=object)"
      ]
     },
     "execution_count": 45,
     "metadata": {},
     "output_type": "execute_result"
    }
   ],
   "source": [
    "classe_teste"
   ]
  },
  {
   "cell_type": "code",
   "execution_count": 46,
   "metadata": {},
   "outputs": [
    {
     "data": {
      "text/plain": [
       "array(['Iris-virginica', 'Iris-versicolor', 'Iris-setosa',\n",
       "       'Iris-virginica', 'Iris-setosa', 'Iris-virginica', 'Iris-setosa',\n",
       "       'Iris-versicolor', 'Iris-versicolor', 'Iris-versicolor',\n",
       "       'Iris-virginica', 'Iris-versicolor', 'Iris-versicolor',\n",
       "       'Iris-versicolor', 'Iris-versicolor', 'Iris-setosa',\n",
       "       'Iris-versicolor', 'Iris-versicolor', 'Iris-setosa', 'Iris-setosa',\n",
       "       'Iris-virginica', 'Iris-versicolor', 'Iris-setosa', 'Iris-setosa',\n",
       "       'Iris-virginica', 'Iris-setosa', 'Iris-setosa', 'Iris-versicolor',\n",
       "       'Iris-versicolor', 'Iris-setosa', 'Iris-virginica',\n",
       "       'Iris-versicolor', 'Iris-setosa', 'Iris-virginica',\n",
       "       'Iris-virginica', 'Iris-versicolor', 'Iris-setosa',\n",
       "       'Iris-virginica'], dtype=object)"
      ]
     },
     "execution_count": 46,
     "metadata": {},
     "output_type": "execute_result"
    }
   ],
   "source": [
    "previsoes"
   ]
  },
  {
   "cell_type": "code",
   "execution_count": 47,
   "metadata": {},
   "outputs": [
    {
     "data": {
      "text/plain": [
       "Counter({'Iris-virginica': 9, 'Iris-versicolor': 16, 'Iris-setosa': 13})"
      ]
     },
     "execution_count": 47,
     "metadata": {},
     "output_type": "execute_result"
    }
   ],
   "source": [
    "import collections\n",
    "collections.Counter(classe_teste)"
   ]
  },
  {
   "cell_type": "code",
   "execution_count": null,
   "metadata": {},
   "outputs": [],
   "source": []
  }
 ],
 "metadata": {
  "kernelspec": {
   "display_name": "Python 3",
   "language": "python",
   "name": "python3"
  },
  "language_info": {
   "codemirror_mode": {
    "name": "ipython",
    "version": 3
   },
   "file_extension": ".py",
   "mimetype": "text/x-python",
   "name": "python",
   "nbconvert_exporter": "python",
   "pygments_lexer": "ipython3",
   "version": "3.7.7"
  }
 },
 "nbformat": 4,
 "nbformat_minor": 4
}
