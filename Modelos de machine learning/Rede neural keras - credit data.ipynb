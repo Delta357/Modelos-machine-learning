{
 "cells": [
  {
   "cell_type": "code",
   "execution_count": 1,
   "metadata": {},
   "outputs": [],
   "source": [
    "import pandas as pd"
   ]
  },
  {
   "cell_type": "code",
   "execution_count": 2,
   "metadata": {},
   "outputs": [
    {
     "data": {
      "text/html": [
       "<div>\n",
       "<style scoped>\n",
       "    .dataframe tbody tr th:only-of-type {\n",
       "        vertical-align: middle;\n",
       "    }\n",
       "\n",
       "    .dataframe tbody tr th {\n",
       "        vertical-align: top;\n",
       "    }\n",
       "\n",
       "    .dataframe thead th {\n",
       "        text-align: right;\n",
       "    }\n",
       "</style>\n",
       "<table border=\"1\" class=\"dataframe\">\n",
       "  <thead>\n",
       "    <tr style=\"text-align: right;\">\n",
       "      <th></th>\n",
       "      <th>i#clientid</th>\n",
       "      <th>income</th>\n",
       "      <th>age</th>\n",
       "      <th>loan</th>\n",
       "      <th>c#default</th>\n",
       "    </tr>\n",
       "  </thead>\n",
       "  <tbody>\n",
       "    <tr>\n",
       "      <th>0</th>\n",
       "      <td>1</td>\n",
       "      <td>66155.925095</td>\n",
       "      <td>59.017015</td>\n",
       "      <td>8106.532131</td>\n",
       "      <td>0</td>\n",
       "    </tr>\n",
       "    <tr>\n",
       "      <th>1</th>\n",
       "      <td>2</td>\n",
       "      <td>34415.153966</td>\n",
       "      <td>48.117153</td>\n",
       "      <td>6564.745018</td>\n",
       "      <td>0</td>\n",
       "    </tr>\n",
       "    <tr>\n",
       "      <th>2</th>\n",
       "      <td>3</td>\n",
       "      <td>57317.170063</td>\n",
       "      <td>63.108049</td>\n",
       "      <td>8020.953296</td>\n",
       "      <td>0</td>\n",
       "    </tr>\n",
       "    <tr>\n",
       "      <th>3</th>\n",
       "      <td>4</td>\n",
       "      <td>42709.534201</td>\n",
       "      <td>45.751972</td>\n",
       "      <td>6103.642260</td>\n",
       "      <td>0</td>\n",
       "    </tr>\n",
       "    <tr>\n",
       "      <th>4</th>\n",
       "      <td>5</td>\n",
       "      <td>66952.688845</td>\n",
       "      <td>18.584336</td>\n",
       "      <td>8770.099235</td>\n",
       "      <td>1</td>\n",
       "    </tr>\n",
       "    <tr>\n",
       "      <th>...</th>\n",
       "      <td>...</td>\n",
       "      <td>...</td>\n",
       "      <td>...</td>\n",
       "      <td>...</td>\n",
       "      <td>...</td>\n",
       "    </tr>\n",
       "    <tr>\n",
       "      <th>1995</th>\n",
       "      <td>1996</td>\n",
       "      <td>59221.044874</td>\n",
       "      <td>48.518179</td>\n",
       "      <td>1926.729397</td>\n",
       "      <td>0</td>\n",
       "    </tr>\n",
       "    <tr>\n",
       "      <th>1996</th>\n",
       "      <td>1997</td>\n",
       "      <td>69516.127573</td>\n",
       "      <td>23.162104</td>\n",
       "      <td>3503.176156</td>\n",
       "      <td>0</td>\n",
       "    </tr>\n",
       "    <tr>\n",
       "      <th>1997</th>\n",
       "      <td>1998</td>\n",
       "      <td>44311.449262</td>\n",
       "      <td>28.017167</td>\n",
       "      <td>5522.786693</td>\n",
       "      <td>1</td>\n",
       "    </tr>\n",
       "    <tr>\n",
       "      <th>1998</th>\n",
       "      <td>1999</td>\n",
       "      <td>43756.056605</td>\n",
       "      <td>63.971796</td>\n",
       "      <td>1622.722598</td>\n",
       "      <td>0</td>\n",
       "    </tr>\n",
       "    <tr>\n",
       "      <th>1999</th>\n",
       "      <td>2000</td>\n",
       "      <td>69436.579552</td>\n",
       "      <td>56.152617</td>\n",
       "      <td>7378.833599</td>\n",
       "      <td>0</td>\n",
       "    </tr>\n",
       "  </tbody>\n",
       "</table>\n",
       "<p>2000 rows × 5 columns</p>\n",
       "</div>"
      ],
      "text/plain": [
       "      i#clientid        income        age         loan  c#default\n",
       "0              1  66155.925095  59.017015  8106.532131          0\n",
       "1              2  34415.153966  48.117153  6564.745018          0\n",
       "2              3  57317.170063  63.108049  8020.953296          0\n",
       "3              4  42709.534201  45.751972  6103.642260          0\n",
       "4              5  66952.688845  18.584336  8770.099235          1\n",
       "...          ...           ...        ...          ...        ...\n",
       "1995        1996  59221.044874  48.518179  1926.729397          0\n",
       "1996        1997  69516.127573  23.162104  3503.176156          0\n",
       "1997        1998  44311.449262  28.017167  5522.786693          1\n",
       "1998        1999  43756.056605  63.971796  1622.722598          0\n",
       "1999        2000  69436.579552  56.152617  7378.833599          0\n",
       "\n",
       "[2000 rows x 5 columns]"
      ]
     },
     "execution_count": 2,
     "metadata": {},
     "output_type": "execute_result"
    }
   ],
   "source": [
    "base = pd.read_csv('credit_data.csv')\n",
    "base.loc[base.age < 0, 'age'] = 40.92\n",
    "base"
   ]
  },
  {
   "cell_type": "code",
   "execution_count": 4,
   "metadata": {},
   "outputs": [],
   "source": [
    "previsores = base.iloc[:, 1:4].values\n",
    "classe = base.iloc[:, 4].values"
   ]
  },
  {
   "cell_type": "code",
   "execution_count": 5,
   "metadata": {},
   "outputs": [
    {
     "data": {
      "text/plain": [
       "array([[6.61559251e+04, 5.90170151e+01, 8.10653213e+03],\n",
       "       [3.44151540e+04, 4.81171531e+01, 6.56474502e+03],\n",
       "       [5.73171701e+04, 6.31080495e+01, 8.02095330e+03],\n",
       "       ...,\n",
       "       [4.43114493e+04, 2.80171669e+01, 5.52278669e+03],\n",
       "       [4.37560566e+04, 6.39717958e+01, 1.62272260e+03],\n",
       "       [6.94365796e+04, 5.61526170e+01, 7.37883360e+03]])"
      ]
     },
     "execution_count": 5,
     "metadata": {},
     "output_type": "execute_result"
    }
   ],
   "source": [
    "previsores"
   ]
  },
  {
   "cell_type": "code",
   "execution_count": 6,
   "metadata": {},
   "outputs": [
    {
     "data": {
      "text/plain": [
       "array([0, 0, 0, ..., 1, 0, 0], dtype=int64)"
      ]
     },
     "execution_count": 6,
     "metadata": {},
     "output_type": "execute_result"
    }
   ],
   "source": [
    "classe"
   ]
  },
  {
   "cell_type": "code",
   "execution_count": 9,
   "metadata": {},
   "outputs": [
    {
     "data": {
      "text/plain": [
       "array([[ 1.45393393,  1.36435651,  1.20281942],\n",
       "       [-0.76217555,  0.54225305,  0.69642695],\n",
       "       [ 0.83682073,  1.67291579,  1.17471147],\n",
       "       ...,\n",
       "       [-0.07122592, -0.97375405,  0.35420081],\n",
       "       [-0.11000289,  1.73806238, -0.92675625],\n",
       "       [ 1.682986  ,  1.14831418,  0.96381038]])"
      ]
     },
     "execution_count": 9,
     "metadata": {},
     "output_type": "execute_result"
    }
   ],
   "source": [
    "from sklearn.preprocessing import StandardScaler\n",
    "\n",
    "scaler = StandardScaler()\n",
    "previsores = scaler.fit_transform(previsores)\n",
    "previsores"
   ]
  },
  {
   "cell_type": "code",
   "execution_count": 10,
   "metadata": {},
   "outputs": [],
   "source": [
    "from sklearn.model_selection import train_test_split\n",
    "\n",
    "previsores_treinamento, previsores_teste, classe_treinamento, classe_teste = train_test_split(previsores, classe, test_size=0.25, random_state=0)"
   ]
  },
  {
   "cell_type": "code",
   "execution_count": 11,
   "metadata": {},
   "outputs": [
    {
     "name": "stderr",
     "output_type": "stream",
     "text": [
      "Using TensorFlow backend.\n",
      "C:\\Users\\RafaelHenriqueGallo\\AppData\\Roaming\\Python\\Python37\\site-packages\\ipykernel_launcher.py:11: UserWarning: The `nb_epoch` argument in `fit` has been renamed `epochs`.\n",
      "  # This is added back by InteractiveShellApp.init_path()\n"
     ]
    },
    {
     "name": "stdout",
     "output_type": "stream",
     "text": [
      "Epoch 1/100\n",
      "1500/1500 [==============================] - 9s 6ms/step - loss: 0.8042 - accuracy: 0.6813\n",
      "Epoch 2/100\n",
      "1500/1500 [==============================] - 0s 277us/step - loss: 0.6283 - accuracy: 0.8540\n",
      "Epoch 3/100\n",
      "1500/1500 [==============================] - 0s 256us/step - loss: 0.5942 - accuracy: 0.8540\n",
      "Epoch 4/100\n",
      "1500/1500 [==============================] - 1s 354us/step - loss: 0.5643 - accuracy: 0.8540\n",
      "Epoch 5/100\n",
      "1500/1500 [==============================] - 0s 263us/step - loss: 0.5386 - accuracy: 0.8540\n",
      "Epoch 6/100\n",
      "1500/1500 [==============================] - 0s 285us/step - loss: 0.5167 - accuracy: 0.8540\n",
      "Epoch 7/100\n",
      "1500/1500 [==============================] - 0s 262us/step - loss: 0.4984 - accuracy: 0.8540\n",
      "Epoch 8/100\n",
      "1500/1500 [==============================] - 0s 272us/step - loss: 0.4831 - accuracy: 0.8540\n",
      "Epoch 9/100\n",
      "1500/1500 [==============================] - 0s 314us/step - loss: 0.4703 - accuracy: 0.8540\n",
      "Epoch 10/100\n",
      "1500/1500 [==============================] - 0s 280us/step - loss: 0.4597 - accuracy: 0.8540\n",
      "Epoch 11/100\n",
      "1500/1500 [==============================] - 0s 259us/step - loss: 0.4509 - accuracy: 0.8540\n",
      "Epoch 12/100\n",
      "1500/1500 [==============================] - 0s 323us/step - loss: 0.4438 - accuracy: 0.8540\n",
      "Epoch 13/100\n",
      "1500/1500 [==============================] - 0s 252us/step - loss: 0.4380 - accuracy: 0.8540\n",
      "Epoch 14/100\n",
      "1500/1500 [==============================] - 0s 308us/step - loss: 0.4333 - accuracy: 0.8540\n",
      "Epoch 15/100\n",
      "1500/1500 [==============================] - 0s 249us/step - loss: 0.4295 - accuracy: 0.8540\n",
      "Epoch 16/100\n",
      "1500/1500 [==============================] - 0s 250us/step - loss: 0.4265 - accuracy: 0.8540\n",
      "Epoch 17/100\n",
      "1500/1500 [==============================] - 0s 302us/step - loss: 0.4241 - accuracy: 0.8540\n",
      "Epoch 18/100\n",
      "1500/1500 [==============================] - 0s 247us/step - loss: 0.4222 - accuracy: 0.8540\n",
      "Epoch 19/100\n",
      "1500/1500 [==============================] - 0s 252us/step - loss: 0.4206 - accuracy: 0.8540\n",
      "Epoch 20/100\n",
      "1500/1500 [==============================] - 0s 291us/step - loss: 0.4195 - accuracy: 0.8540\n",
      "Epoch 21/100\n",
      "1500/1500 [==============================] - 0s 257us/step - loss: 0.4185 - accuracy: 0.8540\n",
      "Epoch 22/100\n",
      "1500/1500 [==============================] - 0s 274us/step - loss: 0.4179 - accuracy: 0.8540\n",
      "Epoch 23/100\n",
      "1500/1500 [==============================] - 0s 278us/step - loss: 0.4173 - accuracy: 0.8540\n",
      "Epoch 24/100\n",
      "1500/1500 [==============================] - 0s 245us/step - loss: 0.4169 - accuracy: 0.8540\n",
      "Epoch 25/100\n",
      "1500/1500 [==============================] - 0s 307us/step - loss: 0.4166 - accuracy: 0.8540\n",
      "Epoch 26/100\n",
      "1500/1500 [==============================] - 0s 251us/step - loss: 0.4164 - accuracy: 0.8540\n",
      "Epoch 27/100\n",
      "1500/1500 [==============================] - 0s 268us/step - loss: 0.4162 - accuracy: 0.8540\n",
      "Epoch 28/100\n",
      "1500/1500 [==============================] - 0s 293us/step - loss: 0.4161 - accuracy: 0.8540\n",
      "Epoch 29/100\n",
      "1500/1500 [==============================] - 0s 250us/step - loss: 0.4160 - accuracy: 0.8540\n",
      "Epoch 30/100\n",
      "1500/1500 [==============================] - 0s 254us/step - loss: 0.4159 - accuracy: 0.8540\n",
      "Epoch 31/100\n",
      "1500/1500 [==============================] - 0s 297us/step - loss: 0.4159 - accuracy: 0.8540\n",
      "Epoch 32/100\n",
      "1500/1500 [==============================] - 0s 252us/step - loss: 0.4158 - accuracy: 0.8540\n",
      "Epoch 33/100\n",
      "1500/1500 [==============================] - 0s 309us/step - loss: 0.4158 - accuracy: 0.8540\n",
      "Epoch 34/100\n",
      "1500/1500 [==============================] - 0s 259us/step - loss: 0.4158 - accuracy: 0.8540\n",
      "Epoch 35/100\n",
      "1500/1500 [==============================] - 0s 266us/step - loss: 0.4158 - accuracy: 0.8540\n",
      "Epoch 36/100\n",
      "1500/1500 [==============================] - 0s 318us/step - loss: 0.4158 - accuracy: 0.8540\n",
      "Epoch 37/100\n",
      "1500/1500 [==============================] - 0s 256us/step - loss: 0.4158 - accuracy: 0.8540\n",
      "Epoch 38/100\n",
      "1500/1500 [==============================] - 0s 262us/step - loss: 0.4158 - accuracy: 0.8540\n",
      "Epoch 39/100\n",
      "1500/1500 [==============================] - 0s 282us/step - loss: 0.4158 - accuracy: 0.8540\n",
      "Epoch 40/100\n",
      "1500/1500 [==============================] - 0s 267us/step - loss: 0.4158 - accuracy: 0.8540\n",
      "Epoch 41/100\n",
      "1500/1500 [==============================] - 0s 278us/step - loss: 0.4157 - accuracy: 0.8540\n",
      "Epoch 42/100\n",
      "1500/1500 [==============================] - 0s 266us/step - loss: 0.4158 - accuracy: 0.8540\n",
      "Epoch 43/100\n",
      "1500/1500 [==============================] - 0s 253us/step - loss: 0.4157 - accuracy: 0.8540\n",
      "Epoch 44/100\n",
      "1500/1500 [==============================] - 0s 296us/step - loss: 0.4158 - accuracy: 0.8540\n",
      "Epoch 45/100\n",
      "1500/1500 [==============================] - 0s 253us/step - loss: 0.4158 - accuracy: 0.8540\n",
      "Epoch 46/100\n",
      "1500/1500 [==============================] - 0s 252us/step - loss: 0.4157 - accuracy: 0.8540\n",
      "Epoch 47/100\n",
      "1500/1500 [==============================] - 0s 279us/step - loss: 0.4158 - accuracy: 0.8540\n",
      "Epoch 48/100\n",
      "1500/1500 [==============================] - 0s 253us/step - loss: 0.4157 - accuracy: 0.8540\n",
      "Epoch 49/100\n",
      "1500/1500 [==============================] - 0s 251us/step - loss: 0.4157 - accuracy: 0.8540\n",
      "Epoch 50/100\n",
      "1500/1500 [==============================] - 0s 280us/step - loss: 0.4157 - accuracy: 0.8540\n",
      "Epoch 51/100\n",
      "1500/1500 [==============================] - 0s 253us/step - loss: 0.4157 - accuracy: 0.8540\n",
      "Epoch 52/100\n",
      "1500/1500 [==============================] - 0s 250us/step - loss: 0.4158 - accuracy: 0.8540\n",
      "Epoch 53/100\n",
      "1500/1500 [==============================] - 0s 291us/step - loss: 0.4157 - accuracy: 0.8540\n",
      "Epoch 54/100\n",
      "1500/1500 [==============================] - 0s 255us/step - loss: 0.4157 - accuracy: 0.8540\n",
      "Epoch 55/100\n",
      "1500/1500 [==============================] - 0s 289us/step - loss: 0.4157 - accuracy: 0.8540\n",
      "Epoch 56/100\n",
      "1500/1500 [==============================] - 0s 255us/step - loss: 0.4157 - accuracy: 0.8540\n",
      "Epoch 57/100\n",
      "1500/1500 [==============================] - 0s 260us/step - loss: 0.4157 - accuracy: 0.8540\n",
      "Epoch 58/100\n",
      "1500/1500 [==============================] - 0s 311us/step - loss: 0.4158 - accuracy: 0.8540\n",
      "Epoch 59/100\n",
      "1500/1500 [==============================] - 0s 251us/step - loss: 0.4158 - accuracy: 0.8540\n",
      "Epoch 60/100\n",
      "1500/1500 [==============================] - 0s 253us/step - loss: 0.4158 - accuracy: 0.8540\n",
      "Epoch 61/100\n",
      "1500/1500 [==============================] - 0s 279us/step - loss: 0.4157 - accuracy: 0.8540\n",
      "Epoch 62/100\n",
      "1500/1500 [==============================] - 0s 256us/step - loss: 0.4157 - accuracy: 0.8540\n",
      "Epoch 63/100\n",
      "1500/1500 [==============================] - 0s 257us/step - loss: 0.4157 - accuracy: 0.8540\n",
      "Epoch 64/100\n",
      "1500/1500 [==============================] - 0s 293us/step - loss: 0.4157 - accuracy: 0.8540\n",
      "Epoch 65/100\n",
      "1500/1500 [==============================] - 0s 241us/step - loss: 0.4158 - accuracy: 0.8540\n",
      "Epoch 66/100\n",
      "1500/1500 [==============================] - 0s 328us/step - loss: 0.4158 - accuracy: 0.8540\n",
      "Epoch 67/100\n",
      "1500/1500 [==============================] - 0s 277us/step - loss: 0.4158 - accuracy: 0.8540\n",
      "Epoch 68/100\n",
      "1500/1500 [==============================] - 0s 279us/step - loss: 0.4158 - accuracy: 0.8540\n",
      "Epoch 69/100\n",
      "1500/1500 [==============================] - 0s 332us/step - loss: 0.4157 - accuracy: 0.8540\n",
      "Epoch 70/100\n",
      "1500/1500 [==============================] - 0s 268us/step - loss: 0.4157 - accuracy: 0.8540\n",
      "Epoch 71/100\n",
      "1500/1500 [==============================] - 0s 316us/step - loss: 0.4158 - accuracy: 0.8540\n",
      "Epoch 72/100\n",
      "1500/1500 [==============================] - 0s 276us/step - loss: 0.4158 - accuracy: 0.8540\n",
      "Epoch 73/100\n",
      "1500/1500 [==============================] - 0s 269us/step - loss: 0.4158 - accuracy: 0.8540\n",
      "Epoch 74/100\n",
      "1500/1500 [==============================] - 0s 305us/step - loss: 0.4157 - accuracy: 0.8540\n",
      "Epoch 75/100\n",
      "1500/1500 [==============================] - 0s 270us/step - loss: 0.4157 - accuracy: 0.8540\n",
      "Epoch 76/100\n",
      "1500/1500 [==============================] - 0s 307us/step - loss: 0.4157 - accuracy: 0.8540\n",
      "Epoch 77/100\n",
      "1500/1500 [==============================] - 0s 276us/step - loss: 0.4158 - accuracy: 0.8540\n",
      "Epoch 78/100\n",
      "1500/1500 [==============================] - 0s 264us/step - loss: 0.4158 - accuracy: 0.8540\n",
      "Epoch 79/100\n",
      "1500/1500 [==============================] - 0s 298us/step - loss: 0.4158 - accuracy: 0.8540\n",
      "Epoch 80/100\n",
      "1500/1500 [==============================] - 0s 257us/step - loss: 0.4157 - accuracy: 0.8540\n",
      "Epoch 81/100\n",
      "1500/1500 [==============================] - 0s 270us/step - loss: 0.4157 - accuracy: 0.8540\n",
      "Epoch 82/100\n",
      "1500/1500 [==============================] - 0s 311us/step - loss: 0.4157 - accuracy: 0.8540\n",
      "Epoch 83/100\n",
      "1500/1500 [==============================] - 0s 265us/step - loss: 0.4158 - accuracy: 0.8540\n",
      "Epoch 84/100\n",
      "1500/1500 [==============================] - 0s 293us/step - loss: 0.4157 - accuracy: 0.8540\n",
      "Epoch 85/100\n",
      "1500/1500 [==============================] - 0s 265us/step - loss: 0.4157 - accuracy: 0.8540\n",
      "Epoch 86/100\n",
      "1500/1500 [==============================] - 0s 263us/step - loss: 0.4158 - accuracy: 0.8540\n",
      "Epoch 87/100\n",
      "1500/1500 [==============================] - 0s 327us/step - loss: 0.4157 - accuracy: 0.8540\n",
      "Epoch 88/100\n",
      "1500/1500 [==============================] - 0s 287us/step - loss: 0.4158 - accuracy: 0.8540\n",
      "Epoch 89/100\n",
      "1500/1500 [==============================] - 0s 263us/step - loss: 0.4157 - accuracy: 0.8540\n",
      "Epoch 90/100\n",
      "1500/1500 [==============================] - 0s 312us/step - loss: 0.4157 - accuracy: 0.8540\n",
      "Epoch 91/100\n",
      "1500/1500 [==============================] - 0s 251us/step - loss: 0.4157 - accuracy: 0.8540\n",
      "Epoch 92/100\n",
      "1500/1500 [==============================] - 0s 327us/step - loss: 0.4158 - accuracy: 0.8540\n",
      "Epoch 93/100\n",
      "1500/1500 [==============================] - 0s 261us/step - loss: 0.4157 - accuracy: 0.8540\n",
      "Epoch 94/100\n",
      "1500/1500 [==============================] - 0s 287us/step - loss: 0.4158 - accuracy: 0.8540\n",
      "Epoch 95/100\n",
      "1500/1500 [==============================] - 0s 314us/step - loss: 0.4157 - accuracy: 0.8540\n",
      "Epoch 96/100\n",
      "1500/1500 [==============================] - 0s 288us/step - loss: 0.4158 - accuracy: 0.8540\n",
      "Epoch 97/100\n",
      "1500/1500 [==============================] - 0s 319us/step - loss: 0.4158 - accuracy: 0.8540\n",
      "Epoch 98/100\n",
      "1500/1500 [==============================] - 0s 273us/step - loss: 0.4157 - accuracy: 0.8540\n",
      "Epoch 99/100\n",
      "1500/1500 [==============================] - 0s 267us/step - loss: 0.4158 - accuracy: 0.8540\n",
      "Epoch 100/100\n",
      "1500/1500 [==============================] - 0s 316us/step - loss: 0.4157 - accuracy: 0.8540\n"
     ]
    }
   ],
   "source": [
    "import keras\n",
    "from keras.models import Sequential\n",
    "from keras.layers import Dense\n",
    "\n",
    "classificador = Sequential()\n",
    "classificador.add(Dense(units = 2, activation = 'relu', input_dim = 3))\n",
    "classificador.add(Dense(units = 2, activation = 'relu'))\n",
    "classificador.add(Dense(units = 1, activation = 'sigmoid'))\n",
    "classificador.compile(optimizer = 'adam', loss = 'binary_crossentropy', metrics = ['accuracy'])\n",
    "\n",
    "classificador.fit(previsores_treinamento, classe_treinamento, batch_size = 10, nb_epoch = 100)\n",
    "previsoes = classificador.predict(previsores_teste)\n",
    "previsoes = (previsoes > 0.5)"
   ]
  },
  {
   "cell_type": "code",
   "execution_count": 12,
   "metadata": {},
   "outputs": [],
   "source": [
    "from sklearn.metrics import confusion_matrix, accuracy_score\n",
    "\n",
    "precisao = accuracy_score(classe_teste, previsoes)\n",
    "matriz = confusion_matrix(classe_teste, previsoes)"
   ]
  },
  {
   "cell_type": "code",
   "execution_count": 13,
   "metadata": {},
   "outputs": [
    {
     "data": {
      "text/plain": [
       "0.872"
      ]
     },
     "execution_count": 13,
     "metadata": {},
     "output_type": "execute_result"
    }
   ],
   "source": [
    "precisao"
   ]
  },
  {
   "cell_type": "code",
   "execution_count": 14,
   "metadata": {},
   "outputs": [
    {
     "data": {
      "text/plain": [
       "array([[436,   0],\n",
       "       [ 64,   0]], dtype=int64)"
      ]
     },
     "execution_count": 14,
     "metadata": {},
     "output_type": "execute_result"
    }
   ],
   "source": [
    "matriz"
   ]
  },
  {
   "cell_type": "code",
   "execution_count": null,
   "metadata": {},
   "outputs": [],
   "source": []
  },
  {
   "cell_type": "code",
   "execution_count": null,
   "metadata": {},
   "outputs": [],
   "source": []
  },
  {
   "cell_type": "code",
   "execution_count": null,
   "metadata": {},
   "outputs": [],
   "source": []
  },
  {
   "cell_type": "code",
   "execution_count": null,
   "metadata": {},
   "outputs": [],
   "source": []
  },
  {
   "cell_type": "code",
   "execution_count": null,
   "metadata": {},
   "outputs": [],
   "source": []
  }
 ],
 "metadata": {
  "kernelspec": {
   "display_name": "Python 3",
   "language": "python",
   "name": "python3"
  },
  "language_info": {
   "codemirror_mode": {
    "name": "ipython",
    "version": 3
   },
   "file_extension": ".py",
   "mimetype": "text/x-python",
   "name": "python",
   "nbconvert_exporter": "python",
   "pygments_lexer": "ipython3",
   "version": "3.7.7"
  }
 },
 "nbformat": 4,
 "nbformat_minor": 4
}
