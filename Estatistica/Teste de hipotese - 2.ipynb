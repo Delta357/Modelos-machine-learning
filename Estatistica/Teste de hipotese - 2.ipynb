{
 "cells": [
  {
   "cell_type": "code",
   "execution_count": 8,
   "metadata": {},
   "outputs": [],
   "source": [
    "import pandas as pd\n",
    "import numpy as np\n",
    "import seaborn as sns\n",
    "%matplotlib inline\n",
    "import matplotlib.pyplot as plt\n",
    "\n",
    "from statsmodels.stats.weightstats import DescrStatsW\n",
    "from scipy.stats import normaltest\n",
    "from scipy.stats import mannwhitneyu\n",
    "from scipy.stats import t as t_student"
   ]
  },
  {
   "cell_type": "markdown",
   "metadata": {},
   "source": [
    "A empresa Limpa Esgoto garante ser capaz de realizar o tratamento de esgoto e obter, no máximo, 150 g de impurezas para cada mil litros de esgoto tratado. Vinte amostras de mil litros de esgoto apresentaram, em média, 230 g de impurezas e desvio padrão amostral igual a 90 g.\n",
    "\n",
    "Assumindo alfa igual a 5% e população normalmente distribuída, seria possível discordar da empresa Limpa Esgoto? Assinale a alternativa que apresenta a estatística de teste e a decisão correta do teste."
   ]
  },
  {
   "cell_type": "code",
   "execution_count": 2,
   "metadata": {},
   "outputs": [],
   "source": [
    "media_amostra = 230\n",
    "desvio_padrao_amostra = 90\n",
    "media = 150\n",
    "sig = 0.05\n",
    "conf = 1 - sig\n",
    "n = 20\n",
    "grau_de_liberdade = n - 1"
   ]
  },
  {
   "cell_type": "code",
   "execution_count": 3,
   "metadata": {},
   "outputs": [
    {
     "data": {
      "text/plain": [
       "1.729132811521367"
      ]
     },
     "execution_count": 3,
     "metadata": {},
     "output_type": "execute_result"
    }
   ],
   "source": [
    "t_alpha = t_student.ppf(conf, grau_de_liberdade)\n",
    "t_alpha"
   ]
  },
  {
   "cell_type": "code",
   "execution_count": 4,
   "metadata": {},
   "outputs": [
    {
     "data": {
      "text/plain": [
       "3.9752319599996264"
      ]
     },
     "execution_count": 4,
     "metadata": {},
     "output_type": "execute_result"
    }
   ],
   "source": [
    "v_t = (media_amostra - media) / (desvio_padrao_amostra / np.sqrt(n))\n",
    "v_t"
   ]
  },
  {
   "cell_type": "code",
   "execution_count": 5,
   "metadata": {},
   "outputs": [
    {
     "name": "stdout",
     "output_type": "stream",
     "text": [
      "Rejeita H0\n",
      "T(Alpha) = 1.7291\n",
      "T = 3.9752\n"
     ]
    }
   ],
   "source": [
    "if (v_t >= t_alpha):\n",
    "    print(\"Rejeita H0\")\n",
    "else:\n",
    "    print(\"Aceitar H0\")\n",
    "    \n",
    "print(\"T(Alpha) =\", round(t_alpha, 4))\n",
    "print(\"T =\", round(v_t, 4))"
   ]
  },
  {
   "cell_type": "markdown",
   "metadata": {},
   "source": [
    "Um professor acredita que alunos que praticam exercícios físicos têm uma performance média escolar superior àquela obtida por alunos que não praticam. Para provar sua teoria, selecionou duas amostras aleatórias, uma com 9 alunos que não praticam exercícios físicos e outra com 10 alunos que cultivam o hábito de se exercitar. A tabela abaixo mostra as notas dos alunos no último ano:\n",
    "\n",
    "Teste a hipótese da média das notas dos alunos que praticam exercícios ser maior que a média das notas dos alunos que não praticam. Assinale a alternativa que apresenta o resultado do teste (estatística de teste u e decisão do teste). Considere um nível de significância de 10%."
   ]
  },
  {
   "cell_type": "code",
   "execution_count": 9,
   "metadata": {},
   "outputs": [],
   "source": [
    "sem_Exercicios = pd.Series([7, 6, 7, 8, 6, 8, 6, 9, 5])\n",
    "com_Exercicios = pd.Series([8, 7, 6, 6, 8, 6, 10, 6, 7, 8])\n",
    "\n",
    "significancia = 0.10"
   ]
  },
  {
   "cell_type": "code",
   "execution_count": 10,
   "metadata": {},
   "outputs": [
    {
     "name": "stdout",
     "output_type": "stream",
     "text": [
      "u =  40.0\n",
      "Aceita H0\n"
     ]
    }
   ],
   "source": [
    "u, p_valor = mannwhitneyu(sem_Exercicios, com_Exercicios, alternative = \"less\")\n",
    "\n",
    "print(\"u = \", u)\n",
    "\n",
    "if(p_valor <= significancia):\n",
    "    print(\"Rejeitar H0\")\n",
    "else:\n",
    "    print(\"Aceita H0\")"
   ]
  },
  {
   "cell_type": "code",
   "execution_count": null,
   "metadata": {},
   "outputs": [],
   "source": []
  }
 ],
 "metadata": {
  "kernelspec": {
   "display_name": "Python 3",
   "language": "python",
   "name": "python3"
  },
  "language_info": {
   "codemirror_mode": {
    "name": "ipython",
    "version": 3
   },
   "file_extension": ".py",
   "mimetype": "text/x-python",
   "name": "python",
   "nbconvert_exporter": "python",
   "pygments_lexer": "ipython3",
   "version": "3.7.7"
  }
 },
 "nbformat": 4,
 "nbformat_minor": 4
}
