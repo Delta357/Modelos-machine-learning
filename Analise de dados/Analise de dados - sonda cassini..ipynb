{
 "cells": [
  {
   "cell_type": "markdown",
   "metadata": {},
   "source": [
    "# Anlise de dados da sonda cassini."
   ]
  },
  {
   "cell_type": "code",
   "execution_count": 1,
   "metadata": {},
   "outputs": [],
   "source": [
    "import pandas as pd\n",
    "import numpy as np\n",
    "import matplotlib.pyplot as plt\n",
    "%matplotlib inline"
   ]
  },
  {
   "cell_type": "code",
   "execution_count": 5,
   "metadata": {},
   "outputs": [],
   "source": [
    "cassini = pd.read_csv(\"Dados/cassini.csv\")"
   ]
  },
  {
   "cell_type": "code",
   "execution_count": 6,
   "metadata": {},
   "outputs": [
    {
     "data": {
      "text/html": [
       "<div>\n",
       "<style scoped>\n",
       "    .dataframe tbody tr th:only-of-type {\n",
       "        vertical-align: middle;\n",
       "    }\n",
       "\n",
       "    .dataframe tbody tr th {\n",
       "        vertical-align: top;\n",
       "    }\n",
       "\n",
       "    .dataframe thead th {\n",
       "        text-align: right;\n",
       "    }\n",
       "</style>\n",
       "<table border=\"1\" class=\"dataframe\">\n",
       "  <thead>\n",
       "    <tr style=\"text-align: right;\">\n",
       "      <th></th>\n",
       "      <th>Cassini Tour of Events Summary</th>\n",
       "      <th>Unnamed: 1</th>\n",
       "      <th>Unnamed: 2</th>\n",
       "      <th>Unnamed: 3</th>\n",
       "      <th>Unnamed: 4</th>\n",
       "      <th>Unnamed: 5</th>\n",
       "      <th>Unnamed: 6</th>\n",
       "      <th>Unnamed: 7</th>\n",
       "    </tr>\n",
       "  </thead>\n",
       "  <tbody>\n",
       "    <tr>\n",
       "      <th>0</th>\n",
       "      <td>Apoapse Parameters</td>\n",
       "      <td>NaN</td>\n",
       "      <td>NaN</td>\n",
       "      <td>NaN</td>\n",
       "      <td>NaN</td>\n",
       "      <td>NaN</td>\n",
       "      <td>NaN</td>\n",
       "      <td>NaN</td>\n",
       "    </tr>\n",
       "    <tr>\n",
       "      <th>1</th>\n",
       "      <td>Seq  = Cassini planning sequence, Rev = revolu...</td>\n",
       "      <td>NaN</td>\n",
       "      <td>NaN</td>\n",
       "      <td>NaN</td>\n",
       "      <td>NaN</td>\n",
       "      <td>NaN</td>\n",
       "      <td>NaN</td>\n",
       "      <td>NaN</td>\n",
       "    </tr>\n",
       "    <tr>\n",
       "      <th>2</th>\n",
       "      <td>Inclination= the orbital tilt relative to the ...</td>\n",
       "      <td>NaN</td>\n",
       "      <td>NaN</td>\n",
       "      <td>NaN</td>\n",
       "      <td>NaN</td>\n",
       "      <td>NaN</td>\n",
       "      <td>NaN</td>\n",
       "      <td>NaN</td>\n",
       "    </tr>\n",
       "    <tr>\n",
       "      <th>3</th>\n",
       "      <td>Seq</td>\n",
       "      <td>Rev</td>\n",
       "      <td>Epoch (SCET)</td>\n",
       "      <td>Date</td>\n",
       "      <td>Period (days)</td>\n",
       "      <td>Inclination(deg)</td>\n",
       "      <td>Range (Rs)</td>\n",
       "      <td>NaN</td>\n",
       "    </tr>\n",
       "    <tr>\n",
       "      <th>4</th>\n",
       "      <td>S03</td>\n",
       "      <td>A</td>\n",
       "      <td>2004-240T08:57</td>\n",
       "      <td>Aug27</td>\n",
       "      <td>124.1</td>\n",
       "      <td>17.6</td>\n",
       "      <td>150.760</td>\n",
       "      <td>NaN</td>\n",
       "    </tr>\n",
       "    <tr>\n",
       "      <th>...</th>\n",
       "      <td>...</td>\n",
       "      <td>...</td>\n",
       "      <td>...</td>\n",
       "      <td>...</td>\n",
       "      <td>...</td>\n",
       "      <td>...</td>\n",
       "      <td>...</td>\n",
       "      <td>...</td>\n",
       "    </tr>\n",
       "    <tr>\n",
       "      <th>293</th>\n",
       "      <td>S100</td>\n",
       "      <td>289</td>\n",
       "      <td>2017-229T15:23</td>\n",
       "      <td>Aug17</td>\n",
       "      <td>6.5</td>\n",
       "      <td>61.6</td>\n",
       "      <td>21.166</td>\n",
       "      <td>NaN</td>\n",
       "    </tr>\n",
       "    <tr>\n",
       "      <th>294</th>\n",
       "      <td>S100</td>\n",
       "      <td>290</td>\n",
       "      <td>2017-236T02:34</td>\n",
       "      <td>Aug24</td>\n",
       "      <td>6.5</td>\n",
       "      <td>61.6</td>\n",
       "      <td>21.163</td>\n",
       "      <td>NaN</td>\n",
       "    </tr>\n",
       "    <tr>\n",
       "      <th>295</th>\n",
       "      <td>S101</td>\n",
       "      <td>291</td>\n",
       "      <td>2017-242T13:42</td>\n",
       "      <td>Aug30</td>\n",
       "      <td>6.5</td>\n",
       "      <td>61.6</td>\n",
       "      <td>21.162</td>\n",
       "      <td>NaN</td>\n",
       "    </tr>\n",
       "    <tr>\n",
       "      <th>296</th>\n",
       "      <td>S101</td>\n",
       "      <td>292</td>\n",
       "      <td>2017-249T00:52</td>\n",
       "      <td>Sep06</td>\n",
       "      <td>6.5</td>\n",
       "      <td>61.6</td>\n",
       "      <td>21.165</td>\n",
       "      <td>NaN</td>\n",
       "    </tr>\n",
       "    <tr>\n",
       "      <th>297</th>\n",
       "      <td>S101</td>\n",
       "      <td>293</td>\n",
       "      <td>2017-255T11:51</td>\n",
       "      <td>Sep12</td>\n",
       "      <td>6.4</td>\n",
       "      <td>61.5</td>\n",
       "      <td>21.157</td>\n",
       "      <td>NaN</td>\n",
       "    </tr>\n",
       "  </tbody>\n",
       "</table>\n",
       "<p>298 rows × 8 columns</p>\n",
       "</div>"
      ],
      "text/plain": [
       "                        Cassini Tour of Events Summary Unnamed: 1  \\\n",
       "0                                   Apoapse Parameters        NaN   \n",
       "1    Seq  = Cassini planning sequence, Rev = revolu...        NaN   \n",
       "2    Inclination= the orbital tilt relative to the ...        NaN   \n",
       "3                                                  Seq        Rev   \n",
       "4                                                  S03          A   \n",
       "..                                                 ...        ...   \n",
       "293                                               S100        289   \n",
       "294                                               S100        290   \n",
       "295                                               S101        291   \n",
       "296                                               S101        292   \n",
       "297                                               S101        293   \n",
       "\n",
       "         Unnamed: 2 Unnamed: 3     Unnamed: 4        Unnamed: 5  Unnamed: 6  \\\n",
       "0               NaN        NaN            NaN               NaN         NaN   \n",
       "1               NaN        NaN            NaN               NaN         NaN   \n",
       "2               NaN        NaN            NaN               NaN         NaN   \n",
       "3      Epoch (SCET)       Date  Period (days)  Inclination(deg)  Range (Rs)   \n",
       "4    2004-240T08:57      Aug27          124.1              17.6     150.760   \n",
       "..              ...        ...            ...               ...         ...   \n",
       "293  2017-229T15:23      Aug17            6.5              61.6      21.166   \n",
       "294  2017-236T02:34      Aug24            6.5              61.6      21.163   \n",
       "295  2017-242T13:42      Aug30            6.5              61.6      21.162   \n",
       "296  2017-249T00:52      Sep06            6.5              61.6      21.165   \n",
       "297  2017-255T11:51      Sep12            6.4              61.5      21.157   \n",
       "\n",
       "     Unnamed: 7  \n",
       "0           NaN  \n",
       "1           NaN  \n",
       "2           NaN  \n",
       "3           NaN  \n",
       "4           NaN  \n",
       "..          ...  \n",
       "293         NaN  \n",
       "294         NaN  \n",
       "295         NaN  \n",
       "296         NaN  \n",
       "297         NaN  \n",
       "\n",
       "[298 rows x 8 columns]"
      ]
     },
     "execution_count": 6,
     "metadata": {},
     "output_type": "execute_result"
    }
   ],
   "source": [
    "cassini"
   ]
  },
  {
   "cell_type": "code",
   "execution_count": 7,
   "metadata": {},
   "outputs": [
    {
     "data": {
      "text/html": [
       "<div>\n",
       "<style scoped>\n",
       "    .dataframe tbody tr th:only-of-type {\n",
       "        vertical-align: middle;\n",
       "    }\n",
       "\n",
       "    .dataframe tbody tr th {\n",
       "        vertical-align: top;\n",
       "    }\n",
       "\n",
       "    .dataframe thead th {\n",
       "        text-align: right;\n",
       "    }\n",
       "</style>\n",
       "<table border=\"1\" class=\"dataframe\">\n",
       "  <thead>\n",
       "    <tr style=\"text-align: right;\">\n",
       "      <th></th>\n",
       "      <th>Cassini Tour of Events Summary</th>\n",
       "      <th>Unnamed: 1</th>\n",
       "      <th>Unnamed: 2</th>\n",
       "      <th>Unnamed: 3</th>\n",
       "      <th>Unnamed: 4</th>\n",
       "      <th>Unnamed: 5</th>\n",
       "      <th>Unnamed: 6</th>\n",
       "      <th>Unnamed: 7</th>\n",
       "    </tr>\n",
       "  </thead>\n",
       "  <tbody>\n",
       "    <tr>\n",
       "      <th>0</th>\n",
       "      <td>Apoapse Parameters</td>\n",
       "      <td>NaN</td>\n",
       "      <td>NaN</td>\n",
       "      <td>NaN</td>\n",
       "      <td>NaN</td>\n",
       "      <td>NaN</td>\n",
       "      <td>NaN</td>\n",
       "      <td>NaN</td>\n",
       "    </tr>\n",
       "    <tr>\n",
       "      <th>1</th>\n",
       "      <td>Seq  = Cassini planning sequence, Rev = revolu...</td>\n",
       "      <td>NaN</td>\n",
       "      <td>NaN</td>\n",
       "      <td>NaN</td>\n",
       "      <td>NaN</td>\n",
       "      <td>NaN</td>\n",
       "      <td>NaN</td>\n",
       "      <td>NaN</td>\n",
       "    </tr>\n",
       "    <tr>\n",
       "      <th>2</th>\n",
       "      <td>Inclination= the orbital tilt relative to the ...</td>\n",
       "      <td>NaN</td>\n",
       "      <td>NaN</td>\n",
       "      <td>NaN</td>\n",
       "      <td>NaN</td>\n",
       "      <td>NaN</td>\n",
       "      <td>NaN</td>\n",
       "      <td>NaN</td>\n",
       "    </tr>\n",
       "    <tr>\n",
       "      <th>3</th>\n",
       "      <td>Seq</td>\n",
       "      <td>Rev</td>\n",
       "      <td>Epoch (SCET)</td>\n",
       "      <td>Date</td>\n",
       "      <td>Period (days)</td>\n",
       "      <td>Inclination(deg)</td>\n",
       "      <td>Range (Rs)</td>\n",
       "      <td>NaN</td>\n",
       "    </tr>\n",
       "    <tr>\n",
       "      <th>4</th>\n",
       "      <td>S03</td>\n",
       "      <td>A</td>\n",
       "      <td>2004-240T08:57</td>\n",
       "      <td>Aug27</td>\n",
       "      <td>124.1</td>\n",
       "      <td>17.6</td>\n",
       "      <td>150.760</td>\n",
       "      <td>NaN</td>\n",
       "    </tr>\n",
       "    <tr>\n",
       "      <th>...</th>\n",
       "      <td>...</td>\n",
       "      <td>...</td>\n",
       "      <td>...</td>\n",
       "      <td>...</td>\n",
       "      <td>...</td>\n",
       "      <td>...</td>\n",
       "      <td>...</td>\n",
       "      <td>...</td>\n",
       "    </tr>\n",
       "    <tr>\n",
       "      <th>293</th>\n",
       "      <td>S100</td>\n",
       "      <td>289</td>\n",
       "      <td>2017-229T15:23</td>\n",
       "      <td>Aug17</td>\n",
       "      <td>6.5</td>\n",
       "      <td>61.6</td>\n",
       "      <td>21.166</td>\n",
       "      <td>NaN</td>\n",
       "    </tr>\n",
       "    <tr>\n",
       "      <th>294</th>\n",
       "      <td>S100</td>\n",
       "      <td>290</td>\n",
       "      <td>2017-236T02:34</td>\n",
       "      <td>Aug24</td>\n",
       "      <td>6.5</td>\n",
       "      <td>61.6</td>\n",
       "      <td>21.163</td>\n",
       "      <td>NaN</td>\n",
       "    </tr>\n",
       "    <tr>\n",
       "      <th>295</th>\n",
       "      <td>S101</td>\n",
       "      <td>291</td>\n",
       "      <td>2017-242T13:42</td>\n",
       "      <td>Aug30</td>\n",
       "      <td>6.5</td>\n",
       "      <td>61.6</td>\n",
       "      <td>21.162</td>\n",
       "      <td>NaN</td>\n",
       "    </tr>\n",
       "    <tr>\n",
       "      <th>296</th>\n",
       "      <td>S101</td>\n",
       "      <td>292</td>\n",
       "      <td>2017-249T00:52</td>\n",
       "      <td>Sep06</td>\n",
       "      <td>6.5</td>\n",
       "      <td>61.6</td>\n",
       "      <td>21.165</td>\n",
       "      <td>NaN</td>\n",
       "    </tr>\n",
       "    <tr>\n",
       "      <th>297</th>\n",
       "      <td>S101</td>\n",
       "      <td>293</td>\n",
       "      <td>2017-255T11:51</td>\n",
       "      <td>Sep12</td>\n",
       "      <td>6.4</td>\n",
       "      <td>61.5</td>\n",
       "      <td>21.157</td>\n",
       "      <td>NaN</td>\n",
       "    </tr>\n",
       "  </tbody>\n",
       "</table>\n",
       "<p>298 rows × 8 columns</p>\n",
       "</div>"
      ],
      "text/plain": [
       "                        Cassini Tour of Events Summary Unnamed: 1  \\\n",
       "0                                   Apoapse Parameters        NaN   \n",
       "1    Seq  = Cassini planning sequence, Rev = revolu...        NaN   \n",
       "2    Inclination= the orbital tilt relative to the ...        NaN   \n",
       "3                                                  Seq        Rev   \n",
       "4                                                  S03          A   \n",
       "..                                                 ...        ...   \n",
       "293                                               S100        289   \n",
       "294                                               S100        290   \n",
       "295                                               S101        291   \n",
       "296                                               S101        292   \n",
       "297                                               S101        293   \n",
       "\n",
       "         Unnamed: 2 Unnamed: 3     Unnamed: 4        Unnamed: 5  Unnamed: 6  \\\n",
       "0               NaN        NaN            NaN               NaN         NaN   \n",
       "1               NaN        NaN            NaN               NaN         NaN   \n",
       "2               NaN        NaN            NaN               NaN         NaN   \n",
       "3      Epoch (SCET)       Date  Period (days)  Inclination(deg)  Range (Rs)   \n",
       "4    2004-240T08:57      Aug27          124.1              17.6     150.760   \n",
       "..              ...        ...            ...               ...         ...   \n",
       "293  2017-229T15:23      Aug17            6.5              61.6      21.166   \n",
       "294  2017-236T02:34      Aug24            6.5              61.6      21.163   \n",
       "295  2017-242T13:42      Aug30            6.5              61.6      21.162   \n",
       "296  2017-249T00:52      Sep06            6.5              61.6      21.165   \n",
       "297  2017-255T11:51      Sep12            6.4              61.5      21.157   \n",
       "\n",
       "     Unnamed: 7  \n",
       "0           NaN  \n",
       "1           NaN  \n",
       "2           NaN  \n",
       "3           NaN  \n",
       "4           NaN  \n",
       "..          ...  \n",
       "293         NaN  \n",
       "294         NaN  \n",
       "295         NaN  \n",
       "296         NaN  \n",
       "297         NaN  \n",
       "\n",
       "[298 rows x 8 columns]"
      ]
     },
     "execution_count": 7,
     "metadata": {},
     "output_type": "execute_result"
    }
   ],
   "source": [
    "cassini.head(3000)"
   ]
  },
  {
   "cell_type": "code",
   "execution_count": 8,
   "metadata": {},
   "outputs": [
    {
     "name": "stdout",
     "output_type": "stream",
     "text": [
      "<class 'pandas.core.frame.DataFrame'>\n",
      "RangeIndex: 298 entries, 0 to 297\n",
      "Data columns (total 8 columns):\n",
      "Cassini Tour of Events Summary    298 non-null object\n",
      "Unnamed: 1                        295 non-null object\n",
      "Unnamed: 2                        295 non-null object\n",
      "Unnamed: 3                        295 non-null object\n",
      "Unnamed: 4                        295 non-null object\n",
      "Unnamed: 5                        295 non-null object\n",
      "Unnamed: 6                        295 non-null object\n",
      "Unnamed: 7                        0 non-null float64\n",
      "dtypes: float64(1), object(7)\n",
      "memory usage: 18.8+ KB\n"
     ]
    }
   ],
   "source": [
    "cassini.info()"
   ]
  },
  {
   "cell_type": "code",
   "execution_count": 9,
   "metadata": {},
   "outputs": [
    {
     "data": {
      "text/html": [
       "<div>\n",
       "<style scoped>\n",
       "    .dataframe tbody tr th:only-of-type {\n",
       "        vertical-align: middle;\n",
       "    }\n",
       "\n",
       "    .dataframe tbody tr th {\n",
       "        vertical-align: top;\n",
       "    }\n",
       "\n",
       "    .dataframe thead th {\n",
       "        text-align: right;\n",
       "    }\n",
       "</style>\n",
       "<table border=\"1\" class=\"dataframe\">\n",
       "  <thead>\n",
       "    <tr style=\"text-align: right;\">\n",
       "      <th></th>\n",
       "      <th>Unnamed: 7</th>\n",
       "    </tr>\n",
       "  </thead>\n",
       "  <tbody>\n",
       "    <tr>\n",
       "      <th>count</th>\n",
       "      <td>0.0</td>\n",
       "    </tr>\n",
       "    <tr>\n",
       "      <th>mean</th>\n",
       "      <td>NaN</td>\n",
       "    </tr>\n",
       "    <tr>\n",
       "      <th>std</th>\n",
       "      <td>NaN</td>\n",
       "    </tr>\n",
       "    <tr>\n",
       "      <th>min</th>\n",
       "      <td>NaN</td>\n",
       "    </tr>\n",
       "    <tr>\n",
       "      <th>25%</th>\n",
       "      <td>NaN</td>\n",
       "    </tr>\n",
       "    <tr>\n",
       "      <th>50%</th>\n",
       "      <td>NaN</td>\n",
       "    </tr>\n",
       "    <tr>\n",
       "      <th>75%</th>\n",
       "      <td>NaN</td>\n",
       "    </tr>\n",
       "    <tr>\n",
       "      <th>max</th>\n",
       "      <td>NaN</td>\n",
       "    </tr>\n",
       "  </tbody>\n",
       "</table>\n",
       "</div>"
      ],
      "text/plain": [
       "       Unnamed: 7\n",
       "count         0.0\n",
       "mean          NaN\n",
       "std           NaN\n",
       "min           NaN\n",
       "25%           NaN\n",
       "50%           NaN\n",
       "75%           NaN\n",
       "max           NaN"
      ]
     },
     "execution_count": 9,
     "metadata": {},
     "output_type": "execute_result"
    }
   ],
   "source": [
    "cassini.describe()"
   ]
  },
  {
   "cell_type": "code",
   "execution_count": 10,
   "metadata": {},
   "outputs": [
    {
     "data": {
      "image/png": "[encoded data removed]",
      "text/plain": [
       "<Figure size 432x288 with 1 Axes>"
      ]
     },
     "metadata": {
      "needs_background": "light"
     },
     "output_type": "display_data"
    }
   ],
   "source": [
    "Period = [124, 6.5, 6.5, 6.5, 6.5]\n",
    "Inclination = [17.6, 61.6, 61.6, 61.6, 61.6] \n",
    "Date = [17, 24, 30, 0.6, 12]\n",
    "Epoch = [2004, 2005, 2010, 2015, 2017]\n",
    "\n",
    "plt.bar(Period, Inclination, label = 'Periodo', color = 'y')\n",
    "plt.bar(Period, Inclination, label = 'Data', color = 'b')\n",
    "plt.legend()\n",
    "plt.show()"
   ]
  },
  {
   "cell_type": "code",
   "execution_count": 11,
   "metadata": {},
   "outputs": [
    {
     "data": {
      "image/png": "[encoded data removed]",
      "text/plain": [
       "<Figure size 432x288 with 1 Axes>"
      ]
     },
     "metadata": {
      "needs_background": "light"
     },
     "output_type": "display_data"
    }
   ],
   "source": [
    "df2 = pd.DataFrame(np.random.rand(10, 4), columns=['Época', 'Dias', 'Período(dias)','Inclinação'])\n",
    "df2.plot.bar();"
   ]
  },
  {
   "cell_type": "code",
   "execution_count": 12,
   "metadata": {},
   "outputs": [
    {
     "data": {
      "text/plain": [
       "<matplotlib.axes._subplots.AxesSubplot at 0x2f0f4664128>"
      ]
     },
     "execution_count": 12,
     "metadata": {},
     "output_type": "execute_result"
    },
    {
     "data": {
      "image/png": "[encoded data removed]",
      "text/plain": [
       "<Figure size 432x288 with 1 Axes>"
      ]
     },
     "metadata": {
      "needs_background": "light"
     },
     "output_type": "display_data"
    }
   ],
   "source": [
    "df2.plot.barh(stacked=True)"
   ]
  },
  {
   "cell_type": "markdown",
   "metadata": {},
   "source": [
    "# Grafico da inclinação da sonda entre 2004 a 2015 em Saturno"
   ]
  },
  {
   "cell_type": "code",
   "execution_count": 13,
   "metadata": {},
   "outputs": [
    {
     "data": {
      "image/png": "[encoded data removed]",
      "text/plain": [
       "<Figure size 432x288 with 1 Axes>"
      ]
     },
     "metadata": {
      "needs_background": "light"
     },
     "output_type": "display_data"
    }
   ],
   "source": [
    "t = np.arange(00.2, 3.0, 2.0)\n",
    "s = np.exp(-t)\n",
    "fig, ax = plt.subplots()\n",
    "\n",
    "ax.plot(t, s)\n",
    "ax.set_xlim(2, 0)\n",
    "ax.set_xlabel('Inclinação da sonda em 2004')\n",
    "ax.set_ylabel('Periodo de dias')\n",
    "ax.set_title('Ano 2004')\n",
    "ax.grid(True)\n",
    "plt.show()"
   ]
  },
  {
   "cell_type": "code",
   "execution_count": 14,
   "metadata": {},
   "outputs": [
    {
     "data": {
      "image/png": "[encoded data removed]",
      "text/plain": [
       "<Figure size 432x288 with 1 Axes>"
      ]
     },
     "metadata": {
      "needs_background": "light"
     },
     "output_type": "display_data"
    }
   ],
   "source": [
    "t = np.arange(00.1, 2.0, 1.0)\n",
    "s = np.exp(-t)\n",
    "fig, ax = plt.subplots()\n",
    "\n",
    "ax.plot(t, s)\n",
    "ax.set_xlim(5, 0)\n",
    "ax.set_xlabel('Ano 2015')\n",
    "ax.set_ylabel('Periodo de dias')\n",
    "ax.set_title('Inclinação da sonda em 2015')\n",
    "ax.grid(True)\n",
    "plt.show()"
   ]
  },
  {
   "cell_type": "code",
   "execution_count": 15,
   "metadata": {},
   "outputs": [
    {
     "data": {
      "image/png": "[encoded data removed]",
      "text/plain": [
       "<Figure size 432x288 with 1 Axes>"
      ]
     },
     "metadata": {
      "needs_background": "light"
     },
     "output_type": "display_data"
    }
   ],
   "source": [
    "t = np.arange(00.1, 2.0, 1.0)\n",
    "s = np.exp(-t)\n",
    "fig, ax = plt.subplots()\n",
    "\n",
    "ax.plot(t, s)\n",
    "ax.set_xlim(3, 0)\n",
    "ax.set_xlabel('Ano 2017')\n",
    "ax.set_ylabel('Periodo de dias')\n",
    "ax.set_title('Inclinação da sonda em 2017 no ano 2017')\n",
    "ax.grid(True)\n",
    "plt.show()"
   ]
  },
  {
   "cell_type": "code",
   "execution_count": null,
   "metadata": {},
   "outputs": [],
   "source": []
  }
 ],
 "metadata": {
  "kernelspec": {
   "display_name": "Python 3",
   "language": "python",
   "name": "python3"
  },
  "language_info": {
   "codemirror_mode": {
    "name": "ipython",
    "version": 3
   },
   "file_extension": ".py",
   "mimetype": "text/x-python",
   "name": "python",
   "nbconvert_exporter": "python",
   "pygments_lexer": "ipython3",
   "version": "3.7.4"
  }
 },
 "nbformat": 4,
 "nbformat_minor": 2
}
