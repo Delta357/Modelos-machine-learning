{
 "cells": [
  {
   "cell_type": "code",
   "execution_count": 2,
   "metadata": {},
   "outputs": [
    {
     "name": "stdout",
     "output_type": "stream",
     "text": [
      "Processing c:\\users\\rafaelhenriquegallo\\appdata\\local\\pip\\cache\\wheels\\7d\\ba\\8d\\38b672c3e40d8bd22dd60b8e6e29965b43f2b4be4d064e44d5\\cufflinks-0.17.3-cp37-none-any.whl\n",
      "Requirement already satisfied: plotly>=4.1.1 in c:\\users\\rafaelhenriquegallo\\anaconda\\lib\\site-packages (from cufflinks) (4.8.1)\n",
      "Requirement already satisfied: pandas>=0.19.2 in c:\\users\\rafaelhenriquegallo\\anaconda\\lib\\site-packages (from cufflinks) (1.0.3)\n",
      "Requirement already satisfied: ipython>=5.3.0 in c:\\users\\rafaelhenriquegallo\\appdata\\roaming\\python\\python37\\site-packages (from cufflinks) (6.5.0)\n",
      "Requirement already satisfied: numpy>=1.9.2 in c:\\users\\rafaelhenriquegallo\\appdata\\roaming\\python\\python37\\site-packages (from cufflinks) (1.18.3)\n",
      "Requirement already satisfied: setuptools>=34.4.1 in c:\\users\\rafaelhenriquegallo\\appdata\\roaming\\python\\python37\\site-packages (from cufflinks) (46.1.3)\n",
      "Requirement already satisfied: six>=1.9.0 in c:\\users\\rafaelhenriquegallo\\anaconda\\lib\\site-packages (from cufflinks) (1.15.0)\n",
      "Collecting colorlover>=0.2.1\n",
      "  Using cached colorlover-0.3.0-py3-none-any.whl (8.9 kB)\n",
      "Requirement already satisfied: ipywidgets>=7.0.0 in c:\\users\\rafaelhenriquegallo\\appdata\\roaming\\python\\python37\\site-packages (from cufflinks) (7.5.1)\n",
      "Requirement already satisfied: retrying>=1.3.3 in c:\\users\\rafaelhenriquegallo\\appdata\\roaming\\python\\python37\\site-packages (from plotly>=4.1.1->cufflinks) (1.3.3)\n",
      "Requirement already satisfied: pytz>=2017.2 in c:\\users\\rafaelhenriquegallo\\appdata\\roaming\\python\\python37\\site-packages (from pandas>=0.19.2->cufflinks) (2020.1)\n",
      "Requirement already satisfied: python-dateutil>=2.6.1 in c:\\users\\rafaelhenriquegallo\\anaconda\\lib\\site-packages (from pandas>=0.19.2->cufflinks) (2.8.1)\n",
      "Requirement already satisfied: jedi>=0.10 in c:\\users\\rafaelhenriquegallo\\appdata\\roaming\\python\\python37\\site-packages (from ipython>=5.3.0->cufflinks) (0.17.0)\n",
      "Requirement already satisfied: decorator in c:\\users\\rafaelhenriquegallo\\appdata\\roaming\\python\\python37\\site-packages (from ipython>=5.3.0->cufflinks) (4.4.2)\n",
      "Requirement already satisfied: simplegeneric>0.8 in c:\\users\\rafaelhenriquegallo\\appdata\\roaming\\python\\python37\\site-packages (from ipython>=5.3.0->cufflinks) (0.8.1)\n",
      "Requirement already satisfied: pickleshare in c:\\users\\rafaelhenriquegallo\\appdata\\roaming\\python\\python37\\site-packages (from ipython>=5.3.0->cufflinks) (0.7.5)\n",
      "Requirement already satisfied: traitlets>=4.2 in c:\\users\\rafaelhenriquegallo\\appdata\\roaming\\python\\python37\\site-packages (from ipython>=5.3.0->cufflinks) (4.3.3)\n",
      "Requirement already satisfied: prompt-toolkit<2.0.0,>=1.0.15 in c:\\users\\rafaelhenriquegallo\\appdata\\roaming\\python\\python37\\site-packages (from ipython>=5.3.0->cufflinks) (1.0.18)\n",
      "Requirement already satisfied: backcall in c:\\users\\rafaelhenriquegallo\\appdata\\roaming\\python\\python37\\site-packages (from ipython>=5.3.0->cufflinks) (0.1.0)\n",
      "Requirement already satisfied: colorama; sys_platform == \"win32\" in c:\\users\\rafaelhenriquegallo\\appdata\\roaming\\python\\python37\\site-packages (from ipython>=5.3.0->cufflinks) (0.4.3)\n",
      "Requirement already satisfied: pygments in c:\\users\\rafaelhenriquegallo\\appdata\\roaming\\python\\python37\\site-packages (from ipython>=5.3.0->cufflinks) (2.6.1)\n",
      "Requirement already satisfied: widgetsnbextension~=3.5.0 in c:\\users\\rafaelhenriquegallo\\appdata\\roaming\\python\\python37\\site-packages (from ipywidgets>=7.0.0->cufflinks) (3.5.1)\n",
      "Requirement already satisfied: nbformat>=4.2.0 in c:\\users\\rafaelhenriquegallo\\appdata\\roaming\\python\\python37\\site-packages (from ipywidgets>=7.0.0->cufflinks) (5.0.6)\n",
      "Requirement already satisfied: ipykernel>=4.5.1 in c:\\users\\rafaelhenriquegallo\\appdata\\roaming\\python\\python37\\site-packages (from ipywidgets>=7.0.0->cufflinks) (5.2.1)\n",
      "Requirement already satisfied: parso>=0.7.0 in c:\\users\\rafaelhenriquegallo\\appdata\\roaming\\python\\python37\\site-packages (from jedi>=0.10->ipython>=5.3.0->cufflinks) (0.7.0)\n",
      "Requirement already satisfied: ipython-genutils in c:\\users\\rafaelhenriquegallo\\appdata\\roaming\\python\\python37\\site-packages (from traitlets>=4.2->ipython>=5.3.0->cufflinks) (0.2.0)\n",
      "Requirement already satisfied: wcwidth in c:\\users\\rafaelhenriquegallo\\appdata\\roaming\\python\\python37\\site-packages (from prompt-toolkit<2.0.0,>=1.0.15->ipython>=5.3.0->cufflinks) (0.1.9)\n",
      "Requirement already satisfied: notebook>=4.4.1 in c:\\users\\rafaelhenriquegallo\\appdata\\roaming\\python\\python37\\site-packages (from widgetsnbextension~=3.5.0->ipywidgets>=7.0.0->cufflinks) (5.7.8)\n",
      "Requirement already satisfied: jupyter-core in c:\\users\\rafaelhenriquegallo\\appdata\\roaming\\python\\python37\\site-packages (from nbformat>=4.2.0->ipywidgets>=7.0.0->cufflinks) (4.6.3)\n",
      "Requirement already satisfied: jsonschema!=2.5.0,>=2.4 in c:\\users\\rafaelhenriquegallo\\appdata\\roaming\\python\\python37\\site-packages (from nbformat>=4.2.0->ipywidgets>=7.0.0->cufflinks) (3.2.0)\n",
      "Requirement already satisfied: jupyter-client in c:\\users\\rafaelhenriquegallo\\appdata\\roaming\\python\\python37\\site-packages (from ipykernel>=4.5.1->ipywidgets>=7.0.0->cufflinks) (6.1.3)\n",
      "Requirement already satisfied: tornado>=4.2 in c:\\users\\rafaelhenriquegallo\\anaconda\\lib\\site-packages (from ipykernel>=4.5.1->ipywidgets>=7.0.0->cufflinks) (6.0.4)\n",
      "Requirement already satisfied: prometheus-client in c:\\users\\rafaelhenriquegallo\\appdata\\roaming\\python\\python37\\site-packages (from notebook>=4.4.1->widgetsnbextension~=3.5.0->ipywidgets>=7.0.0->cufflinks) (0.7.1)\n",
      "Requirement already satisfied: nbconvert in c:\\users\\rafaelhenriquegallo\\appdata\\roaming\\python\\python37\\site-packages (from notebook>=4.4.1->widgetsnbextension~=3.5.0->ipywidgets>=7.0.0->cufflinks) (5.6.1)\n",
      "Requirement already satisfied: jinja2 in c:\\users\\rafaelhenriquegallo\\appdata\\roaming\\python\\python37\\site-packages (from notebook>=4.4.1->widgetsnbextension~=3.5.0->ipywidgets>=7.0.0->cufflinks) (2.11.2)\n",
      "Requirement already satisfied: terminado>=0.8.1 in c:\\users\\rafaelhenriquegallo\\appdata\\roaming\\python\\python37\\site-packages (from notebook>=4.4.1->widgetsnbextension~=3.5.0->ipywidgets>=7.0.0->cufflinks) (0.8.3)\n",
      "Requirement already satisfied: pyzmq>=17 in c:\\users\\rafaelhenriquegallo\\appdata\\roaming\\python\\python37\\site-packages (from notebook>=4.4.1->widgetsnbextension~=3.5.0->ipywidgets>=7.0.0->cufflinks) (19.0.0)\n",
      "Requirement already satisfied: Send2Trash in c:\\users\\rafaelhenriquegallo\\appdata\\roaming\\python\\python37\\site-packages (from notebook>=4.4.1->widgetsnbextension~=3.5.0->ipywidgets>=7.0.0->cufflinks) (1.5.0)\n",
      "Requirement already satisfied: pywin32>=1.0; sys_platform == \"win32\" in c:\\users\\rafaelhenriquegallo\\appdata\\roaming\\python\\python37\\site-packages (from jupyter-core->nbformat>=4.2.0->ipywidgets>=7.0.0->cufflinks) (227)\n",
      "Requirement already satisfied: importlib-metadata; python_version < \"3.8\" in c:\\users\\rafaelhenriquegallo\\appdata\\roaming\\python\\python37\\site-packages (from jsonschema!=2.5.0,>=2.4->nbformat>=4.2.0->ipywidgets>=7.0.0->cufflinks) (1.6.0)\n",
      "Requirement already satisfied: pyrsistent>=0.14.0 in c:\\users\\rafaelhenriquegallo\\appdata\\roaming\\python\\python37\\site-packages (from jsonschema!=2.5.0,>=2.4->nbformat>=4.2.0->ipywidgets>=7.0.0->cufflinks) (0.16.0)\n",
      "Requirement already satisfied: attrs>=17.4.0 in c:\\users\\rafaelhenriquegallo\\appdata\\roaming\\python\\python37\\site-packages (from jsonschema!=2.5.0,>=2.4->nbformat>=4.2.0->ipywidgets>=7.0.0->cufflinks) (19.3.0)\n",
      "Requirement already satisfied: entrypoints>=0.2.2 in c:\\users\\rafaelhenriquegallo\\appdata\\roaming\\python\\python37\\site-packages (from nbconvert->notebook>=4.4.1->widgetsnbextension~=3.5.0->ipywidgets>=7.0.0->cufflinks) (0.3)\n",
      "Requirement already satisfied: bleach in c:\\users\\rafaelhenriquegallo\\appdata\\roaming\\python\\python37\\site-packages (from nbconvert->notebook>=4.4.1->widgetsnbextension~=3.5.0->ipywidgets>=7.0.0->cufflinks) (3.1.4)\n",
      "Requirement already satisfied: pandocfilters>=1.4.1 in c:\\users\\rafaelhenriquegallo\\appdata\\roaming\\python\\python37\\site-packages (from nbconvert->notebook>=4.4.1->widgetsnbextension~=3.5.0->ipywidgets>=7.0.0->cufflinks) (1.4.2)\n",
      "Requirement already satisfied: mistune<2,>=0.8.1 in c:\\users\\rafaelhenriquegallo\\appdata\\roaming\\python\\python37\\site-packages (from nbconvert->notebook>=4.4.1->widgetsnbextension~=3.5.0->ipywidgets>=7.0.0->cufflinks) (0.8.4)\n",
      "Requirement already satisfied: testpath in c:\\users\\rafaelhenriquegallo\\appdata\\roaming\\python\\python37\\site-packages (from nbconvert->notebook>=4.4.1->widgetsnbextension~=3.5.0->ipywidgets>=7.0.0->cufflinks) (0.4.4)\n",
      "Requirement already satisfied: defusedxml in c:\\users\\rafaelhenriquegallo\\appdata\\roaming\\python\\python37\\site-packages (from nbconvert->notebook>=4.4.1->widgetsnbextension~=3.5.0->ipywidgets>=7.0.0->cufflinks) (0.6.0)\n",
      "Requirement already satisfied: MarkupSafe>=0.23 in c:\\users\\rafaelhenriquegallo\\appdata\\roaming\\python\\python37\\site-packages (from jinja2->notebook>=4.4.1->widgetsnbextension~=3.5.0->ipywidgets>=7.0.0->cufflinks) (1.1.1)\n",
      "Requirement already satisfied: pywinpty>=0.5; os_name == \"nt\" in c:\\users\\rafaelhenriquegallo\\appdata\\roaming\\python\\python37\\site-packages (from terminado>=0.8.1->notebook>=4.4.1->widgetsnbextension~=3.5.0->ipywidgets>=7.0.0->cufflinks) (0.5.7)\n",
      "Requirement already satisfied: zipp>=0.5 in c:\\users\\rafaelhenriquegallo\\appdata\\roaming\\python\\python37\\site-packages (from importlib-metadata; python_version < \"3.8\"->jsonschema!=2.5.0,>=2.4->nbformat>=4.2.0->ipywidgets>=7.0.0->cufflinks) (3.1.0)\n",
      "Requirement already satisfied: webencodings in c:\\users\\rafaelhenriquegallo\\appdata\\roaming\\python\\python37\\site-packages (from bleach->nbconvert->notebook>=4.4.1->widgetsnbextension~=3.5.0->ipywidgets>=7.0.0->cufflinks) (0.5.1)\n",
      "Installing collected packages: colorlover, cufflinks\n",
      "Successfully installed colorlover-0.3.0 cufflinks-0.17.3\n"
     ]
    }
   ],
   "source": [
    "!pip install cufflinks"
   ]
  },
  {
   "cell_type": "code",
   "execution_count": 3,
   "metadata": {},
   "outputs": [
    {
     "data": {
      "text/html": [
       "        <script type=\"text/javascript\">\n",
       "        window.PlotlyConfig = {MathJaxConfig: 'local'};\n",
       "        if (window.MathJax) {MathJax.Hub.Config({SVG: {font: \"STIX-Web\"}});}\n",
       "        if (typeof require !== 'undefined') {\n",
       "        require.undef(\"plotly\");\n",
       "        requirejs.config({\n",
       "            paths: {\n",
       "                'plotly': ['https://cdn.plot.ly/plotly-latest.min']\n",
       "            }\n",
       "        });\n",
       "        require(['plotly'], function(Plotly) {\n",
       "            window._Plotly = Plotly;\n",
       "        });\n",
       "        }\n",
       "        </script>\n",
       "        "
      ]
     },
     "metadata": {},
     "output_type": "display_data"
    }
   ],
   "source": [
    "import pandas as pd\n",
    "import numpy as np\n",
    "import seaborn as sns\n",
    "import plotly.offline as py\n",
    "import plotly.graph_objs as go\n",
    "import cufflinks as cf\n",
    "from plotly.offline import iplot\n",
    "py.init_notebook_mode(connected=True)\n",
    "\n",
    "%matplotlib inline\n",
    "import matplotlib.pyplot as plt"
   ]
  },
  {
   "cell_type": "code",
   "execution_count": 4,
   "metadata": {},
   "outputs": [
    {
     "data": {
      "text/html": [
       "<div>\n",
       "<style scoped>\n",
       "    .dataframe tbody tr th:only-of-type {\n",
       "        vertical-align: middle;\n",
       "    }\n",
       "\n",
       "    .dataframe tbody tr th {\n",
       "        vertical-align: top;\n",
       "    }\n",
       "\n",
       "    .dataframe thead th {\n",
       "        text-align: right;\n",
       "    }\n",
       "</style>\n",
       "<table border=\"1\" class=\"dataframe\">\n",
       "  <thead>\n",
       "    <tr style=\"text-align: right;\">\n",
       "      <th></th>\n",
       "      <th>Date</th>\n",
       "      <th>Open</th>\n",
       "      <th>High</th>\n",
       "      <th>Low</th>\n",
       "      <th>Close</th>\n",
       "      <th>Adj Close</th>\n",
       "      <th>Volume</th>\n",
       "    </tr>\n",
       "  </thead>\n",
       "  <tbody>\n",
       "    <tr>\n",
       "      <th>0</th>\n",
       "      <td>2013-01-02</td>\n",
       "      <td>19.990000</td>\n",
       "      <td>20.209999</td>\n",
       "      <td>19.690001</td>\n",
       "      <td>19.690001</td>\n",
       "      <td>18.086271</td>\n",
       "      <td>30182600.0</td>\n",
       "    </tr>\n",
       "    <tr>\n",
       "      <th>1</th>\n",
       "      <td>2013-01-03</td>\n",
       "      <td>19.809999</td>\n",
       "      <td>20.400000</td>\n",
       "      <td>19.700001</td>\n",
       "      <td>20.400000</td>\n",
       "      <td>18.738441</td>\n",
       "      <td>30552600.0</td>\n",
       "    </tr>\n",
       "    <tr>\n",
       "      <th>2</th>\n",
       "      <td>2013-01-04</td>\n",
       "      <td>20.330000</td>\n",
       "      <td>20.620001</td>\n",
       "      <td>20.170000</td>\n",
       "      <td>20.430000</td>\n",
       "      <td>18.766001</td>\n",
       "      <td>36141000.0</td>\n",
       "    </tr>\n",
       "    <tr>\n",
       "      <th>3</th>\n",
       "      <td>2013-01-07</td>\n",
       "      <td>20.480000</td>\n",
       "      <td>20.670000</td>\n",
       "      <td>19.950001</td>\n",
       "      <td>20.080000</td>\n",
       "      <td>18.444506</td>\n",
       "      <td>28069600.0</td>\n",
       "    </tr>\n",
       "    <tr>\n",
       "      <th>4</th>\n",
       "      <td>2013-01-08</td>\n",
       "      <td>20.110001</td>\n",
       "      <td>20.230000</td>\n",
       "      <td>19.459999</td>\n",
       "      <td>19.500000</td>\n",
       "      <td>17.911745</td>\n",
       "      <td>29091300.0</td>\n",
       "    </tr>\n",
       "    <tr>\n",
       "      <th>...</th>\n",
       "      <td>...</td>\n",
       "      <td>...</td>\n",
       "      <td>...</td>\n",
       "      <td>...</td>\n",
       "      <td>...</td>\n",
       "      <td>...</td>\n",
       "      <td>...</td>\n",
       "    </tr>\n",
       "    <tr>\n",
       "      <th>1257</th>\n",
       "      <td>2018-01-18</td>\n",
       "      <td>18.350000</td>\n",
       "      <td>18.530001</td>\n",
       "      <td>17.930000</td>\n",
       "      <td>18.219999</td>\n",
       "      <td>18.183632</td>\n",
       "      <td>48575800.0</td>\n",
       "    </tr>\n",
       "    <tr>\n",
       "      <th>1258</th>\n",
       "      <td>2018-01-19</td>\n",
       "      <td>18.309999</td>\n",
       "      <td>18.420000</td>\n",
       "      <td>18.030001</td>\n",
       "      <td>18.260000</td>\n",
       "      <td>18.223553</td>\n",
       "      <td>33470200.0</td>\n",
       "    </tr>\n",
       "    <tr>\n",
       "      <th>1259</th>\n",
       "      <td>2018-01-22</td>\n",
       "      <td>18.260000</td>\n",
       "      <td>18.469999</td>\n",
       "      <td>18.090000</td>\n",
       "      <td>18.469999</td>\n",
       "      <td>18.433134</td>\n",
       "      <td>33920000.0</td>\n",
       "    </tr>\n",
       "    <tr>\n",
       "      <th>1260</th>\n",
       "      <td>2018-01-23</td>\n",
       "      <td>18.400000</td>\n",
       "      <td>18.459999</td>\n",
       "      <td>18.000000</td>\n",
       "      <td>18.240000</td>\n",
       "      <td>18.203592</td>\n",
       "      <td>35567700.0</td>\n",
       "    </tr>\n",
       "    <tr>\n",
       "      <th>1261</th>\n",
       "      <td>2018-01-24</td>\n",
       "      <td>18.420000</td>\n",
       "      <td>19.629999</td>\n",
       "      <td>18.420000</td>\n",
       "      <td>19.340000</td>\n",
       "      <td>19.301397</td>\n",
       "      <td>89768200.0</td>\n",
       "    </tr>\n",
       "  </tbody>\n",
       "</table>\n",
       "<p>1262 rows × 7 columns</p>\n",
       "</div>"
      ],
      "text/plain": [
       "            Date       Open       High        Low      Close  Adj Close  \\\n",
       "0     2013-01-02  19.990000  20.209999  19.690001  19.690001  18.086271   \n",
       "1     2013-01-03  19.809999  20.400000  19.700001  20.400000  18.738441   \n",
       "2     2013-01-04  20.330000  20.620001  20.170000  20.430000  18.766001   \n",
       "3     2013-01-07  20.480000  20.670000  19.950001  20.080000  18.444506   \n",
       "4     2013-01-08  20.110001  20.230000  19.459999  19.500000  17.911745   \n",
       "...          ...        ...        ...        ...        ...        ...   \n",
       "1257  2018-01-18  18.350000  18.530001  17.930000  18.219999  18.183632   \n",
       "1258  2018-01-19  18.309999  18.420000  18.030001  18.260000  18.223553   \n",
       "1259  2018-01-22  18.260000  18.469999  18.090000  18.469999  18.433134   \n",
       "1260  2018-01-23  18.400000  18.459999  18.000000  18.240000  18.203592   \n",
       "1261  2018-01-24  18.420000  19.629999  18.420000  19.340000  19.301397   \n",
       "\n",
       "          Volume  \n",
       "0     30182600.0  \n",
       "1     30552600.0  \n",
       "2     36141000.0  \n",
       "3     28069600.0  \n",
       "4     29091300.0  \n",
       "...          ...  \n",
       "1257  48575800.0  \n",
       "1258  33470200.0  \n",
       "1259  33920000.0  \n",
       "1260  35567700.0  \n",
       "1261  89768200.0  \n",
       "\n",
       "[1262 rows x 7 columns]"
      ]
     },
     "execution_count": 4,
     "metadata": {},
     "output_type": "execute_result"
    }
   ],
   "source": [
    "dados = pd.read_csv(\"Dados\\petr4.csv\")\n",
    "dados"
   ]
  },
  {
   "cell_type": "code",
   "execution_count": 5,
   "metadata": {},
   "outputs": [
    {
     "data": {
      "text/html": [
       "<div>\n",
       "<style scoped>\n",
       "    .dataframe tbody tr th:only-of-type {\n",
       "        vertical-align: middle;\n",
       "    }\n",
       "\n",
       "    .dataframe tbody tr th {\n",
       "        vertical-align: top;\n",
       "    }\n",
       "\n",
       "    .dataframe thead th {\n",
       "        text-align: right;\n",
       "    }\n",
       "</style>\n",
       "<table border=\"1\" class=\"dataframe\">\n",
       "  <thead>\n",
       "    <tr style=\"text-align: right;\">\n",
       "      <th></th>\n",
       "      <th>count</th>\n",
       "      <th>mean</th>\n",
       "      <th>std</th>\n",
       "      <th>min</th>\n",
       "      <th>25%</th>\n",
       "      <th>50%</th>\n",
       "      <th>75%</th>\n",
       "      <th>max</th>\n",
       "    </tr>\n",
       "  </thead>\n",
       "  <tbody>\n",
       "    <tr>\n",
       "      <th>Open</th>\n",
       "      <td>1259.0</td>\n",
       "      <td>1.408627e+01</td>\n",
       "      <td>4.138829e+00</td>\n",
       "      <td>4.200000</td>\n",
       "      <td>1.067500e+01</td>\n",
       "      <td>1.461000e+01</td>\n",
       "      <td>1.723000e+01</td>\n",
       "      <td>2.484000e+01</td>\n",
       "    </tr>\n",
       "    <tr>\n",
       "      <th>High</th>\n",
       "      <td>1259.0</td>\n",
       "      <td>1.432545e+01</td>\n",
       "      <td>4.177621e+00</td>\n",
       "      <td>4.270000</td>\n",
       "      <td>1.094500e+01</td>\n",
       "      <td>1.481000e+01</td>\n",
       "      <td>1.745500e+01</td>\n",
       "      <td>2.490000e+01</td>\n",
       "    </tr>\n",
       "    <tr>\n",
       "      <th>Low</th>\n",
       "      <td>1259.0</td>\n",
       "      <td>1.383163e+01</td>\n",
       "      <td>4.100317e+00</td>\n",
       "      <td>4.120000</td>\n",
       "      <td>1.032500e+01</td>\n",
       "      <td>1.431000e+01</td>\n",
       "      <td>1.691500e+01</td>\n",
       "      <td>2.366000e+01</td>\n",
       "    </tr>\n",
       "    <tr>\n",
       "      <th>Close</th>\n",
       "      <td>1259.0</td>\n",
       "      <td>1.406492e+01</td>\n",
       "      <td>4.139117e+00</td>\n",
       "      <td>4.200000</td>\n",
       "      <td>1.067000e+01</td>\n",
       "      <td>1.452000e+01</td>\n",
       "      <td>1.719500e+01</td>\n",
       "      <td>2.456000e+01</td>\n",
       "    </tr>\n",
       "    <tr>\n",
       "      <th>Adj Close</th>\n",
       "      <td>1259.0</td>\n",
       "      <td>1.375115e+01</td>\n",
       "      <td>3.899131e+00</td>\n",
       "      <td>4.191617</td>\n",
       "      <td>1.064870e+01</td>\n",
       "      <td>1.431138e+01</td>\n",
       "      <td>1.653043e+01</td>\n",
       "      <td>2.451098e+01</td>\n",
       "    </tr>\n",
       "    <tr>\n",
       "      <th>Volume</th>\n",
       "      <td>1259.0</td>\n",
       "      <td>4.590165e+07</td>\n",
       "      <td>3.219166e+07</td>\n",
       "      <td>0.000000</td>\n",
       "      <td>2.910720e+07</td>\n",
       "      <td>4.082370e+07</td>\n",
       "      <td>5.591120e+07</td>\n",
       "      <td>6.989506e+08</td>\n",
       "    </tr>\n",
       "  </tbody>\n",
       "</table>\n",
       "</div>"
      ],
      "text/plain": [
       "            count          mean           std       min           25%  \\\n",
       "Open       1259.0  1.408627e+01  4.138829e+00  4.200000  1.067500e+01   \n",
       "High       1259.0  1.432545e+01  4.177621e+00  4.270000  1.094500e+01   \n",
       "Low        1259.0  1.383163e+01  4.100317e+00  4.120000  1.032500e+01   \n",
       "Close      1259.0  1.406492e+01  4.139117e+00  4.200000  1.067000e+01   \n",
       "Adj Close  1259.0  1.375115e+01  3.899131e+00  4.191617  1.064870e+01   \n",
       "Volume     1259.0  4.590165e+07  3.219166e+07  0.000000  2.910720e+07   \n",
       "\n",
       "                    50%           75%           max  \n",
       "Open       1.461000e+01  1.723000e+01  2.484000e+01  \n",
       "High       1.481000e+01  1.745500e+01  2.490000e+01  \n",
       "Low        1.431000e+01  1.691500e+01  2.366000e+01  \n",
       "Close      1.452000e+01  1.719500e+01  2.456000e+01  \n",
       "Adj Close  1.431138e+01  1.653043e+01  2.451098e+01  \n",
       "Volume     4.082370e+07  5.591120e+07  6.989506e+08  "
      ]
     },
     "execution_count": 5,
     "metadata": {},
     "output_type": "execute_result"
    }
   ],
   "source": [
    "dados.describe().T"
   ]
  },
  {
   "cell_type": "code",
   "execution_count": 6,
   "metadata": {},
   "outputs": [
    {
     "data": {
      "text/html": [
       "        <script type=\"text/javascript\">\n",
       "        window.PlotlyConfig = {MathJaxConfig: 'local'};\n",
       "        if (window.MathJax) {MathJax.Hub.Config({SVG: {font: \"STIX-Web\"}});}\n",
       "        if (typeof require !== 'undefined') {\n",
       "        require.undef(\"plotly\");\n",
       "        requirejs.config({\n",
       "            paths: {\n",
       "                'plotly': ['https://cdn.plot.ly/plotly-latest.min']\n",
       "            }\n",
       "        });\n",
       "        require(['plotly'], function(Plotly) {\n",
       "            window._Plotly = Plotly;\n",
       "        });\n",
       "        }\n",
       "        </script>\n",
       "        "
      ]
     },
     "metadata": {},
     "output_type": "display_data"
    }
   ],
   "source": [
    "cf.go_offline()\n",
    "import plotly.express as px"
   ]
  },
  {
   "cell_type": "code",
   "execution_count": 12,
   "metadata": {},
   "outputs": [
    {
     "data": {
      "application/vnd.plotly.v1+json": {
       "config": {
        "linkText": "Export to plot.ly",
        "plotlyServerURL": "https://plot.ly",
        "showLink": true
       },
       "data": [
        {
         "boxpoints": false,
         "line": {
          "width": 1.3
         },
         "marker": {
          "color": "rgba(255, 153, 51, 1.0)"
         },
         "name": "Open",
         "orientation": "v",
         "type": "box",
         "y": [
          19.99,
          19.809998999999998,
          20.33,
          20.48,
          20.110001,
          19.639999,
          19.77,
          19.85,
          20.01,
          20.01,
          19.889999,
          19.860001,
          19.799999,
          19.57,
          19.42,
          19.42,
          19.370001000000002,
          19.73,
          19.35,
          18.99,
          18.26,
          18.139999,
          18.16,
          17.280001000000002,
          17.93,
          17.75,
          17.549999,
          17.950001,
          17.790001,
          17.610001,
          17.639999,
          17.91,
          18.1,
          17.469998999999998,
          17.51,
          17.049999,
          16.780001000000002,
          16.790001,
          16.76,
          16.5,
          16.82,
          16.629998999999998,
          17.6,
          18.309998999999998,
          18.790001,
          18.290001,
          18.85,
          18.809998999999998,
          18.98,
          19.4,
          18.9,
          18.9,
          19.049999,
          18.719998999999998,
          18.549999,
          18.73,
          18.73,
          18.6,
          null,
          18.27,
          18.27,
          17.68,
          17.950001,
          17.58,
          17.860001,
          17.48,
          18.209999,
          18.469998999999998,
          17.940001000000002,
          17.700001,
          17.469998999999998,
          17.440001000000002,
          17.32,
          18.15,
          18.370001000000002,
          18.709999,
          19.059998999999998,
          19.469998999999998,
          null,
          20,
          19.65,
          19.85,
          20.49,
          20.01,
          20.4,
          20.75,
          20.25,
          20.16,
          19.809998999999998,
          19.530001000000002,
          19.5,
          19.52,
          19.91,
          19.91,
          20.190001000000002,
          20.27,
          19.549999,
          19.889999,
          20.01,
          20.16,
          19.92,
          19.870001000000002,
          20.110001,
          20.459999,
          20,
          19.459999,
          18.950001,
          18.84,
          18.65,
          18.67,
          18.1,
          18.65,
          18.450001,
          17.950001,
          17.889999,
          16.9,
          16.93,
          15.97,
          16.1,
          16.139999,
          16.219998999999998,
          16.35,
          16.35,
          16.049999,
          15.24,
          16.1,
          15.81,
          15.2,
          15.18,
          15.52,
          15.66,
          15.45,
          15.64,
          15.91,
          16,
          16.07,
          15.97,
          16.41,
          16.370001000000002,
          16.24,
          null,
          16.99,
          16.780001000000002,
          16.33,
          16.700001,
          16.870001000000002,
          16.77,
          16.68,
          16.27,
          16.35,
          16.74,
          17.299999,
          16.65,
          16.360001,
          16.700001,
          17.76,
          17.450001,
          17.709999,
          17.07,
          17.799999,
          18.120001000000002,
          18.5,
          17.950001,
          17.51,
          17.32,
          17.32,
          17.15,
          16.889999,
          16.629998999999998,
          16.860001,
          17.799999,
          17.77,
          18.25,
          18.290001,
          18.17,
          17.85,
          18.43,
          18.59,
          18.41,
          18.959999,
          19.09,
          19.09,
          19.09,
          18.73,
          18.82,
          18.57,
          18.57,
          18.530001000000002,
          18.58,
          18.799999,
          18.389999,
          18.57,
          18.66,
          18.4,
          18.26,
          18.15,
          18.059998999999998,
          18.34,
          18.469998999999998,
          18.27,
          18.219998999999998,
          17.99,
          18.959999,
          18.549999,
          18.360001,
          18.23,
          19.42,
          19.709999,
          19.83,
          19.959999,
          20.120001000000002,
          19.99,
          20.290001,
          20.290001,
          20.27,
          19.950001,
          19.66,
          20.059998999999998,
          19.549999,
          20,
          20.5,
          21.299999,
          20.5,
          20.75,
          20.83,
          19.9,
          19.209999,
          18.950001,
          18.889999,
          17.860001,
          17.450001,
          17.76,
          17.76,
          17.73,
          17.32,
          17.360001,
          17.280001000000002,
          16.85,
          16.99,
          17.25,
          17.209999,
          16.950001,
          17.120001000000002,
          17.25,
          17.02,
          17.15,
          17,
          16.950001,
          17.15,
          16.74,
          16.450001,
          16.65,
          16.27,
          16.190001000000002,
          15.76,
          16.01,
          15.71,
          15.79,
          16.040001,
          15.72,
          15.45,
          15.34,
          15.42,
          15.67,
          15.38,
          15.21,
          15.36,
          15.06,
          14.88,
          14.64,
          14.59,
          14.04,
          14.15,
          13.94,
          14.27,
          14.36,
          14.71,
          15.08,
          14.78,
          14.71,
          14.65,
          14.42,
          14.02,
          14.06,
          14.2,
          14.11,
          14.45,
          14.2,
          13.82,
          14.1,
          13.7,
          13.42,
          13.43,
          13.27,
          13.06,
          13.11,
          13.39,
          13.08,
          12.88,
          12.64,
          12.95,
          13.23,
          13.45,
          14.17,
          14.26,
          14.55,
          14.39,
          15.57,
          15.71,
          15.72,
          15.71,
          15.53,
          15.62,
          15.7,
          16.799999,
          15.91,
          15.66,
          15.53,
          16.280001000000002,
          15.76,
          15.59,
          15.9,
          16.309998999999998,
          15.97,
          16.200001,
          15.95,
          15.95,
          16.68,
          16.6,
          16.549999,
          17.65,
          17.43,
          18.139999,
          18.6,
          18.049999,
          17.950001,
          18,
          17.959999,
          18.17,
          18,
          17.98,
          17.9,
          17.459999,
          17.51,
          17.58,
          17.799999,
          17.93,
          17.549999,
          17.75,
          17.18,
          16.799999,
          16.530001000000002,
          16.85,
          16.709999,
          17.379998999999998,
          17.57,
          18.040001,
          18.700001,
          18.629998999999998,
          19,
          18.65,
          18.41,
          18.65,
          18.75,
          18.290001,
          17.200001,
          17.469998999999998,
          17.25,
          17.360001,
          17.35,
          17.190001000000002,
          16.9,
          17.43,
          17.41,
          17.360001,
          17.780001000000002,
          18.07,
          18.48,
          19.1,
          19.35,
          19.200001,
          20.809998999999998,
          20.43,
          20.9,
          20.559998999999998,
          20.360001,
          20.41,
          20.57,
          20.1,
          19.700001,
          19.6,
          19.01,
          19.15,
          19.459999,
          19.84,
          20.6,
          19.799999,
          19.370001000000002,
          20.09,
          19.75,
          18.68,
          18.9,
          20.549999,
          20.209999,
          20.799999,
          21.25,
          21.139999,
          21.219998999999998,
          22.030001000000002,
          22.15,
          22.690001000000002,
          23.15,
          23.950001,
          24,
          24.84,
          23.09,
          22.75,
          23.42,
          21.51,
          21.16,
          21.18,
          20.870001000000002,
          20.25,
          20.76,
          22.33,
          21.85,
          21,
          20.450001,
          20.1,
          19.950001,
          20.290001,
          19.9,
          19.02,
          18.49,
          17.700001,
          17.4,
          17.6,
          21.5,
          20.85,
          21.799999,
          21.290001,
          20.049999,
          21.360001,
          21.6,
          20.6,
          19.01,
          19.370001000000002,
          18.92,
          16.9,
          16.809998999999998,
          16.370001000000002,
          15.8,
          14,
          14.9,
          14.77,
          14.6,
          14.58,
          14.96,
          15,
          14.5,
          14.28,
          14.25,
          14.3,
          13.81,
          13.97,
          14.32,
          12.9,
          13.07,
          12.76,
          12.4,
          13.01,
          14.62,
          14.44,
          14.17,
          14.2,
          13.45,
          12.45,
          12.5,
          12.26,
          12.79,
          12.32,
          12.15,
          11.1,
          11.35,
          10.9,
          10.65,
          10.21,
          8.6,
          9.5,
          9.89,
          9.95,
          9.9,
          10.37,
          10.87,
          10.15,
          10.16,
          9.99,
          9.14,
          8.71,
          8.56,
          8.79,
          9.2,
          9.27,
          8.9,
          8.88,
          9,
          9.46,
          9.35,
          9.6,
          9.45,
          10.1,
          10.11,
          9.79,
          9.72,
          9.43,
          9.05,
          8.2,
          8.46,
          9.01,
          10.3,
          9.86,
          9.8,
          8.8,
          9.22,
          8.94,
          9.35,
          9.68,
          10.16,
          9.96,
          9.82,
          9.55,
          9.65,
          9.1,
          9.4,
          9.3,
          9.44,
          9.69,
          9.41,
          9.31,
          9.2,
          9.13,
          8.83,
          8.67,
          8.97,
          8.25,
          8.49,
          8.35,
          8.85,
          9.18,
          9.08,
          9.3,
          9.37,
          9.65,
          9.92,
          9.3,
          9.5,
          9.58,
          9.93,
          10.17,
          10.8,
          10.6,
          11.1,
          10.7,
          11.52,
          11.97,
          12.67,
          12.7,
          13.25,
          12.61,
          13.23,
          13.19,
          12.3,
          13.19,
          12.95,
          12.76,
          12.58,
          12.83,
          13.31,
          13.7,
          14.75,
          13.8,
          14.04,
          13.68,
          13.7,
          13.87,
          14.1,
          13.92,
          14.64,
          13.55,
          12.76,
          12.86,
          13.52,
          12.98,
          12.8,
          12.5,
          12.47,
          12.71,
          12.43,
          12.55,
          12.96,
          12.58,
          12.61,
          12.61,
          13.3,
          13.13,
          12.86,
          12.97,
          13.04,
          13.5,
          13.28,
          13.31,
          13.3,
          13.27,
          13.06,
          13.23,
          12.66,
          13,
          12.9,
          12.8,
          12.35,
          12.25,
          11.51,
          11.36,
          11.62,
          11.9,
          11.87,
          11.69,
          11.96,
          11.89,
          11.82,
          11.46,
          10.91,
          10.61,
          10.22,
          10.17,
          9.96,
          9.69,
          10.01,
          10.83,
          10.48,
          10.36,
          10.14,
          10.41,
          9.86,
          10.25,
          9.81,
          9.79,
          9.8,
          9.91,
          9.61,
          9.2,
          9.06,
          8.95,
          8.64,
          8.6,
          7.76,
          8.1,
          8.07,
          8.25,
          8.67,
          8.71,
          8.75,
          8.75,
          8.93,
          8.6,
          8.7,
          8.81,
          7.9,
          7.94,
          7.7,
          7.65,
          7.77,
          8.05,
          7.75,
          7.66,
          7.24,
          6.96,
          6.61,
          7.12,
          6.74,
          6.54,
          7.25,
          7.31,
          6.99,
          7.9,
          7.86,
          8.51,
          8.46,
          9.02,
          8.36,
          8.07,
          8,
          7.99,
          7.9,
          8,
          7.95,
          7.82,
          8.26,
          8.05,
          7.86,
          7.87,
          7.57,
          7.6,
          7.84,
          8.58,
          8.08,
          8.04,
          7.83,
          7.6,
          7.71,
          7.72,
          7.5,
          7.31,
          7.8,
          7.81,
          7.96,
          7.9,
          8.05,
          8.28,
          7.95,
          7.81,
          7.54,
          7.67,
          7.54,
          7.99,
          7.97,
          7.6,
          7.2,
          7.34,
          7.51,
          7.26,
          7.15,
          7.34,
          7.28,
          7.35,
          7.02,
          7.06,
          6.76,
          6.91,
          6.9,
          6.81,
          6.66,
          6.57,
          6.92,
          6.53,
          6.19,
          6.38,
          6.27,
          6.12,
          5.7,
          5.31,
          5.35,
          5.19,
          5.03,
          4.5,
          4.37,
          4.73,
          4.23,
          4.22,
          4.67,
          4.7,
          4.74,
          4.56,
          4.42,
          4.56,
          4.73,
          4.3,
          4.2,
          4.37,
          4.56,
          4.5,
          4.54,
          4.69,
          4.5,
          4.67,
          4.95,
          4.77,
          4.81,
          5.02,
          5.08,
          5.31,
          5.21,
          6.57,
          6.57,
          7.25,
          7.37,
          7.7,
          7.8,
          7.94,
          8.13,
          6.83,
          6.51,
          8.15,
          8.09,
          8.08,
          7.85,
          7.88,
          7.53,
          8.15,
          8.34,
          8.7,
          8.31,
          8.36,
          7.54,
          7.8,
          7.58,
          7.7,
          8.13,
          8.39,
          9.04,
          9.49,
          9.73,
          9.25,
          9.65,
          9.61,
          9.4,
          9.32,
          9.71,
          9.48,
          9.85,
          10.23,
          10.23,
          10.25,
          10.01,
          9.85,
          10.28,
          9.63,
          10.01,
          9.82,
          10.39,
          10.4,
          9.93,
          9.55,
          9.83,
          9.31,
          9.25,
          9.2,
          8.55,
          8.69,
          8.68,
          8.5,
          8.18,
          8.36,
          8.09,
          8.19,
          8.51,
          8.7,
          8.42,
          8.8,
          9.28,
          8.97,
          8.58,
          8.6,
          8.3,
          8.41,
          8.75,
          9.22,
          9.09,
          9.61,
          9.59,
          9,
          9.22,
          9.1,
          9.43,
          9.42,
          9.48,
          9.95,
          9.65,
          9.09,
          9.66,
          9.85,
          10,
          10.61,
          10.47,
          10.92,
          10.91,
          10.97,
          11.51,
          11.82,
          11.77,
          11.84,
          11.98,
          11.95,
          11.99,
          11.4,
          11.76,
          11.93,
          11.33,
          11.58,
          11.93,
          12.12,
          11.79,
          11.92,
          11.95,
          11.63,
          12.05,
          12.19,
          12.31,
          12.47,
          12.8,
          12.82,
          12.63,
          12.48,
          12.5,
          12.42,
          12.69,
          12.5,
          13.04,
          13.13,
          12.97,
          13.22,
          13.79,
          13.69,
          14.07,
          13.96,
          13.32,
          13.7,
          13.15,
          13.21,
          13.34,
          13.42,
          13.45,
          13.6,
          13.89,
          13.98,
          13.59,
          13.4,
          13.3,
          13.8,
          13.53,
          13.67,
          13.98,
          14.19,
          14.71,
          15.23,
          15.52,
          15.61,
          15.19,
          16.01,
          16.24,
          17.209999,
          17.719998999999998,
          17.309998999999998,
          17.65,
          18.26,
          18.219998999999998,
          17.700001,
          18.110001,
          17.99,
          18.030001000000002,
          17.879998999999998,
          16.629998999999998,
          16.469998999999998,
          16.709999,
          17.1,
          15.85,
          17.1,
          15.18,
          13.8,
          14.55,
          15.15,
          14.37,
          15.05,
          15.93,
          15.72,
          15.9,
          15.25,
          15.2,
          15.3,
          15.9,
          16,
          15.12,
          16.01,
          16,
          16.299999,
          15.97,
          15.88,
          15.79,
          15.55,
          15.43,
          14.78,
          14.9,
          14.88,
          14.46,
          14.45,
          14.46,
          14.05,
          14.32,
          14.5,
          14.43,
          14.85,
          14.64,
          14.95,
          15.45,
          15.7,
          15.78,
          15.5,
          15.6,
          15.64,
          16.15,
          15.77,
          15.7,
          15.73,
          15.8,
          15.82,
          15.84,
          15.94,
          16.120001000000002,
          16.15,
          15.73,
          15.51,
          14.99,
          15.26,
          14.99,
          14.92,
          15.38,
          15.1,
          14.77,
          15.18,
          15.2,
          15.77,
          15.74,
          15.91,
          15.84,
          15.74,
          15.74,
          16.1,
          16,
          15.94,
          15.35,
          15.51,
          15.44,
          15.22,
          15.11,
          15.18,
          15.16,
          14.34,
          14.72,
          14.33,
          14.07,
          13.86,
          14.26,
          13.81,
          12.98,
          13.61,
          13.2,
          13.48,
          13.7,
          13.24,
          13.9,
          14.04,
          14.55,
          14.36,
          14.54,
          14.67,
          15.05,
          14.62,
          14.61,
          14.9,
          14.97,
          14.6,
          14.65,
          14.14,
          14.15,
          14.24,
          13.8,
          14.13,
          13.9,
          14.16,
          13.99,
          13.85,
          14.06,
          14.04,
          14,
          13.69,
          14.13,
          14.15,
          14.34,
          14.88,
          15.5,
          15.77,
          15.77,
          15.56,
          12.45,
          13.75,
          13.35,
          13.45,
          13.75,
          13.97,
          13.47,
          13.68,
          13.55,
          13.21,
          13.16,
          12.79,
          12.96,
          13.23,
          13.28,
          12.78,
          12.96,
          12.97,
          12.95,
          12.94,
          12.62,
          12.58,
          12.31,
          12.12,
          11.95,
          11.76,
          12.11,
          12.1,
          12.34,
          12.27,
          12.26,
          12.25,
          12.28,
          12.34,
          12.38,
          12.28,
          12.13,
          11.83,
          11.95,
          12.64,
          12.96,
          12.96,
          13.03,
          13,
          13,
          13.29,
          13,
          12.83,
          13.01,
          13.3,
          13.05,
          12.98,
          13.22,
          13.3,
          13.13,
          13.57,
          13.41,
          13.35,
          13.5,
          13.51,
          13.6,
          13.14,
          12.98,
          13.08,
          13.3,
          13.12,
          13.16,
          13.64,
          13.7,
          13.78,
          13.78,
          13.87,
          13.93,
          13.76,
          13.79,
          13.53,
          13.85,
          13.96,
          14.57,
          14.65,
          15.02,
          15.1,
          14.88,
          14.98,
          14.94,
          15.03,
          15.07,
          15.02,
          15.1,
          15.25,
          15.85,
          15.6,
          15.79,
          15.86,
          15.7,
          15.37,
          15.5,
          15.19,
          15.6,
          15.9,
          15.88,
          15.66,
          15.61,
          16.129998999999998,
          16.17,
          16.08,
          16.23,
          16.16,
          16.139999,
          16.219998999999998,
          16,
          16.190001000000002,
          16.290001,
          16.290001,
          16.530001000000002,
          16.780001000000002,
          16.77,
          16.969998999999998,
          16.9,
          16.99,
          16.9,
          16.959999,
          17.049999,
          17.309998999999998,
          16.690001000000002,
          16.889999,
          16.709999,
          16.690001000000002,
          16.639999,
          15.35,
          15.62,
          15.92,
          16.02,
          16.15,
          16.09,
          15.98,
          16.25,
          16.01,
          15.93,
          15.87,
          15.3,
          15.34,
          15.65,
          15.5,
          15.22,
          15.3,
          15.51,
          15.48,
          15.36,
          15.65,
          15.1,
          15.05,
          15.16,
          15.18,
          15.21,
          15.31,
          15.75,
          15.75,
          15.75,
          15.99,
          16.1,
          16.1,
          16.190001000000002,
          16.49,
          16.780001000000002,
          16.700001,
          16.74,
          17.030001000000002,
          16.92,
          16.879998999999998,
          17.040001,
          17.32,
          17.35,
          17.92,
          18.35,
          18.309998999999998,
          18.26,
          18.4,
          18.42
         ]
        }
       ],
       "layout": {
        "legend": {
         "bgcolor": "#F5F6F9",
         "font": {
          "color": "#4D5663"
         }
        },
        "paper_bgcolor": "#F5F6F9",
        "plot_bgcolor": "#F5F6F9",
        "template": {
         "data": {
          "bar": [
           {
            "error_x": {
             "color": "#2a3f5f"
            },
            "error_y": {
             "color": "#2a3f5f"
            },
            "marker": {
             "line": {
              "color": "#E5ECF6",
              "width": 0.5
             }
            },
            "type": "bar"
           }
          ],
          "barpolar": [
           {
            "marker": {
             "line": {
              "color": "#E5ECF6",
              "width": 0.5
             }
            },
            "type": "barpolar"
           }
          ],
          "carpet": [
           {
            "aaxis": {
             "endlinecolor": "#2a3f5f",
             "gridcolor": "white",
             "linecolor": "white",
             "minorgridcolor": "white",
             "startlinecolor": "#2a3f5f"
            },
            "baxis": {
             "endlinecolor": "#2a3f5f",
             "gridcolor": "white",
             "linecolor": "white",
             "minorgridcolor": "white",
             "startlinecolor": "#2a3f5f"
            },
            "type": "carpet"
           }
          ],
          "choropleth": [
           {
            "colorbar": {
             "outlinewidth": 0,
             "ticks": ""
            },
            "type": "choropleth"
           }
          ],
          "contour": [
           {
            "colorbar": {
             "outlinewidth": 0,
             "ticks": ""
            },
            "colorscale": [
             [
              0,
              "#0d0887"
             ],
             [
              0.1111111111111111,
              "#46039f"
             ],
             [
              0.2222222222222222,
              "#7201a8"
             ],
             [
              0.3333333333333333,
              "#9c179e"
             ],
             [
              0.4444444444444444,
              "#bd3786"
             ],
             [
              0.5555555555555556,
              "#d8576b"
             ],
             [
              0.6666666666666666,
              "#ed7953"
             ],
             [
              0.7777777777777778,
              "#fb9f3a"
             ],
             [
              0.8888888888888888,
              "#fdca26"
             ],
             [
              1,
              "#f0f921"
             ]
            ],
            "type": "contour"
           }
          ],
          "contourcarpet": [
           {
            "colorbar": {
             "outlinewidth": 0,
             "ticks": ""
            },
            "type": "contourcarpet"
           }
          ],
          "heatmap": [
           {
            "colorbar": {
             "outlinewidth": 0,
             "ticks": ""
            },
            "colorscale": [
             [
              0,
              "#0d0887"
             ],
             [
              0.1111111111111111,
              "#46039f"
             ],
             [
              0.2222222222222222,
              "#7201a8"
             ],
             [
              0.3333333333333333,
              "#9c179e"
             ],
             [
              0.4444444444444444,
              "#bd3786"
             ],
             [
              0.5555555555555556,
              "#d8576b"
             ],
             [
              0.6666666666666666,
              "#ed7953"
             ],
             [
              0.7777777777777778,
              "#fb9f3a"
             ],
             [
              0.8888888888888888,
              "#fdca26"
             ],
             [
              1,
              "#f0f921"
             ]
            ],
            "type": "heatmap"
           }
          ],
          "heatmapgl": [
           {
            "colorbar": {
             "outlinewidth": 0,
             "ticks": ""
            },
            "colorscale": [
             [
              0,
              "#0d0887"
             ],
             [
              0.1111111111111111,
              "#46039f"
             ],
             [
              0.2222222222222222,
              "#7201a8"
             ],
             [
              0.3333333333333333,
              "#9c179e"
             ],
             [
              0.4444444444444444,
              "#bd3786"
             ],
             [
              0.5555555555555556,
              "#d8576b"
             ],
             [
              0.6666666666666666,
              "#ed7953"
             ],
             [
              0.7777777777777778,
              "#fb9f3a"
             ],
             [
              0.8888888888888888,
              "#fdca26"
             ],
             [
              1,
              "#f0f921"
             ]
            ],
            "type": "heatmapgl"
           }
          ],
          "histogram": [
           {
            "marker": {
             "colorbar": {
              "outlinewidth": 0,
              "ticks": ""
             }
            },
            "type": "histogram"
           }
          ],
          "histogram2d": [
           {
            "colorbar": {
             "outlinewidth": 0,
             "ticks": ""
            },
            "colorscale": [
             [
              0,
              "#0d0887"
             ],
             [
              0.1111111111111111,
              "#46039f"
             ],
             [
              0.2222222222222222,
              "#7201a8"
             ],
             [
              0.3333333333333333,
              "#9c179e"
             ],
             [
              0.4444444444444444,
              "#bd3786"
             ],
             [
              0.5555555555555556,
              "#d8576b"
             ],
             [
              0.6666666666666666,
              "#ed7953"
             ],
             [
              0.7777777777777778,
              "#fb9f3a"
             ],
             [
              0.8888888888888888,
              "#fdca26"
             ],
             [
              1,
              "#f0f921"
             ]
            ],
            "type": "histogram2d"
           }
          ],
          "histogram2dcontour": [
           {
            "colorbar": {
             "outlinewidth": 0,
             "ticks": ""
            },
            "colorscale": [
             [
              0,
              "#0d0887"
             ],
             [
              0.1111111111111111,
              "#46039f"
             ],
             [
              0.2222222222222222,
              "#7201a8"
             ],
             [
              0.3333333333333333,
              "#9c179e"
             ],
             [
              0.4444444444444444,
              "#bd3786"
             ],
             [
              0.5555555555555556,
              "#d8576b"
             ],
             [
              0.6666666666666666,
              "#ed7953"
             ],
             [
              0.7777777777777778,
              "#fb9f3a"
             ],
             [
              0.8888888888888888,
              "#fdca26"
             ],
             [
              1,
              "#f0f921"
             ]
            ],
            "type": "histogram2dcontour"
           }
          ],
          "mesh3d": [
           {
            "colorbar": {
             "outlinewidth": 0,
             "ticks": ""
            },
            "type": "mesh3d"
           }
          ],
          "parcoords": [
           {
            "line": {
             "colorbar": {
              "outlinewidth": 0,
              "ticks": ""
             }
            },
            "type": "parcoords"
           }
          ],
          "pie": [
           {
            "automargin": true,
            "type": "pie"
           }
          ],
          "scatter": [
           {
            "marker": {
             "colorbar": {
              "outlinewidth": 0,
              "ticks": ""
             }
            },
            "type": "scatter"
           }
          ],
          "scatter3d": [
           {
            "line": {
             "colorbar": {
              "outlinewidth": 0,
              "ticks": ""
             }
            },
            "marker": {
             "colorbar": {
              "outlinewidth": 0,
              "ticks": ""
             }
            },
            "type": "scatter3d"
           }
          ],
          "scattercarpet": [
           {
            "marker": {
             "colorbar": {
              "outlinewidth": 0,
              "ticks": ""
             }
            },
            "type": "scattercarpet"
           }
          ],
          "scattergeo": [
           {
            "marker": {
             "colorbar": {
              "outlinewidth": 0,
              "ticks": ""
             }
            },
            "type": "scattergeo"
           }
          ],
          "scattergl": [
           {
            "marker": {
             "colorbar": {
              "outlinewidth": 0,
              "ticks": ""
             }
            },
            "type": "scattergl"
           }
          ],
          "scattermapbox": [
           {
            "marker": {
             "colorbar": {
              "outlinewidth": 0,
              "ticks": ""
             }
            },
            "type": "scattermapbox"
           }
          ],
          "scatterpolar": [
           {
            "marker": {
             "colorbar": {
              "outlinewidth": 0,
              "ticks": ""
             }
            },
            "type": "scatterpolar"
           }
          ],
          "scatterpolargl": [
           {
            "marker": {
             "colorbar": {
              "outlinewidth": 0,
              "ticks": ""
             }
            },
            "type": "scatterpolargl"
           }
          ],
          "scatterternary": [
           {
            "marker": {
             "colorbar": {
              "outlinewidth": 0,
              "ticks": ""
             }
            },
            "type": "scatterternary"
           }
          ],
          "surface": [
           {
            "colorbar": {
             "outlinewidth": 0,
             "ticks": ""
            },
            "colorscale": [
             [
              0,
              "#0d0887"
             ],
             [
              0.1111111111111111,
              "#46039f"
             ],
             [
              0.2222222222222222,
              "#7201a8"
             ],
             [
              0.3333333333333333,
              "#9c179e"
             ],
             [
              0.4444444444444444,
              "#bd3786"
             ],
             [
              0.5555555555555556,
              "#d8576b"
             ],
             [
              0.6666666666666666,
              "#ed7953"
             ],
             [
              0.7777777777777778,
              "#fb9f3a"
             ],
             [
              0.8888888888888888,
              "#fdca26"
             ],
             [
              1,
              "#f0f921"
             ]
            ],
            "type": "surface"
           }
          ],
          "table": [
           {
            "cells": {
             "fill": {
              "color": "#EBF0F8"
             },
             "line": {
              "color": "white"
             }
            },
            "header": {
             "fill": {
              "color": "#C8D4E3"
             },
             "line": {
              "color": "white"
             }
            },
            "type": "table"
           }
          ]
         },
         "layout": {
          "annotationdefaults": {
           "arrowcolor": "#2a3f5f",
           "arrowhead": 0,
           "arrowwidth": 1
          },
          "coloraxis": {
           "colorbar": {
            "outlinewidth": 0,
            "ticks": ""
           }
          },
          "colorscale": {
           "diverging": [
            [
             0,
             "#8e0152"
            ],
            [
             0.1,
             "#c51b7d"
            ],
            [
             0.2,
             "#de77ae"
            ],
            [
             0.3,
             "#f1b6da"
            ],
            [
             0.4,
             "#fde0ef"
            ],
            [
             0.5,
             "#f7f7f7"
            ],
            [
             0.6,
             "#e6f5d0"
            ],
            [
             0.7,
             "#b8e186"
            ],
            [
             0.8,
             "#7fbc41"
            ],
            [
             0.9,
             "#4d9221"
            ],
            [
             1,
             "#276419"
            ]
           ],
           "sequential": [
            [
             0,
             "#0d0887"
            ],
            [
             0.1111111111111111,
             "#46039f"
            ],
            [
             0.2222222222222222,
             "#7201a8"
            ],
            [
             0.3333333333333333,
             "#9c179e"
            ],
            [
             0.4444444444444444,
             "#bd3786"
            ],
            [
             0.5555555555555556,
             "#d8576b"
            ],
            [
             0.6666666666666666,
             "#ed7953"
            ],
            [
             0.7777777777777778,
             "#fb9f3a"
            ],
            [
             0.8888888888888888,
             "#fdca26"
            ],
            [
             1,
             "#f0f921"
            ]
           ],
           "sequentialminus": [
            [
             0,
             "#0d0887"
            ],
            [
             0.1111111111111111,
             "#46039f"
            ],
            [
             0.2222222222222222,
             "#7201a8"
            ],
            [
             0.3333333333333333,
             "#9c179e"
            ],
            [
             0.4444444444444444,
             "#bd3786"
            ],
            [
             0.5555555555555556,
             "#d8576b"
            ],
            [
             0.6666666666666666,
             "#ed7953"
            ],
            [
             0.7777777777777778,
             "#fb9f3a"
            ],
            [
             0.8888888888888888,
             "#fdca26"
            ],
            [
             1,
             "#f0f921"
            ]
           ]
          },
          "colorway": [
           "#636efa",
           "#EF553B",
           "#00cc96",
           "#ab63fa",
           "#FFA15A",
           "#19d3f3",
           "#FF6692",
           "#B6E880",
           "#FF97FF",
           "#FECB52"
          ],
          "font": {
           "color": "#2a3f5f"
          },
          "geo": {
           "bgcolor": "white",
           "lakecolor": "white",
           "landcolor": "#E5ECF6",
           "showlakes": true,
           "showland": true,
           "subunitcolor": "white"
          },
          "hoverlabel": {
           "align": "left"
          },
          "hovermode": "closest",
          "mapbox": {
           "style": "light"
          },
          "paper_bgcolor": "white",
          "plot_bgcolor": "#E5ECF6",
          "polar": {
           "angularaxis": {
            "gridcolor": "white",
            "linecolor": "white",
            "ticks": ""
           },
           "bgcolor": "#E5ECF6",
           "radialaxis": {
            "gridcolor": "white",
            "linecolor": "white",
            "ticks": ""
           }
          },
          "scene": {
           "xaxis": {
            "backgroundcolor": "#E5ECF6",
            "gridcolor": "white",
            "gridwidth": 2,
            "linecolor": "white",
            "showbackground": true,
            "ticks": "",
            "zerolinecolor": "white"
           },
           "yaxis": {
            "backgroundcolor": "#E5ECF6",
            "gridcolor": "white",
            "gridwidth": 2,
            "linecolor": "white",
            "showbackground": true,
            "ticks": "",
            "zerolinecolor": "white"
           },
           "zaxis": {
            "backgroundcolor": "#E5ECF6",
            "gridcolor": "white",
            "gridwidth": 2,
            "linecolor": "white",
            "showbackground": true,
            "ticks": "",
            "zerolinecolor": "white"
           }
          },
          "shapedefaults": {
           "line": {
            "color": "#2a3f5f"
           }
          },
          "ternary": {
           "aaxis": {
            "gridcolor": "white",
            "linecolor": "white",
            "ticks": ""
           },
           "baxis": {
            "gridcolor": "white",
            "linecolor": "white",
            "ticks": ""
           },
           "bgcolor": "#E5ECF6",
           "caxis": {
            "gridcolor": "white",
            "linecolor": "white",
            "ticks": ""
           }
          },
          "title": {
           "x": 0.05
          },
          "xaxis": {
           "automargin": true,
           "gridcolor": "white",
           "linecolor": "white",
           "ticks": "",
           "title": {
            "standoff": 15
           },
           "zerolinecolor": "white",
           "zerolinewidth": 2
          },
          "yaxis": {
           "automargin": true,
           "gridcolor": "white",
           "linecolor": "white",
           "ticks": "",
           "title": {
            "standoff": 15
           },
           "zerolinecolor": "white",
           "zerolinewidth": 2
          }
         }
        },
        "title": {
         "font": {
          "color": "#4D5663"
         },
         "text": "Ações"
        },
        "xaxis": {
         "gridcolor": "#E1E5ED",
         "showgrid": true,
         "tickfont": {
          "color": "#4D5663"
         },
         "title": {
          "font": {
           "color": "#4D5663"
          },
          "text": ""
         },
         "zerolinecolor": "#E1E5ED"
        },
        "yaxis": {
         "gridcolor": "#E1E5ED",
         "showgrid": true,
         "tickfont": {
          "color": "#4D5663"
         },
         "title": {
          "font": {
           "color": "#4D5663"
          },
          "text": ""
         },
         "zerolinecolor": "#E1E5ED"
        }
       }
      },
      "text/html": [
       "<div>\n",
       "        \n",
       "        \n",
       "            <div id=\"afd1bfc4-f1ac-4213-800b-2709eb3162a9\" class=\"plotly-graph-div\" style=\"height:525px; width:100%;\"></div>\n",
       "            <script type=\"text/javascript\">\n",
       "                require([\"plotly\"], function(Plotly) {\n",
       "                    window.PLOTLYENV=window.PLOTLYENV || {};\n",
       "                    window.PLOTLYENV.BASE_URL='https://plot.ly';\n",
       "                    \n",
       "                if (document.getElementById(\"afd1bfc4-f1ac-4213-800b-2709eb3162a9\")) {\n",
       "                    Plotly.newPlot(\n",
       "                        'afd1bfc4-f1ac-4213-800b-2709eb3162a9',\n",
       "                        [{\"boxpoints\": false, \"line\": {\"width\": 1.3}, \"marker\": {\"color\": \"rgba(255, 153, 51, 1.0)\"}, \"name\": \"Open\", \"orientation\": \"v\", \"type\": \"box\", \"y\": [19.99, 19.809998999999998, 20.33, 20.48, 20.110001, 19.639999, 19.77, 19.85, 20.01, 20.01, 19.889999, 19.860001, 19.799999, 19.57, 19.42, 19.42, 19.370001000000002, 19.73, 19.35, 18.99, 18.26, 18.139999, 18.16, 17.280001000000002, 17.93, 17.75, 17.549999, 17.950001, 17.790001, 17.610001, 17.639999, 17.91, 18.1, 17.469998999999998, 17.51, 17.049999, 16.780001000000002, 16.790001, 16.76, 16.5, 16.82, 16.629998999999998, 17.6, 18.309998999999998, 18.790001, 18.290001, 18.85, 18.809998999999998, 18.98, 19.4, 18.9, 18.9, 19.049999, 18.719998999999998, 18.549999, 18.73, 18.73, 18.6, null, 18.27, 18.27, 17.68, 17.950001, 17.58, 17.860001, 17.48, 18.209999, 18.469998999999998, 17.940001000000002, 17.700001, 17.469998999999998, 17.440001000000002, 17.32, 18.15, 18.370001000000002, 18.709999, 19.059998999999998, 19.469998999999998, null, 20.0, 19.65, 19.85, 20.49, 20.01, 20.4, 20.75, 20.25, 20.16, 19.809998999999998, 19.530001000000002, 19.5, 19.52, 19.91, 19.91, 20.190001000000002, 20.27, 19.549999, 19.889999, 20.01, 20.16, 19.92, 19.870001000000002, 20.110001, 20.459999, 20.0, 19.459999, 18.950001, 18.84, 18.65, 18.67, 18.1, 18.65, 18.450001, 17.950001, 17.889999, 16.9, 16.93, 15.97, 16.1, 16.139999, 16.219998999999998, 16.35, 16.35, 16.049999, 15.24, 16.1, 15.81, 15.2, 15.18, 15.52, 15.66, 15.45, 15.64, 15.91, 16.0, 16.07, 15.97, 16.41, 16.370001000000002, 16.24, null, 16.99, 16.780001000000002, 16.33, 16.700001, 16.870001000000002, 16.77, 16.68, 16.27, 16.35, 16.74, 17.299999, 16.65, 16.360001, 16.700001, 17.76, 17.450001, 17.709999, 17.07, 17.799999, 18.120001000000002, 18.5, 17.950001, 17.51, 17.32, 17.32, 17.15, 16.889999, 16.629998999999998, 16.860001, 17.799999, 17.77, 18.25, 18.290001, 18.17, 17.85, 18.43, 18.59, 18.41, 18.959999, 19.09, 19.09, 19.09, 18.73, 18.82, 18.57, 18.57, 18.530001000000002, 18.58, 18.799999, 18.389999, 18.57, 18.66, 18.4, 18.26, 18.15, 18.059998999999998, 18.34, 18.469998999999998, 18.27, 18.219998999999998, 17.99, 18.959999, 18.549999, 18.360001, 18.23, 19.42, 19.709999, 19.83, 19.959999, 20.120001000000002, 19.99, 20.290001, 20.290001, 20.27, 19.950001, 19.66, 20.059998999999998, 19.549999, 20.0, 20.5, 21.299999, 20.5, 20.75, 20.83, 19.9, 19.209999, 18.950001, 18.889999, 17.860001, 17.450001, 17.76, 17.76, 17.73, 17.32, 17.360001, 17.280001000000002, 16.85, 16.99, 17.25, 17.209999, 16.950001, 17.120001000000002, 17.25, 17.02, 17.15, 17.0, 16.950001, 17.15, 16.74, 16.450001, 16.65, 16.27, 16.190001000000002, 15.76, 16.01, 15.71, 15.79, 16.040001, 15.72, 15.45, 15.34, 15.42, 15.67, 15.38, 15.21, 15.36, 15.06, 14.88, 14.64, 14.59, 14.04, 14.15, 13.94, 14.27, 14.36, 14.71, 15.08, 14.78, 14.71, 14.65, 14.42, 14.02, 14.06, 14.2, 14.11, 14.45, 14.2, 13.82, 14.1, 13.7, 13.42, 13.43, 13.27, 13.06, 13.11, 13.39, 13.08, 12.88, 12.64, 12.95, 13.23, 13.45, 14.17, 14.26, 14.55, 14.39, 15.57, 15.71, 15.72, 15.71, 15.53, 15.62, 15.7, 16.799999, 15.91, 15.66, 15.53, 16.280001000000002, 15.76, 15.59, 15.9, 16.309998999999998, 15.97, 16.200001, 15.95, 15.95, 16.68, 16.6, 16.549999, 17.65, 17.43, 18.139999, 18.6, 18.049999, 17.950001, 18.0, 17.959999, 18.17, 18.0, 17.98, 17.9, 17.459999, 17.51, 17.58, 17.799999, 17.93, 17.549999, 17.75, 17.18, 16.799999, 16.530001000000002, 16.85, 16.709999, 17.379998999999998, 17.57, 18.040001, 18.700001, 18.629998999999998, 19.0, 18.65, 18.41, 18.65, 18.75, 18.290001, 17.200001, 17.469998999999998, 17.25, 17.360001, 17.35, 17.190001000000002, 16.9, 17.43, 17.41, 17.360001, 17.780001000000002, 18.07, 18.48, 19.1, 19.35, 19.200001, 20.809998999999998, 20.43, 20.9, 20.559998999999998, 20.360001, 20.41, 20.57, 20.1, 19.700001, 19.6, 19.01, 19.15, 19.459999, 19.84, 20.6, 19.799999, 19.370001000000002, 20.09, 19.75, 18.68, 18.9, 20.549999, 20.209999, 20.799999, 21.25, 21.139999, 21.219998999999998, 22.030001000000002, 22.15, 22.690001000000002, 23.15, 23.950001, 24.0, 24.84, 23.09, 22.75, 23.42, 21.51, 21.16, 21.18, 20.870001000000002, 20.25, 20.76, 22.33, 21.85, 21.0, 20.450001, 20.1, 19.950001, 20.290001, 19.9, 19.02, 18.49, 17.700001, 17.4, 17.6, 21.5, 20.85, 21.799999, 21.290001, 20.049999, 21.360001, 21.6, 20.6, 19.01, 19.370001000000002, 18.92, 16.9, 16.809998999999998, 16.370001000000002, 15.8, 14.0, 14.9, 14.77, 14.6, 14.58, 14.96, 15.0, 14.5, 14.28, 14.25, 14.3, 13.81, 13.97, 14.32, 12.9, 13.07, 12.76, 12.4, 13.01, 14.62, 14.44, 14.17, 14.2, 13.45, 12.45, 12.5, 12.26, 12.79, 12.32, 12.15, 11.1, 11.35, 10.9, 10.65, 10.21, 8.6, 9.5, 9.89, 9.95, 9.9, 10.37, 10.87, 10.15, 10.16, 9.99, 9.14, 8.71, 8.56, 8.79, 9.2, 9.27, 8.9, 8.88, 9.0, 9.46, 9.35, 9.6, 9.45, 10.1, 10.11, 9.79, 9.72, 9.43, 9.05, 8.2, 8.46, 9.01, 10.3, 9.86, 9.8, 8.8, 9.22, 8.94, 9.35, 9.68, 10.16, 9.96, 9.82, 9.55, 9.65, 9.1, 9.4, 9.3, 9.44, 9.69, 9.41, 9.31, 9.2, 9.13, 8.83, 8.67, 8.97, 8.25, 8.49, 8.35, 8.85, 9.18, 9.08, 9.3, 9.37, 9.65, 9.92, 9.3, 9.5, 9.58, 9.93, 10.17, 10.8, 10.6, 11.1, 10.7, 11.52, 11.97, 12.67, 12.7, 13.25, 12.61, 13.23, 13.19, 12.3, 13.19, 12.95, 12.76, 12.58, 12.83, 13.31, 13.7, 14.75, 13.8, 14.04, 13.68, 13.7, 13.87, 14.1, 13.92, 14.64, 13.55, 12.76, 12.86, 13.52, 12.98, 12.8, 12.5, 12.47, 12.71, 12.43, 12.55, 12.96, 12.58, 12.61, 12.61, 13.3, 13.13, 12.86, 12.97, 13.04, 13.5, 13.28, 13.31, 13.3, 13.27, 13.06, 13.23, 12.66, 13.0, 12.9, 12.8, 12.35, 12.25, 11.51, 11.36, 11.62, 11.9, 11.87, 11.69, 11.96, 11.89, 11.82, 11.46, 10.91, 10.61, 10.22, 10.17, 9.96, 9.69, 10.01, 10.83, 10.48, 10.36, 10.14, 10.41, 9.86, 10.25, 9.81, 9.79, 9.8, 9.91, 9.61, 9.2, 9.06, 8.95, 8.64, 8.6, 7.76, 8.1, 8.07, 8.25, 8.67, 8.71, 8.75, 8.75, 8.93, 8.6, 8.7, 8.81, 7.9, 7.94, 7.7, 7.65, 7.77, 8.05, 7.75, 7.66, 7.24, 6.96, 6.61, 7.12, 6.74, 6.54, 7.25, 7.31, 6.99, 7.9, 7.86, 8.51, 8.46, 9.02, 8.36, 8.07, 8.0, 7.99, 7.9, 8.0, 7.95, 7.82, 8.26, 8.05, 7.86, 7.87, 7.57, 7.6, 7.84, 8.58, 8.08, 8.04, 7.83, 7.6, 7.71, 7.72, 7.5, 7.31, 7.8, 7.81, 7.96, 7.9, 8.05, 8.28, 7.95, 7.81, 7.54, 7.67, 7.54, 7.99, 7.97, 7.6, 7.2, 7.34, 7.51, 7.26, 7.15, 7.34, 7.28, 7.35, 7.02, 7.06, 6.76, 6.91, 6.9, 6.81, 6.66, 6.57, 6.92, 6.53, 6.19, 6.38, 6.27, 6.12, 5.7, 5.31, 5.35, 5.19, 5.03, 4.5, 4.37, 4.73, 4.23, 4.22, 4.67, 4.7, 4.74, 4.56, 4.42, 4.56, 4.73, 4.3, 4.2, 4.37, 4.56, 4.5, 4.54, 4.69, 4.5, 4.67, 4.95, 4.77, 4.81, 5.02, 5.08, 5.31, 5.21, 6.57, 6.57, 7.25, 7.37, 7.7, 7.8, 7.94, 8.13, 6.83, 6.51, 8.15, 8.09, 8.08, 7.85, 7.88, 7.53, 8.15, 8.34, 8.7, 8.31, 8.36, 7.54, 7.8, 7.58, 7.7, 8.13, 8.39, 9.04, 9.49, 9.73, 9.25, 9.65, 9.61, 9.4, 9.32, 9.71, 9.48, 9.85, 10.23, 10.23, 10.25, 10.01, 9.85, 10.28, 9.63, 10.01, 9.82, 10.39, 10.4, 9.93, 9.55, 9.83, 9.31, 9.25, 9.2, 8.55, 8.69, 8.68, 8.5, 8.18, 8.36, 8.09, 8.19, 8.51, 8.7, 8.42, 8.8, 9.28, 8.97, 8.58, 8.6, 8.3, 8.41, 8.75, 9.22, 9.09, 9.61, 9.59, 9.0, 9.22, 9.1, 9.43, 9.42, 9.48, 9.95, 9.65, 9.09, 9.66, 9.85, 10.0, 10.61, 10.47, 10.92, 10.91, 10.97, 11.51, 11.82, 11.77, 11.84, 11.98, 11.95, 11.99, 11.4, 11.76, 11.93, 11.33, 11.58, 11.93, 12.12, 11.79, 11.92, 11.95, 11.63, 12.05, 12.19, 12.31, 12.47, 12.8, 12.82, 12.63, 12.48, 12.5, 12.42, 12.69, 12.5, 13.04, 13.13, 12.97, 13.22, 13.79, 13.69, 14.07, 13.96, 13.32, 13.7, 13.15, 13.21, 13.34, 13.42, 13.45, 13.6, 13.89, 13.98, 13.59, 13.4, 13.3, 13.8, 13.53, 13.67, 13.98, 14.19, 14.71, 15.23, 15.52, 15.61, 15.19, 16.01, 16.24, 17.209999, 17.719998999999998, 17.309998999999998, 17.65, 18.26, 18.219998999999998, 17.700001, 18.110001, 17.99, 18.030001000000002, 17.879998999999998, 16.629998999999998, 16.469998999999998, 16.709999, 17.1, 15.85, 17.1, 15.18, 13.8, 14.55, 15.15, 14.37, 15.05, 15.93, 15.72, 15.9, 15.25, 15.2, 15.3, 15.9, 16.0, 15.12, 16.01, 16.0, 16.299999, 15.97, 15.88, 15.79, 15.55, 15.43, 14.78, 14.9, 14.88, 14.46, 14.45, 14.46, 14.05, 14.32, 14.5, 14.43, 14.85, 14.64, 14.95, 15.45, 15.7, 15.78, 15.5, 15.6, 15.64, 16.15, 15.77, 15.7, 15.73, 15.8, 15.82, 15.84, 15.94, 16.120001000000002, 16.15, 15.73, 15.51, 14.99, 15.26, 14.99, 14.92, 15.38, 15.1, 14.77, 15.18, 15.2, 15.77, 15.74, 15.91, 15.84, 15.74, 15.74, 16.1, 16.0, 15.94, 15.35, 15.51, 15.44, 15.22, 15.11, 15.18, 15.16, 14.34, 14.72, 14.33, 14.07, 13.86, 14.26, 13.81, 12.98, 13.61, 13.2, 13.48, 13.7, 13.24, 13.9, 14.04, 14.55, 14.36, 14.54, 14.67, 15.05, 14.62, 14.61, 14.9, 14.97, 14.6, 14.65, 14.14, 14.15, 14.24, 13.8, 14.13, 13.9, 14.16, 13.99, 13.85, 14.06, 14.04, 14.0, 13.69, 14.13, 14.15, 14.34, 14.88, 15.5, 15.77, 15.77, 15.56, 12.45, 13.75, 13.35, 13.45, 13.75, 13.97, 13.47, 13.68, 13.55, 13.21, 13.16, 12.79, 12.96, 13.23, 13.28, 12.78, 12.96, 12.97, 12.95, 12.94, 12.62, 12.58, 12.31, 12.12, 11.95, 11.76, 12.11, 12.1, 12.34, 12.27, 12.26, 12.25, 12.28, 12.34, 12.38, 12.28, 12.13, 11.83, 11.95, 12.64, 12.96, 12.96, 13.03, 13.0, 13.0, 13.29, 13.0, 12.83, 13.01, 13.3, 13.05, 12.98, 13.22, 13.3, 13.13, 13.57, 13.41, 13.35, 13.5, 13.51, 13.6, 13.14, 12.98, 13.08, 13.3, 13.12, 13.16, 13.64, 13.7, 13.78, 13.78, 13.87, 13.93, 13.76, 13.79, 13.53, 13.85, 13.96, 14.57, 14.65, 15.02, 15.1, 14.88, 14.98, 14.94, 15.03, 15.07, 15.02, 15.1, 15.25, 15.85, 15.6, 15.79, 15.86, 15.7, 15.37, 15.5, 15.19, 15.6, 15.9, 15.88, 15.66, 15.61, 16.129998999999998, 16.17, 16.08, 16.23, 16.16, 16.139999, 16.219998999999998, 16.0, 16.190001000000002, 16.290001, 16.290001, 16.530001000000002, 16.780001000000002, 16.77, 16.969998999999998, 16.9, 16.99, 16.9, 16.959999, 17.049999, 17.309998999999998, 16.690001000000002, 16.889999, 16.709999, 16.690001000000002, 16.639999, 15.35, 15.62, 15.92, 16.02, 16.15, 16.09, 15.98, 16.25, 16.01, 15.93, 15.87, 15.3, 15.34, 15.65, 15.5, 15.22, 15.3, 15.51, 15.48, 15.36, 15.65, 15.1, 15.05, 15.16, 15.18, 15.21, 15.31, 15.75, 15.75, 15.75, 15.99, 16.1, 16.1, 16.190001000000002, 16.49, 16.780001000000002, 16.700001, 16.74, 17.030001000000002, 16.92, 16.879998999999998, 17.040001, 17.32, 17.35, 17.92, 18.35, 18.309998999999998, 18.26, 18.4, 18.42]}],\n",
       "                        {\"legend\": {\"bgcolor\": \"#F5F6F9\", \"font\": {\"color\": \"#4D5663\"}}, \"paper_bgcolor\": \"#F5F6F9\", \"plot_bgcolor\": \"#F5F6F9\", \"template\": {\"data\": {\"bar\": [{\"error_x\": {\"color\": \"#2a3f5f\"}, \"error_y\": {\"color\": \"#2a3f5f\"}, \"marker\": {\"line\": {\"color\": \"#E5ECF6\", \"width\": 0.5}}, \"type\": \"bar\"}], \"barpolar\": [{\"marker\": {\"line\": {\"color\": \"#E5ECF6\", \"width\": 0.5}}, \"type\": \"barpolar\"}], \"carpet\": [{\"aaxis\": {\"endlinecolor\": \"#2a3f5f\", \"gridcolor\": \"white\", \"linecolor\": \"white\", \"minorgridcolor\": \"white\", \"startlinecolor\": \"#2a3f5f\"}, \"baxis\": {\"endlinecolor\": \"#2a3f5f\", \"gridcolor\": \"white\", \"linecolor\": \"white\", \"minorgridcolor\": \"white\", \"startlinecolor\": \"#2a3f5f\"}, \"type\": \"carpet\"}], \"choropleth\": [{\"colorbar\": {\"outlinewidth\": 0, \"ticks\": \"\"}, \"type\": \"choropleth\"}], \"contour\": [{\"colorbar\": {\"outlinewidth\": 0, \"ticks\": \"\"}, \"colorscale\": [[0.0, \"#0d0887\"], [0.1111111111111111, \"#46039f\"], [0.2222222222222222, \"#7201a8\"], [0.3333333333333333, \"#9c179e\"], [0.4444444444444444, \"#bd3786\"], [0.5555555555555556, \"#d8576b\"], [0.6666666666666666, \"#ed7953\"], [0.7777777777777778, \"#fb9f3a\"], [0.8888888888888888, \"#fdca26\"], [1.0, \"#f0f921\"]], \"type\": \"contour\"}], \"contourcarpet\": [{\"colorbar\": {\"outlinewidth\": 0, \"ticks\": \"\"}, \"type\": \"contourcarpet\"}], \"heatmap\": [{\"colorbar\": {\"outlinewidth\": 0, \"ticks\": \"\"}, \"colorscale\": [[0.0, \"#0d0887\"], [0.1111111111111111, \"#46039f\"], [0.2222222222222222, \"#7201a8\"], [0.3333333333333333, \"#9c179e\"], [0.4444444444444444, \"#bd3786\"], [0.5555555555555556, \"#d8576b\"], [0.6666666666666666, \"#ed7953\"], [0.7777777777777778, \"#fb9f3a\"], [0.8888888888888888, \"#fdca26\"], [1.0, \"#f0f921\"]], \"type\": \"heatmap\"}], \"heatmapgl\": [{\"colorbar\": {\"outlinewidth\": 0, \"ticks\": \"\"}, \"colorscale\": [[0.0, \"#0d0887\"], [0.1111111111111111, \"#46039f\"], [0.2222222222222222, \"#7201a8\"], [0.3333333333333333, \"#9c179e\"], [0.4444444444444444, \"#bd3786\"], [0.5555555555555556, \"#d8576b\"], [0.6666666666666666, \"#ed7953\"], [0.7777777777777778, \"#fb9f3a\"], [0.8888888888888888, \"#fdca26\"], [1.0, \"#f0f921\"]], \"type\": \"heatmapgl\"}], \"histogram\": [{\"marker\": {\"colorbar\": {\"outlinewidth\": 0, \"ticks\": \"\"}}, \"type\": \"histogram\"}], \"histogram2d\": [{\"colorbar\": {\"outlinewidth\": 0, \"ticks\": \"\"}, \"colorscale\": [[0.0, \"#0d0887\"], [0.1111111111111111, \"#46039f\"], [0.2222222222222222, \"#7201a8\"], [0.3333333333333333, \"#9c179e\"], [0.4444444444444444, \"#bd3786\"], [0.5555555555555556, \"#d8576b\"], [0.6666666666666666, \"#ed7953\"], [0.7777777777777778, \"#fb9f3a\"], [0.8888888888888888, \"#fdca26\"], [1.0, \"#f0f921\"]], \"type\": \"histogram2d\"}], \"histogram2dcontour\": [{\"colorbar\": {\"outlinewidth\": 0, \"ticks\": \"\"}, \"colorscale\": [[0.0, \"#0d0887\"], [0.1111111111111111, \"#46039f\"], [0.2222222222222222, \"#7201a8\"], [0.3333333333333333, \"#9c179e\"], [0.4444444444444444, \"#bd3786\"], [0.5555555555555556, \"#d8576b\"], [0.6666666666666666, \"#ed7953\"], [0.7777777777777778, \"#fb9f3a\"], [0.8888888888888888, \"#fdca26\"], [1.0, \"#f0f921\"]], \"type\": \"histogram2dcontour\"}], \"mesh3d\": [{\"colorbar\": {\"outlinewidth\": 0, \"ticks\": \"\"}, \"type\": \"mesh3d\"}], \"parcoords\": [{\"line\": {\"colorbar\": {\"outlinewidth\": 0, \"ticks\": \"\"}}, \"type\": \"parcoords\"}], \"pie\": [{\"automargin\": true, \"type\": \"pie\"}], \"scatter\": [{\"marker\": {\"colorbar\": {\"outlinewidth\": 0, \"ticks\": \"\"}}, \"type\": \"scatter\"}], \"scatter3d\": [{\"line\": {\"colorbar\": {\"outlinewidth\": 0, \"ticks\": \"\"}}, \"marker\": {\"colorbar\": {\"outlinewidth\": 0, \"ticks\": \"\"}}, \"type\": \"scatter3d\"}], \"scattercarpet\": [{\"marker\": {\"colorbar\": {\"outlinewidth\": 0, \"ticks\": \"\"}}, \"type\": \"scattercarpet\"}], \"scattergeo\": [{\"marker\": {\"colorbar\": {\"outlinewidth\": 0, \"ticks\": \"\"}}, \"type\": \"scattergeo\"}], \"scattergl\": [{\"marker\": {\"colorbar\": {\"outlinewidth\": 0, \"ticks\": \"\"}}, \"type\": \"scattergl\"}], \"scattermapbox\": [{\"marker\": {\"colorbar\": {\"outlinewidth\": 0, \"ticks\": \"\"}}, \"type\": \"scattermapbox\"}], \"scatterpolar\": [{\"marker\": {\"colorbar\": {\"outlinewidth\": 0, \"ticks\": \"\"}}, \"type\": \"scatterpolar\"}], \"scatterpolargl\": [{\"marker\": {\"colorbar\": {\"outlinewidth\": 0, \"ticks\": \"\"}}, \"type\": \"scatterpolargl\"}], \"scatterternary\": [{\"marker\": {\"colorbar\": {\"outlinewidth\": 0, \"ticks\": \"\"}}, \"type\": \"scatterternary\"}], \"surface\": [{\"colorbar\": {\"outlinewidth\": 0, \"ticks\": \"\"}, \"colorscale\": [[0.0, \"#0d0887\"], [0.1111111111111111, \"#46039f\"], [0.2222222222222222, \"#7201a8\"], [0.3333333333333333, \"#9c179e\"], [0.4444444444444444, \"#bd3786\"], [0.5555555555555556, \"#d8576b\"], [0.6666666666666666, \"#ed7953\"], [0.7777777777777778, \"#fb9f3a\"], [0.8888888888888888, \"#fdca26\"], [1.0, \"#f0f921\"]], \"type\": \"surface\"}], \"table\": [{\"cells\": {\"fill\": {\"color\": \"#EBF0F8\"}, \"line\": {\"color\": \"white\"}}, \"header\": {\"fill\": {\"color\": \"#C8D4E3\"}, \"line\": {\"color\": \"white\"}}, \"type\": \"table\"}]}, \"layout\": {\"annotationdefaults\": {\"arrowcolor\": \"#2a3f5f\", \"arrowhead\": 0, \"arrowwidth\": 1}, \"coloraxis\": {\"colorbar\": {\"outlinewidth\": 0, \"ticks\": \"\"}}, \"colorscale\": {\"diverging\": [[0, \"#8e0152\"], [0.1, \"#c51b7d\"], [0.2, \"#de77ae\"], [0.3, \"#f1b6da\"], [0.4, \"#fde0ef\"], [0.5, \"#f7f7f7\"], [0.6, \"#e6f5d0\"], [0.7, \"#b8e186\"], [0.8, \"#7fbc41\"], [0.9, \"#4d9221\"], [1, \"#276419\"]], \"sequential\": [[0.0, \"#0d0887\"], [0.1111111111111111, \"#46039f\"], [0.2222222222222222, \"#7201a8\"], [0.3333333333333333, \"#9c179e\"], [0.4444444444444444, \"#bd3786\"], [0.5555555555555556, \"#d8576b\"], [0.6666666666666666, \"#ed7953\"], [0.7777777777777778, \"#fb9f3a\"], [0.8888888888888888, \"#fdca26\"], [1.0, \"#f0f921\"]], \"sequentialminus\": [[0.0, \"#0d0887\"], [0.1111111111111111, \"#46039f\"], [0.2222222222222222, \"#7201a8\"], [0.3333333333333333, \"#9c179e\"], [0.4444444444444444, \"#bd3786\"], [0.5555555555555556, \"#d8576b\"], [0.6666666666666666, \"#ed7953\"], [0.7777777777777778, \"#fb9f3a\"], [0.8888888888888888, \"#fdca26\"], [1.0, \"#f0f921\"]]}, \"colorway\": [\"#636efa\", \"#EF553B\", \"#00cc96\", \"#ab63fa\", \"#FFA15A\", \"#19d3f3\", \"#FF6692\", \"#B6E880\", \"#FF97FF\", \"#FECB52\"], \"font\": {\"color\": \"#2a3f5f\"}, \"geo\": {\"bgcolor\": \"white\", \"lakecolor\": \"white\", \"landcolor\": \"#E5ECF6\", \"showlakes\": true, \"showland\": true, \"subunitcolor\": \"white\"}, \"hoverlabel\": {\"align\": \"left\"}, \"hovermode\": \"closest\", \"mapbox\": {\"style\": \"light\"}, \"paper_bgcolor\": \"white\", \"plot_bgcolor\": \"#E5ECF6\", \"polar\": {\"angularaxis\": {\"gridcolor\": \"white\", \"linecolor\": \"white\", \"ticks\": \"\"}, \"bgcolor\": \"#E5ECF6\", \"radialaxis\": {\"gridcolor\": \"white\", \"linecolor\": \"white\", \"ticks\": \"\"}}, \"scene\": {\"xaxis\": {\"backgroundcolor\": \"#E5ECF6\", \"gridcolor\": \"white\", \"gridwidth\": 2, \"linecolor\": \"white\", \"showbackground\": true, \"ticks\": \"\", \"zerolinecolor\": \"white\"}, \"yaxis\": {\"backgroundcolor\": \"#E5ECF6\", \"gridcolor\": \"white\", \"gridwidth\": 2, \"linecolor\": \"white\", \"showbackground\": true, \"ticks\": \"\", \"zerolinecolor\": \"white\"}, \"zaxis\": {\"backgroundcolor\": \"#E5ECF6\", \"gridcolor\": \"white\", \"gridwidth\": 2, \"linecolor\": \"white\", \"showbackground\": true, \"ticks\": \"\", \"zerolinecolor\": \"white\"}}, \"shapedefaults\": {\"line\": {\"color\": \"#2a3f5f\"}}, \"ternary\": {\"aaxis\": {\"gridcolor\": \"white\", \"linecolor\": \"white\", \"ticks\": \"\"}, \"baxis\": {\"gridcolor\": \"white\", \"linecolor\": \"white\", \"ticks\": \"\"}, \"bgcolor\": \"#E5ECF6\", \"caxis\": {\"gridcolor\": \"white\", \"linecolor\": \"white\", \"ticks\": \"\"}}, \"title\": {\"x\": 0.05}, \"xaxis\": {\"automargin\": true, \"gridcolor\": \"white\", \"linecolor\": \"white\", \"ticks\": \"\", \"title\": {\"standoff\": 15}, \"zerolinecolor\": \"white\", \"zerolinewidth\": 2}, \"yaxis\": {\"automargin\": true, \"gridcolor\": \"white\", \"linecolor\": \"white\", \"ticks\": \"\", \"title\": {\"standoff\": 15}, \"zerolinecolor\": \"white\", \"zerolinewidth\": 2}}}, \"title\": {\"font\": {\"color\": \"#4D5663\"}, \"text\": \"A\\u00e7\\u00f5es\"}, \"xaxis\": {\"gridcolor\": \"#E1E5ED\", \"showgrid\": true, \"tickfont\": {\"color\": \"#4D5663\"}, \"title\": {\"font\": {\"color\": \"#4D5663\"}, \"text\": \"\"}, \"zerolinecolor\": \"#E1E5ED\"}, \"yaxis\": {\"gridcolor\": \"#E1E5ED\", \"showgrid\": true, \"tickfont\": {\"color\": \"#4D5663\"}, \"title\": {\"font\": {\"color\": \"#4D5663\"}, \"text\": \"\"}, \"zerolinecolor\": \"#E1E5ED\"}},\n",
       "                        {\"showLink\": true, \"linkText\": \"Export to plot.ly\", \"plotlyServerURL\": \"https://plot.ly\", \"responsive\": true}\n",
       "                    ).then(function(){\n",
       "                            \n",
       "var gd = document.getElementById('afd1bfc4-f1ac-4213-800b-2709eb3162a9');\n",
       "var x = new MutationObserver(function (mutations, observer) {{\n",
       "        var display = window.getComputedStyle(gd).display;\n",
       "        if (!display || display === 'none') {{\n",
       "            console.log([gd, 'removed!']);\n",
       "            Plotly.purge(gd);\n",
       "            observer.disconnect();\n",
       "        }}\n",
       "}});\n",
       "\n",
       "// Listen for the removal of the full notebook cells\n",
       "var notebookContainer = gd.closest('#notebook-container');\n",
       "if (notebookContainer) {{\n",
       "    x.observe(notebookContainer, {childList: true});\n",
       "}}\n",
       "\n",
       "// Listen for the clearing of the current output cell\n",
       "var outputEl = gd.closest('.output');\n",
       "if (outputEl) {{\n",
       "    x.observe(outputEl, {childList: true});\n",
       "}}\n",
       "\n",
       "                        })\n",
       "                };\n",
       "                });\n",
       "            </script>\n",
       "        </div>"
      ]
     },
     "metadata": {},
     "output_type": "display_data"
    }
   ],
   "source": [
    "dados['Open'].iplot(kind='box', title='Ações')"
   ]
  },
  {
   "cell_type": "code",
   "execution_count": 13,
   "metadata": {},
   "outputs": [
    {
     "data": {
      "application/vnd.plotly.v1+json": {
       "config": {
        "linkText": "Export to plot.ly",
        "plotlyServerURL": "https://plot.ly",
        "showLink": true
       },
       "data": [
        {
         "histfunc": "count",
         "histnorm": "",
         "marker": {
          "color": "rgba(255, 153, 51, 1.0)",
          "line": {
           "color": "#000000",
           "width": 1.3
          }
         },
         "name": "Open",
         "nbinsx": 100,
         "opacity": 0.8,
         "orientation": "v",
         "type": "histogram",
         "x": [
          19.99,
          19.809998999999998,
          20.33,
          20.48,
          20.110001,
          19.639999,
          19.77,
          19.85,
          20.01,
          20.01,
          19.889999,
          19.860001,
          19.799999,
          19.57,
          19.42,
          19.42,
          19.370001000000002,
          19.73,
          19.35,
          18.99,
          18.26,
          18.139999,
          18.16,
          17.280001000000002,
          17.93,
          17.75,
          17.549999,
          17.950001,
          17.790001,
          17.610001,
          17.639999,
          17.91,
          18.1,
          17.469998999999998,
          17.51,
          17.049999,
          16.780001000000002,
          16.790001,
          16.76,
          16.5,
          16.82,
          16.629998999999998,
          17.6,
          18.309998999999998,
          18.790001,
          18.290001,
          18.85,
          18.809998999999998,
          18.98,
          19.4,
          18.9,
          18.9,
          19.049999,
          18.719998999999998,
          18.549999,
          18.73,
          18.73,
          18.6,
          null,
          18.27,
          18.27,
          17.68,
          17.950001,
          17.58,
          17.860001,
          17.48,
          18.209999,
          18.469998999999998,
          17.940001000000002,
          17.700001,
          17.469998999999998,
          17.440001000000002,
          17.32,
          18.15,
          18.370001000000002,
          18.709999,
          19.059998999999998,
          19.469998999999998,
          null,
          20,
          19.65,
          19.85,
          20.49,
          20.01,
          20.4,
          20.75,
          20.25,
          20.16,
          19.809998999999998,
          19.530001000000002,
          19.5,
          19.52,
          19.91,
          19.91,
          20.190001000000002,
          20.27,
          19.549999,
          19.889999,
          20.01,
          20.16,
          19.92,
          19.870001000000002,
          20.110001,
          20.459999,
          20,
          19.459999,
          18.950001,
          18.84,
          18.65,
          18.67,
          18.1,
          18.65,
          18.450001,
          17.950001,
          17.889999,
          16.9,
          16.93,
          15.97,
          16.1,
          16.139999,
          16.219998999999998,
          16.35,
          16.35,
          16.049999,
          15.24,
          16.1,
          15.81,
          15.2,
          15.18,
          15.52,
          15.66,
          15.45,
          15.64,
          15.91,
          16,
          16.07,
          15.97,
          16.41,
          16.370001000000002,
          16.24,
          null,
          16.99,
          16.780001000000002,
          16.33,
          16.700001,
          16.870001000000002,
          16.77,
          16.68,
          16.27,
          16.35,
          16.74,
          17.299999,
          16.65,
          16.360001,
          16.700001,
          17.76,
          17.450001,
          17.709999,
          17.07,
          17.799999,
          18.120001000000002,
          18.5,
          17.950001,
          17.51,
          17.32,
          17.32,
          17.15,
          16.889999,
          16.629998999999998,
          16.860001,
          17.799999,
          17.77,
          18.25,
          18.290001,
          18.17,
          17.85,
          18.43,
          18.59,
          18.41,
          18.959999,
          19.09,
          19.09,
          19.09,
          18.73,
          18.82,
          18.57,
          18.57,
          18.530001000000002,
          18.58,
          18.799999,
          18.389999,
          18.57,
          18.66,
          18.4,
          18.26,
          18.15,
          18.059998999999998,
          18.34,
          18.469998999999998,
          18.27,
          18.219998999999998,
          17.99,
          18.959999,
          18.549999,
          18.360001,
          18.23,
          19.42,
          19.709999,
          19.83,
          19.959999,
          20.120001000000002,
          19.99,
          20.290001,
          20.290001,
          20.27,
          19.950001,
          19.66,
          20.059998999999998,
          19.549999,
          20,
          20.5,
          21.299999,
          20.5,
          20.75,
          20.83,
          19.9,
          19.209999,
          18.950001,
          18.889999,
          17.860001,
          17.450001,
          17.76,
          17.76,
          17.73,
          17.32,
          17.360001,
          17.280001000000002,
          16.85,
          16.99,
          17.25,
          17.209999,
          16.950001,
          17.120001000000002,
          17.25,
          17.02,
          17.15,
          17,
          16.950001,
          17.15,
          16.74,
          16.450001,
          16.65,
          16.27,
          16.190001000000002,
          15.76,
          16.01,
          15.71,
          15.79,
          16.040001,
          15.72,
          15.45,
          15.34,
          15.42,
          15.67,
          15.38,
          15.21,
          15.36,
          15.06,
          14.88,
          14.64,
          14.59,
          14.04,
          14.15,
          13.94,
          14.27,
          14.36,
          14.71,
          15.08,
          14.78,
          14.71,
          14.65,
          14.42,
          14.02,
          14.06,
          14.2,
          14.11,
          14.45,
          14.2,
          13.82,
          14.1,
          13.7,
          13.42,
          13.43,
          13.27,
          13.06,
          13.11,
          13.39,
          13.08,
          12.88,
          12.64,
          12.95,
          13.23,
          13.45,
          14.17,
          14.26,
          14.55,
          14.39,
          15.57,
          15.71,
          15.72,
          15.71,
          15.53,
          15.62,
          15.7,
          16.799999,
          15.91,
          15.66,
          15.53,
          16.280001000000002,
          15.76,
          15.59,
          15.9,
          16.309998999999998,
          15.97,
          16.200001,
          15.95,
          15.95,
          16.68,
          16.6,
          16.549999,
          17.65,
          17.43,
          18.139999,
          18.6,
          18.049999,
          17.950001,
          18,
          17.959999,
          18.17,
          18,
          17.98,
          17.9,
          17.459999,
          17.51,
          17.58,
          17.799999,
          17.93,
          17.549999,
          17.75,
          17.18,
          16.799999,
          16.530001000000002,
          16.85,
          16.709999,
          17.379998999999998,
          17.57,
          18.040001,
          18.700001,
          18.629998999999998,
          19,
          18.65,
          18.41,
          18.65,
          18.75,
          18.290001,
          17.200001,
          17.469998999999998,
          17.25,
          17.360001,
          17.35,
          17.190001000000002,
          16.9,
          17.43,
          17.41,
          17.360001,
          17.780001000000002,
          18.07,
          18.48,
          19.1,
          19.35,
          19.200001,
          20.809998999999998,
          20.43,
          20.9,
          20.559998999999998,
          20.360001,
          20.41,
          20.57,
          20.1,
          19.700001,
          19.6,
          19.01,
          19.15,
          19.459999,
          19.84,
          20.6,
          19.799999,
          19.370001000000002,
          20.09,
          19.75,
          18.68,
          18.9,
          20.549999,
          20.209999,
          20.799999,
          21.25,
          21.139999,
          21.219998999999998,
          22.030001000000002,
          22.15,
          22.690001000000002,
          23.15,
          23.950001,
          24,
          24.84,
          23.09,
          22.75,
          23.42,
          21.51,
          21.16,
          21.18,
          20.870001000000002,
          20.25,
          20.76,
          22.33,
          21.85,
          21,
          20.450001,
          20.1,
          19.950001,
          20.290001,
          19.9,
          19.02,
          18.49,
          17.700001,
          17.4,
          17.6,
          21.5,
          20.85,
          21.799999,
          21.290001,
          20.049999,
          21.360001,
          21.6,
          20.6,
          19.01,
          19.370001000000002,
          18.92,
          16.9,
          16.809998999999998,
          16.370001000000002,
          15.8,
          14,
          14.9,
          14.77,
          14.6,
          14.58,
          14.96,
          15,
          14.5,
          14.28,
          14.25,
          14.3,
          13.81,
          13.97,
          14.32,
          12.9,
          13.07,
          12.76,
          12.4,
          13.01,
          14.62,
          14.44,
          14.17,
          14.2,
          13.45,
          12.45,
          12.5,
          12.26,
          12.79,
          12.32,
          12.15,
          11.1,
          11.35,
          10.9,
          10.65,
          10.21,
          8.6,
          9.5,
          9.89,
          9.95,
          9.9,
          10.37,
          10.87,
          10.15,
          10.16,
          9.99,
          9.14,
          8.71,
          8.56,
          8.79,
          9.2,
          9.27,
          8.9,
          8.88,
          9,
          9.46,
          9.35,
          9.6,
          9.45,
          10.1,
          10.11,
          9.79,
          9.72,
          9.43,
          9.05,
          8.2,
          8.46,
          9.01,
          10.3,
          9.86,
          9.8,
          8.8,
          9.22,
          8.94,
          9.35,
          9.68,
          10.16,
          9.96,
          9.82,
          9.55,
          9.65,
          9.1,
          9.4,
          9.3,
          9.44,
          9.69,
          9.41,
          9.31,
          9.2,
          9.13,
          8.83,
          8.67,
          8.97,
          8.25,
          8.49,
          8.35,
          8.85,
          9.18,
          9.08,
          9.3,
          9.37,
          9.65,
          9.92,
          9.3,
          9.5,
          9.58,
          9.93,
          10.17,
          10.8,
          10.6,
          11.1,
          10.7,
          11.52,
          11.97,
          12.67,
          12.7,
          13.25,
          12.61,
          13.23,
          13.19,
          12.3,
          13.19,
          12.95,
          12.76,
          12.58,
          12.83,
          13.31,
          13.7,
          14.75,
          13.8,
          14.04,
          13.68,
          13.7,
          13.87,
          14.1,
          13.92,
          14.64,
          13.55,
          12.76,
          12.86,
          13.52,
          12.98,
          12.8,
          12.5,
          12.47,
          12.71,
          12.43,
          12.55,
          12.96,
          12.58,
          12.61,
          12.61,
          13.3,
          13.13,
          12.86,
          12.97,
          13.04,
          13.5,
          13.28,
          13.31,
          13.3,
          13.27,
          13.06,
          13.23,
          12.66,
          13,
          12.9,
          12.8,
          12.35,
          12.25,
          11.51,
          11.36,
          11.62,
          11.9,
          11.87,
          11.69,
          11.96,
          11.89,
          11.82,
          11.46,
          10.91,
          10.61,
          10.22,
          10.17,
          9.96,
          9.69,
          10.01,
          10.83,
          10.48,
          10.36,
          10.14,
          10.41,
          9.86,
          10.25,
          9.81,
          9.79,
          9.8,
          9.91,
          9.61,
          9.2,
          9.06,
          8.95,
          8.64,
          8.6,
          7.76,
          8.1,
          8.07,
          8.25,
          8.67,
          8.71,
          8.75,
          8.75,
          8.93,
          8.6,
          8.7,
          8.81,
          7.9,
          7.94,
          7.7,
          7.65,
          7.77,
          8.05,
          7.75,
          7.66,
          7.24,
          6.96,
          6.61,
          7.12,
          6.74,
          6.54,
          7.25,
          7.31,
          6.99,
          7.9,
          7.86,
          8.51,
          8.46,
          9.02,
          8.36,
          8.07,
          8,
          7.99,
          7.9,
          8,
          7.95,
          7.82,
          8.26,
          8.05,
          7.86,
          7.87,
          7.57,
          7.6,
          7.84,
          8.58,
          8.08,
          8.04,
          7.83,
          7.6,
          7.71,
          7.72,
          7.5,
          7.31,
          7.8,
          7.81,
          7.96,
          7.9,
          8.05,
          8.28,
          7.95,
          7.81,
          7.54,
          7.67,
          7.54,
          7.99,
          7.97,
          7.6,
          7.2,
          7.34,
          7.51,
          7.26,
          7.15,
          7.34,
          7.28,
          7.35,
          7.02,
          7.06,
          6.76,
          6.91,
          6.9,
          6.81,
          6.66,
          6.57,
          6.92,
          6.53,
          6.19,
          6.38,
          6.27,
          6.12,
          5.7,
          5.31,
          5.35,
          5.19,
          5.03,
          4.5,
          4.37,
          4.73,
          4.23,
          4.22,
          4.67,
          4.7,
          4.74,
          4.56,
          4.42,
          4.56,
          4.73,
          4.3,
          4.2,
          4.37,
          4.56,
          4.5,
          4.54,
          4.69,
          4.5,
          4.67,
          4.95,
          4.77,
          4.81,
          5.02,
          5.08,
          5.31,
          5.21,
          6.57,
          6.57,
          7.25,
          7.37,
          7.7,
          7.8,
          7.94,
          8.13,
          6.83,
          6.51,
          8.15,
          8.09,
          8.08,
          7.85,
          7.88,
          7.53,
          8.15,
          8.34,
          8.7,
          8.31,
          8.36,
          7.54,
          7.8,
          7.58,
          7.7,
          8.13,
          8.39,
          9.04,
          9.49,
          9.73,
          9.25,
          9.65,
          9.61,
          9.4,
          9.32,
          9.71,
          9.48,
          9.85,
          10.23,
          10.23,
          10.25,
          10.01,
          9.85,
          10.28,
          9.63,
          10.01,
          9.82,
          10.39,
          10.4,
          9.93,
          9.55,
          9.83,
          9.31,
          9.25,
          9.2,
          8.55,
          8.69,
          8.68,
          8.5,
          8.18,
          8.36,
          8.09,
          8.19,
          8.51,
          8.7,
          8.42,
          8.8,
          9.28,
          8.97,
          8.58,
          8.6,
          8.3,
          8.41,
          8.75,
          9.22,
          9.09,
          9.61,
          9.59,
          9,
          9.22,
          9.1,
          9.43,
          9.42,
          9.48,
          9.95,
          9.65,
          9.09,
          9.66,
          9.85,
          10,
          10.61,
          10.47,
          10.92,
          10.91,
          10.97,
          11.51,
          11.82,
          11.77,
          11.84,
          11.98,
          11.95,
          11.99,
          11.4,
          11.76,
          11.93,
          11.33,
          11.58,
          11.93,
          12.12,
          11.79,
          11.92,
          11.95,
          11.63,
          12.05,
          12.19,
          12.31,
          12.47,
          12.8,
          12.82,
          12.63,
          12.48,
          12.5,
          12.42,
          12.69,
          12.5,
          13.04,
          13.13,
          12.97,
          13.22,
          13.79,
          13.69,
          14.07,
          13.96,
          13.32,
          13.7,
          13.15,
          13.21,
          13.34,
          13.42,
          13.45,
          13.6,
          13.89,
          13.98,
          13.59,
          13.4,
          13.3,
          13.8,
          13.53,
          13.67,
          13.98,
          14.19,
          14.71,
          15.23,
          15.52,
          15.61,
          15.19,
          16.01,
          16.24,
          17.209999,
          17.719998999999998,
          17.309998999999998,
          17.65,
          18.26,
          18.219998999999998,
          17.700001,
          18.110001,
          17.99,
          18.030001000000002,
          17.879998999999998,
          16.629998999999998,
          16.469998999999998,
          16.709999,
          17.1,
          15.85,
          17.1,
          15.18,
          13.8,
          14.55,
          15.15,
          14.37,
          15.05,
          15.93,
          15.72,
          15.9,
          15.25,
          15.2,
          15.3,
          15.9,
          16,
          15.12,
          16.01,
          16,
          16.299999,
          15.97,
          15.88,
          15.79,
          15.55,
          15.43,
          14.78,
          14.9,
          14.88,
          14.46,
          14.45,
          14.46,
          14.05,
          14.32,
          14.5,
          14.43,
          14.85,
          14.64,
          14.95,
          15.45,
          15.7,
          15.78,
          15.5,
          15.6,
          15.64,
          16.15,
          15.77,
          15.7,
          15.73,
          15.8,
          15.82,
          15.84,
          15.94,
          16.120001000000002,
          16.15,
          15.73,
          15.51,
          14.99,
          15.26,
          14.99,
          14.92,
          15.38,
          15.1,
          14.77,
          15.18,
          15.2,
          15.77,
          15.74,
          15.91,
          15.84,
          15.74,
          15.74,
          16.1,
          16,
          15.94,
          15.35,
          15.51,
          15.44,
          15.22,
          15.11,
          15.18,
          15.16,
          14.34,
          14.72,
          14.33,
          14.07,
          13.86,
          14.26,
          13.81,
          12.98,
          13.61,
          13.2,
          13.48,
          13.7,
          13.24,
          13.9,
          14.04,
          14.55,
          14.36,
          14.54,
          14.67,
          15.05,
          14.62,
          14.61,
          14.9,
          14.97,
          14.6,
          14.65,
          14.14,
          14.15,
          14.24,
          13.8,
          14.13,
          13.9,
          14.16,
          13.99,
          13.85,
          14.06,
          14.04,
          14,
          13.69,
          14.13,
          14.15,
          14.34,
          14.88,
          15.5,
          15.77,
          15.77,
          15.56,
          12.45,
          13.75,
          13.35,
          13.45,
          13.75,
          13.97,
          13.47,
          13.68,
          13.55,
          13.21,
          13.16,
          12.79,
          12.96,
          13.23,
          13.28,
          12.78,
          12.96,
          12.97,
          12.95,
          12.94,
          12.62,
          12.58,
          12.31,
          12.12,
          11.95,
          11.76,
          12.11,
          12.1,
          12.34,
          12.27,
          12.26,
          12.25,
          12.28,
          12.34,
          12.38,
          12.28,
          12.13,
          11.83,
          11.95,
          12.64,
          12.96,
          12.96,
          13.03,
          13,
          13,
          13.29,
          13,
          12.83,
          13.01,
          13.3,
          13.05,
          12.98,
          13.22,
          13.3,
          13.13,
          13.57,
          13.41,
          13.35,
          13.5,
          13.51,
          13.6,
          13.14,
          12.98,
          13.08,
          13.3,
          13.12,
          13.16,
          13.64,
          13.7,
          13.78,
          13.78,
          13.87,
          13.93,
          13.76,
          13.79,
          13.53,
          13.85,
          13.96,
          14.57,
          14.65,
          15.02,
          15.1,
          14.88,
          14.98,
          14.94,
          15.03,
          15.07,
          15.02,
          15.1,
          15.25,
          15.85,
          15.6,
          15.79,
          15.86,
          15.7,
          15.37,
          15.5,
          15.19,
          15.6,
          15.9,
          15.88,
          15.66,
          15.61,
          16.129998999999998,
          16.17,
          16.08,
          16.23,
          16.16,
          16.139999,
          16.219998999999998,
          16,
          16.190001000000002,
          16.290001,
          16.290001,
          16.530001000000002,
          16.780001000000002,
          16.77,
          16.969998999999998,
          16.9,
          16.99,
          16.9,
          16.959999,
          17.049999,
          17.309998999999998,
          16.690001000000002,
          16.889999,
          16.709999,
          16.690001000000002,
          16.639999,
          15.35,
          15.62,
          15.92,
          16.02,
          16.15,
          16.09,
          15.98,
          16.25,
          16.01,
          15.93,
          15.87,
          15.3,
          15.34,
          15.65,
          15.5,
          15.22,
          15.3,
          15.51,
          15.48,
          15.36,
          15.65,
          15.1,
          15.05,
          15.16,
          15.18,
          15.21,
          15.31,
          15.75,
          15.75,
          15.75,
          15.99,
          16.1,
          16.1,
          16.190001000000002,
          16.49,
          16.780001000000002,
          16.700001,
          16.74,
          17.030001000000002,
          16.92,
          16.879998999999998,
          17.040001,
          17.32,
          17.35,
          17.92,
          18.35,
          18.309998999999998,
          18.26,
          18.4,
          18.42
         ]
        }
       ],
       "layout": {
        "barmode": "overlay",
        "legend": {
         "bgcolor": "#F5F6F9",
         "font": {
          "color": "#4D5663"
         }
        },
        "paper_bgcolor": "#F5F6F9",
        "plot_bgcolor": "#F5F6F9",
        "template": {
         "data": {
          "bar": [
           {
            "error_x": {
             "color": "#2a3f5f"
            },
            "error_y": {
             "color": "#2a3f5f"
            },
            "marker": {
             "line": {
              "color": "#E5ECF6",
              "width": 0.5
             }
            },
            "type": "bar"
           }
          ],
          "barpolar": [
           {
            "marker": {
             "line": {
              "color": "#E5ECF6",
              "width": 0.5
             }
            },
            "type": "barpolar"
           }
          ],
          "carpet": [
           {
            "aaxis": {
             "endlinecolor": "#2a3f5f",
             "gridcolor": "white",
             "linecolor": "white",
             "minorgridcolor": "white",
             "startlinecolor": "#2a3f5f"
            },
            "baxis": {
             "endlinecolor": "#2a3f5f",
             "gridcolor": "white",
             "linecolor": "white",
             "minorgridcolor": "white",
             "startlinecolor": "#2a3f5f"
            },
            "type": "carpet"
           }
          ],
          "choropleth": [
           {
            "colorbar": {
             "outlinewidth": 0,
             "ticks": ""
            },
            "type": "choropleth"
           }
          ],
          "contour": [
           {
            "colorbar": {
             "outlinewidth": 0,
             "ticks": ""
            },
            "colorscale": [
             [
              0,
              "#0d0887"
             ],
             [
              0.1111111111111111,
              "#46039f"
             ],
             [
              0.2222222222222222,
              "#7201a8"
             ],
             [
              0.3333333333333333,
              "#9c179e"
             ],
             [
              0.4444444444444444,
              "#bd3786"
             ],
             [
              0.5555555555555556,
              "#d8576b"
             ],
             [
              0.6666666666666666,
              "#ed7953"
             ],
             [
              0.7777777777777778,
              "#fb9f3a"
             ],
             [
              0.8888888888888888,
              "#fdca26"
             ],
             [
              1,
              "#f0f921"
             ]
            ],
            "type": "contour"
           }
          ],
          "contourcarpet": [
           {
            "colorbar": {
             "outlinewidth": 0,
             "ticks": ""
            },
            "type": "contourcarpet"
           }
          ],
          "heatmap": [
           {
            "colorbar": {
             "outlinewidth": 0,
             "ticks": ""
            },
            "colorscale": [
             [
              0,
              "#0d0887"
             ],
             [
              0.1111111111111111,
              "#46039f"
             ],
             [
              0.2222222222222222,
              "#7201a8"
             ],
             [
              0.3333333333333333,
              "#9c179e"
             ],
             [
              0.4444444444444444,
              "#bd3786"
             ],
             [
              0.5555555555555556,
              "#d8576b"
             ],
             [
              0.6666666666666666,
              "#ed7953"
             ],
             [
              0.7777777777777778,
              "#fb9f3a"
             ],
             [
              0.8888888888888888,
              "#fdca26"
             ],
             [
              1,
              "#f0f921"
             ]
            ],
            "type": "heatmap"
           }
          ],
          "heatmapgl": [
           {
            "colorbar": {
             "outlinewidth": 0,
             "ticks": ""
            },
            "colorscale": [
             [
              0,
              "#0d0887"
             ],
             [
              0.1111111111111111,
              "#46039f"
             ],
             [
              0.2222222222222222,
              "#7201a8"
             ],
             [
              0.3333333333333333,
              "#9c179e"
             ],
             [
              0.4444444444444444,
              "#bd3786"
             ],
             [
              0.5555555555555556,
              "#d8576b"
             ],
             [
              0.6666666666666666,
              "#ed7953"
             ],
             [
              0.7777777777777778,
              "#fb9f3a"
             ],
             [
              0.8888888888888888,
              "#fdca26"
             ],
             [
              1,
              "#f0f921"
             ]
            ],
            "type": "heatmapgl"
           }
          ],
          "histogram": [
           {
            "marker": {
             "colorbar": {
              "outlinewidth": 0,
              "ticks": ""
             }
            },
            "type": "histogram"
           }
          ],
          "histogram2d": [
           {
            "colorbar": {
             "outlinewidth": 0,
             "ticks": ""
            },
            "colorscale": [
             [
              0,
              "#0d0887"
             ],
             [
              0.1111111111111111,
              "#46039f"
             ],
             [
              0.2222222222222222,
              "#7201a8"
             ],
             [
              0.3333333333333333,
              "#9c179e"
             ],
             [
              0.4444444444444444,
              "#bd3786"
             ],
             [
              0.5555555555555556,
              "#d8576b"
             ],
             [
              0.6666666666666666,
              "#ed7953"
             ],
             [
              0.7777777777777778,
              "#fb9f3a"
             ],
             [
              0.8888888888888888,
              "#fdca26"
             ],
             [
              1,
              "#f0f921"
             ]
            ],
            "type": "histogram2d"
           }
          ],
          "histogram2dcontour": [
           {
            "colorbar": {
             "outlinewidth": 0,
             "ticks": ""
            },
            "colorscale": [
             [
              0,
              "#0d0887"
             ],
             [
              0.1111111111111111,
              "#46039f"
             ],
             [
              0.2222222222222222,
              "#7201a8"
             ],
             [
              0.3333333333333333,
              "#9c179e"
             ],
             [
              0.4444444444444444,
              "#bd3786"
             ],
             [
              0.5555555555555556,
              "#d8576b"
             ],
             [
              0.6666666666666666,
              "#ed7953"
             ],
             [
              0.7777777777777778,
              "#fb9f3a"
             ],
             [
              0.8888888888888888,
              "#fdca26"
             ],
             [
              1,
              "#f0f921"
             ]
            ],
            "type": "histogram2dcontour"
           }
          ],
          "mesh3d": [
           {
            "colorbar": {
             "outlinewidth": 0,
             "ticks": ""
            },
            "type": "mesh3d"
           }
          ],
          "parcoords": [
           {
            "line": {
             "colorbar": {
              "outlinewidth": 0,
              "ticks": ""
             }
            },
            "type": "parcoords"
           }
          ],
          "pie": [
           {
            "automargin": true,
            "type": "pie"
           }
          ],
          "scatter": [
           {
            "marker": {
             "colorbar": {
              "outlinewidth": 0,
              "ticks": ""
             }
            },
            "type": "scatter"
           }
          ],
          "scatter3d": [
           {
            "line": {
             "colorbar": {
              "outlinewidth": 0,
              "ticks": ""
             }
            },
            "marker": {
             "colorbar": {
              "outlinewidth": 0,
              "ticks": ""
             }
            },
            "type": "scatter3d"
           }
          ],
          "scattercarpet": [
           {
            "marker": {
             "colorbar": {
              "outlinewidth": 0,
              "ticks": ""
             }
            },
            "type": "scattercarpet"
           }
          ],
          "scattergeo": [
           {
            "marker": {
             "colorbar": {
              "outlinewidth": 0,
              "ticks": ""
             }
            },
            "type": "scattergeo"
           }
          ],
          "scattergl": [
           {
            "marker": {
             "colorbar": {
              "outlinewidth": 0,
              "ticks": ""
             }
            },
            "type": "scattergl"
           }
          ],
          "scattermapbox": [
           {
            "marker": {
             "colorbar": {
              "outlinewidth": 0,
              "ticks": ""
             }
            },
            "type": "scattermapbox"
           }
          ],
          "scatterpolar": [
           {
            "marker": {
             "colorbar": {
              "outlinewidth": 0,
              "ticks": ""
             }
            },
            "type": "scatterpolar"
           }
          ],
          "scatterpolargl": [
           {
            "marker": {
             "colorbar": {
              "outlinewidth": 0,
              "ticks": ""
             }
            },
            "type": "scatterpolargl"
           }
          ],
          "scatterternary": [
           {
            "marker": {
             "colorbar": {
              "outlinewidth": 0,
              "ticks": ""
             }
            },
            "type": "scatterternary"
           }
          ],
          "surface": [
           {
            "colorbar": {
             "outlinewidth": 0,
             "ticks": ""
            },
            "colorscale": [
             [
              0,
              "#0d0887"
             ],
             [
              0.1111111111111111,
              "#46039f"
             ],
             [
              0.2222222222222222,
              "#7201a8"
             ],
             [
              0.3333333333333333,
              "#9c179e"
             ],
             [
              0.4444444444444444,
              "#bd3786"
             ],
             [
              0.5555555555555556,
              "#d8576b"
             ],
             [
              0.6666666666666666,
              "#ed7953"
             ],
             [
              0.7777777777777778,
              "#fb9f3a"
             ],
             [
              0.8888888888888888,
              "#fdca26"
             ],
             [
              1,
              "#f0f921"
             ]
            ],
            "type": "surface"
           }
          ],
          "table": [
           {
            "cells": {
             "fill": {
              "color": "#EBF0F8"
             },
             "line": {
              "color": "white"
             }
            },
            "header": {
             "fill": {
              "color": "#C8D4E3"
             },
             "line": {
              "color": "white"
             }
            },
            "type": "table"
           }
          ]
         },
         "layout": {
          "annotationdefaults": {
           "arrowcolor": "#2a3f5f",
           "arrowhead": 0,
           "arrowwidth": 1
          },
          "coloraxis": {
           "colorbar": {
            "outlinewidth": 0,
            "ticks": ""
           }
          },
          "colorscale": {
           "diverging": [
            [
             0,
             "#8e0152"
            ],
            [
             0.1,
             "#c51b7d"
            ],
            [
             0.2,
             "#de77ae"
            ],
            [
             0.3,
             "#f1b6da"
            ],
            [
             0.4,
             "#fde0ef"
            ],
            [
             0.5,
             "#f7f7f7"
            ],
            [
             0.6,
             "#e6f5d0"
            ],
            [
             0.7,
             "#b8e186"
            ],
            [
             0.8,
             "#7fbc41"
            ],
            [
             0.9,
             "#4d9221"
            ],
            [
             1,
             "#276419"
            ]
           ],
           "sequential": [
            [
             0,
             "#0d0887"
            ],
            [
             0.1111111111111111,
             "#46039f"
            ],
            [
             0.2222222222222222,
             "#7201a8"
            ],
            [
             0.3333333333333333,
             "#9c179e"
            ],
            [
             0.4444444444444444,
             "#bd3786"
            ],
            [
             0.5555555555555556,
             "#d8576b"
            ],
            [
             0.6666666666666666,
             "#ed7953"
            ],
            [
             0.7777777777777778,
             "#fb9f3a"
            ],
            [
             0.8888888888888888,
             "#fdca26"
            ],
            [
             1,
             "#f0f921"
            ]
           ],
           "sequentialminus": [
            [
             0,
             "#0d0887"
            ],
            [
             0.1111111111111111,
             "#46039f"
            ],
            [
             0.2222222222222222,
             "#7201a8"
            ],
            [
             0.3333333333333333,
             "#9c179e"
            ],
            [
             0.4444444444444444,
             "#bd3786"
            ],
            [
             0.5555555555555556,
             "#d8576b"
            ],
            [
             0.6666666666666666,
             "#ed7953"
            ],
            [
             0.7777777777777778,
             "#fb9f3a"
            ],
            [
             0.8888888888888888,
             "#fdca26"
            ],
            [
             1,
             "#f0f921"
            ]
           ]
          },
          "colorway": [
           "#636efa",
           "#EF553B",
           "#00cc96",
           "#ab63fa",
           "#FFA15A",
           "#19d3f3",
           "#FF6692",
           "#B6E880",
           "#FF97FF",
           "#FECB52"
          ],
          "font": {
           "color": "#2a3f5f"
          },
          "geo": {
           "bgcolor": "white",
           "lakecolor": "white",
           "landcolor": "#E5ECF6",
           "showlakes": true,
           "showland": true,
           "subunitcolor": "white"
          },
          "hoverlabel": {
           "align": "left"
          },
          "hovermode": "closest",
          "mapbox": {
           "style": "light"
          },
          "paper_bgcolor": "white",
          "plot_bgcolor": "#E5ECF6",
          "polar": {
           "angularaxis": {
            "gridcolor": "white",
            "linecolor": "white",
            "ticks": ""
           },
           "bgcolor": "#E5ECF6",
           "radialaxis": {
            "gridcolor": "white",
            "linecolor": "white",
            "ticks": ""
           }
          },
          "scene": {
           "xaxis": {
            "backgroundcolor": "#E5ECF6",
            "gridcolor": "white",
            "gridwidth": 2,
            "linecolor": "white",
            "showbackground": true,
            "ticks": "",
            "zerolinecolor": "white"
           },
           "yaxis": {
            "backgroundcolor": "#E5ECF6",
            "gridcolor": "white",
            "gridwidth": 2,
            "linecolor": "white",
            "showbackground": true,
            "ticks": "",
            "zerolinecolor": "white"
           },
           "zaxis": {
            "backgroundcolor": "#E5ECF6",
            "gridcolor": "white",
            "gridwidth": 2,
            "linecolor": "white",
            "showbackground": true,
            "ticks": "",
            "zerolinecolor": "white"
           }
          },
          "shapedefaults": {
           "line": {
            "color": "#2a3f5f"
           }
          },
          "ternary": {
           "aaxis": {
            "gridcolor": "white",
            "linecolor": "white",
            "ticks": ""
           },
           "baxis": {
            "gridcolor": "white",
            "linecolor": "white",
            "ticks": ""
           },
           "bgcolor": "#E5ECF6",
           "caxis": {
            "gridcolor": "white",
            "linecolor": "white",
            "ticks": ""
           }
          },
          "title": {
           "x": 0.05
          },
          "xaxis": {
           "automargin": true,
           "gridcolor": "white",
           "linecolor": "white",
           "ticks": "",
           "title": {
            "standoff": 15
           },
           "zerolinecolor": "white",
           "zerolinewidth": 2
          },
          "yaxis": {
           "automargin": true,
           "gridcolor": "white",
           "linecolor": "white",
           "ticks": "",
           "title": {
            "standoff": 15
           },
           "zerolinecolor": "white",
           "zerolinewidth": 2
          }
         }
        },
        "title": {
         "font": {
          "color": "#4D5663"
         },
         "text": "Ações da PET4"
        },
        "xaxis": {
         "gridcolor": "#E1E5ED",
         "linecolor": "black",
         "showgrid": true,
         "tickfont": {
          "color": "#4D5663"
         },
         "title": {
          "font": {
           "color": "#4D5663"
          },
          "text": "Aberta"
         },
         "zerolinecolor": "#E1E5ED"
        },
        "yaxis": {
         "gridcolor": "#E1E5ED",
         "linecolor": "black",
         "showgrid": true,
         "tickfont": {
          "color": "#4D5663"
         },
         "title": {
          "font": {
           "color": "#4D5663"
          },
          "text": "Alta"
         },
         "zerolinecolor": "#E1E5ED"
        }
       }
      },
      "text/html": [
       "<div>\n",
       "        \n",
       "        \n",
       "            <div id=\"0064d86c-5c44-4d16-a3de-434d1bbe5908\" class=\"plotly-graph-div\" style=\"height:525px; width:100%;\"></div>\n",
       "            <script type=\"text/javascript\">\n",
       "                require([\"plotly\"], function(Plotly) {\n",
       "                    window.PLOTLYENV=window.PLOTLYENV || {};\n",
       "                    window.PLOTLYENV.BASE_URL='https://plot.ly';\n",
       "                    \n",
       "                if (document.getElementById(\"0064d86c-5c44-4d16-a3de-434d1bbe5908\")) {\n",
       "                    Plotly.newPlot(\n",
       "                        '0064d86c-5c44-4d16-a3de-434d1bbe5908',\n",
       "                        [{\"histfunc\": \"count\", \"histnorm\": \"\", \"marker\": {\"color\": \"rgba(255, 153, 51, 1.0)\", \"line\": {\"color\": \"#000000\", \"width\": 1.3}}, \"name\": \"Open\", \"nbinsx\": 100, \"opacity\": 0.8, \"orientation\": \"v\", \"type\": \"histogram\", \"x\": [19.99, 19.809998999999998, 20.33, 20.48, 20.110001, 19.639999, 19.77, 19.85, 20.01, 20.01, 19.889999, 19.860001, 19.799999, 19.57, 19.42, 19.42, 19.370001000000002, 19.73, 19.35, 18.99, 18.26, 18.139999, 18.16, 17.280001000000002, 17.93, 17.75, 17.549999, 17.950001, 17.790001, 17.610001, 17.639999, 17.91, 18.1, 17.469998999999998, 17.51, 17.049999, 16.780001000000002, 16.790001, 16.76, 16.5, 16.82, 16.629998999999998, 17.6, 18.309998999999998, 18.790001, 18.290001, 18.85, 18.809998999999998, 18.98, 19.4, 18.9, 18.9, 19.049999, 18.719998999999998, 18.549999, 18.73, 18.73, 18.6, null, 18.27, 18.27, 17.68, 17.950001, 17.58, 17.860001, 17.48, 18.209999, 18.469998999999998, 17.940001000000002, 17.700001, 17.469998999999998, 17.440001000000002, 17.32, 18.15, 18.370001000000002, 18.709999, 19.059998999999998, 19.469998999999998, null, 20.0, 19.65, 19.85, 20.49, 20.01, 20.4, 20.75, 20.25, 20.16, 19.809998999999998, 19.530001000000002, 19.5, 19.52, 19.91, 19.91, 20.190001000000002, 20.27, 19.549999, 19.889999, 20.01, 20.16, 19.92, 19.870001000000002, 20.110001, 20.459999, 20.0, 19.459999, 18.950001, 18.84, 18.65, 18.67, 18.1, 18.65, 18.450001, 17.950001, 17.889999, 16.9, 16.93, 15.97, 16.1, 16.139999, 16.219998999999998, 16.35, 16.35, 16.049999, 15.24, 16.1, 15.81, 15.2, 15.18, 15.52, 15.66, 15.45, 15.64, 15.91, 16.0, 16.07, 15.97, 16.41, 16.370001000000002, 16.24, null, 16.99, 16.780001000000002, 16.33, 16.700001, 16.870001000000002, 16.77, 16.68, 16.27, 16.35, 16.74, 17.299999, 16.65, 16.360001, 16.700001, 17.76, 17.450001, 17.709999, 17.07, 17.799999, 18.120001000000002, 18.5, 17.950001, 17.51, 17.32, 17.32, 17.15, 16.889999, 16.629998999999998, 16.860001, 17.799999, 17.77, 18.25, 18.290001, 18.17, 17.85, 18.43, 18.59, 18.41, 18.959999, 19.09, 19.09, 19.09, 18.73, 18.82, 18.57, 18.57, 18.530001000000002, 18.58, 18.799999, 18.389999, 18.57, 18.66, 18.4, 18.26, 18.15, 18.059998999999998, 18.34, 18.469998999999998, 18.27, 18.219998999999998, 17.99, 18.959999, 18.549999, 18.360001, 18.23, 19.42, 19.709999, 19.83, 19.959999, 20.120001000000002, 19.99, 20.290001, 20.290001, 20.27, 19.950001, 19.66, 20.059998999999998, 19.549999, 20.0, 20.5, 21.299999, 20.5, 20.75, 20.83, 19.9, 19.209999, 18.950001, 18.889999, 17.860001, 17.450001, 17.76, 17.76, 17.73, 17.32, 17.360001, 17.280001000000002, 16.85, 16.99, 17.25, 17.209999, 16.950001, 17.120001000000002, 17.25, 17.02, 17.15, 17.0, 16.950001, 17.15, 16.74, 16.450001, 16.65, 16.27, 16.190001000000002, 15.76, 16.01, 15.71, 15.79, 16.040001, 15.72, 15.45, 15.34, 15.42, 15.67, 15.38, 15.21, 15.36, 15.06, 14.88, 14.64, 14.59, 14.04, 14.15, 13.94, 14.27, 14.36, 14.71, 15.08, 14.78, 14.71, 14.65, 14.42, 14.02, 14.06, 14.2, 14.11, 14.45, 14.2, 13.82, 14.1, 13.7, 13.42, 13.43, 13.27, 13.06, 13.11, 13.39, 13.08, 12.88, 12.64, 12.95, 13.23, 13.45, 14.17, 14.26, 14.55, 14.39, 15.57, 15.71, 15.72, 15.71, 15.53, 15.62, 15.7, 16.799999, 15.91, 15.66, 15.53, 16.280001000000002, 15.76, 15.59, 15.9, 16.309998999999998, 15.97, 16.200001, 15.95, 15.95, 16.68, 16.6, 16.549999, 17.65, 17.43, 18.139999, 18.6, 18.049999, 17.950001, 18.0, 17.959999, 18.17, 18.0, 17.98, 17.9, 17.459999, 17.51, 17.58, 17.799999, 17.93, 17.549999, 17.75, 17.18, 16.799999, 16.530001000000002, 16.85, 16.709999, 17.379998999999998, 17.57, 18.040001, 18.700001, 18.629998999999998, 19.0, 18.65, 18.41, 18.65, 18.75, 18.290001, 17.200001, 17.469998999999998, 17.25, 17.360001, 17.35, 17.190001000000002, 16.9, 17.43, 17.41, 17.360001, 17.780001000000002, 18.07, 18.48, 19.1, 19.35, 19.200001, 20.809998999999998, 20.43, 20.9, 20.559998999999998, 20.360001, 20.41, 20.57, 20.1, 19.700001, 19.6, 19.01, 19.15, 19.459999, 19.84, 20.6, 19.799999, 19.370001000000002, 20.09, 19.75, 18.68, 18.9, 20.549999, 20.209999, 20.799999, 21.25, 21.139999, 21.219998999999998, 22.030001000000002, 22.15, 22.690001000000002, 23.15, 23.950001, 24.0, 24.84, 23.09, 22.75, 23.42, 21.51, 21.16, 21.18, 20.870001000000002, 20.25, 20.76, 22.33, 21.85, 21.0, 20.450001, 20.1, 19.950001, 20.290001, 19.9, 19.02, 18.49, 17.700001, 17.4, 17.6, 21.5, 20.85, 21.799999, 21.290001, 20.049999, 21.360001, 21.6, 20.6, 19.01, 19.370001000000002, 18.92, 16.9, 16.809998999999998, 16.370001000000002, 15.8, 14.0, 14.9, 14.77, 14.6, 14.58, 14.96, 15.0, 14.5, 14.28, 14.25, 14.3, 13.81, 13.97, 14.32, 12.9, 13.07, 12.76, 12.4, 13.01, 14.62, 14.44, 14.17, 14.2, 13.45, 12.45, 12.5, 12.26, 12.79, 12.32, 12.15, 11.1, 11.35, 10.9, 10.65, 10.21, 8.6, 9.5, 9.89, 9.95, 9.9, 10.37, 10.87, 10.15, 10.16, 9.99, 9.14, 8.71, 8.56, 8.79, 9.2, 9.27, 8.9, 8.88, 9.0, 9.46, 9.35, 9.6, 9.45, 10.1, 10.11, 9.79, 9.72, 9.43, 9.05, 8.2, 8.46, 9.01, 10.3, 9.86, 9.8, 8.8, 9.22, 8.94, 9.35, 9.68, 10.16, 9.96, 9.82, 9.55, 9.65, 9.1, 9.4, 9.3, 9.44, 9.69, 9.41, 9.31, 9.2, 9.13, 8.83, 8.67, 8.97, 8.25, 8.49, 8.35, 8.85, 9.18, 9.08, 9.3, 9.37, 9.65, 9.92, 9.3, 9.5, 9.58, 9.93, 10.17, 10.8, 10.6, 11.1, 10.7, 11.52, 11.97, 12.67, 12.7, 13.25, 12.61, 13.23, 13.19, 12.3, 13.19, 12.95, 12.76, 12.58, 12.83, 13.31, 13.7, 14.75, 13.8, 14.04, 13.68, 13.7, 13.87, 14.1, 13.92, 14.64, 13.55, 12.76, 12.86, 13.52, 12.98, 12.8, 12.5, 12.47, 12.71, 12.43, 12.55, 12.96, 12.58, 12.61, 12.61, 13.3, 13.13, 12.86, 12.97, 13.04, 13.5, 13.28, 13.31, 13.3, 13.27, 13.06, 13.23, 12.66, 13.0, 12.9, 12.8, 12.35, 12.25, 11.51, 11.36, 11.62, 11.9, 11.87, 11.69, 11.96, 11.89, 11.82, 11.46, 10.91, 10.61, 10.22, 10.17, 9.96, 9.69, 10.01, 10.83, 10.48, 10.36, 10.14, 10.41, 9.86, 10.25, 9.81, 9.79, 9.8, 9.91, 9.61, 9.2, 9.06, 8.95, 8.64, 8.6, 7.76, 8.1, 8.07, 8.25, 8.67, 8.71, 8.75, 8.75, 8.93, 8.6, 8.7, 8.81, 7.9, 7.94, 7.7, 7.65, 7.77, 8.05, 7.75, 7.66, 7.24, 6.96, 6.61, 7.12, 6.74, 6.54, 7.25, 7.31, 6.99, 7.9, 7.86, 8.51, 8.46, 9.02, 8.36, 8.07, 8.0, 7.99, 7.9, 8.0, 7.95, 7.82, 8.26, 8.05, 7.86, 7.87, 7.57, 7.6, 7.84, 8.58, 8.08, 8.04, 7.83, 7.6, 7.71, 7.72, 7.5, 7.31, 7.8, 7.81, 7.96, 7.9, 8.05, 8.28, 7.95, 7.81, 7.54, 7.67, 7.54, 7.99, 7.97, 7.6, 7.2, 7.34, 7.51, 7.26, 7.15, 7.34, 7.28, 7.35, 7.02, 7.06, 6.76, 6.91, 6.9, 6.81, 6.66, 6.57, 6.92, 6.53, 6.19, 6.38, 6.27, 6.12, 5.7, 5.31, 5.35, 5.19, 5.03, 4.5, 4.37, 4.73, 4.23, 4.22, 4.67, 4.7, 4.74, 4.56, 4.42, 4.56, 4.73, 4.3, 4.2, 4.37, 4.56, 4.5, 4.54, 4.69, 4.5, 4.67, 4.95, 4.77, 4.81, 5.02, 5.08, 5.31, 5.21, 6.57, 6.57, 7.25, 7.37, 7.7, 7.8, 7.94, 8.13, 6.83, 6.51, 8.15, 8.09, 8.08, 7.85, 7.88, 7.53, 8.15, 8.34, 8.7, 8.31, 8.36, 7.54, 7.8, 7.58, 7.7, 8.13, 8.39, 9.04, 9.49, 9.73, 9.25, 9.65, 9.61, 9.4, 9.32, 9.71, 9.48, 9.85, 10.23, 10.23, 10.25, 10.01, 9.85, 10.28, 9.63, 10.01, 9.82, 10.39, 10.4, 9.93, 9.55, 9.83, 9.31, 9.25, 9.2, 8.55, 8.69, 8.68, 8.5, 8.18, 8.36, 8.09, 8.19, 8.51, 8.7, 8.42, 8.8, 9.28, 8.97, 8.58, 8.6, 8.3, 8.41, 8.75, 9.22, 9.09, 9.61, 9.59, 9.0, 9.22, 9.1, 9.43, 9.42, 9.48, 9.95, 9.65, 9.09, 9.66, 9.85, 10.0, 10.61, 10.47, 10.92, 10.91, 10.97, 11.51, 11.82, 11.77, 11.84, 11.98, 11.95, 11.99, 11.4, 11.76, 11.93, 11.33, 11.58, 11.93, 12.12, 11.79, 11.92, 11.95, 11.63, 12.05, 12.19, 12.31, 12.47, 12.8, 12.82, 12.63, 12.48, 12.5, 12.42, 12.69, 12.5, 13.04, 13.13, 12.97, 13.22, 13.79, 13.69, 14.07, 13.96, 13.32, 13.7, 13.15, 13.21, 13.34, 13.42, 13.45, 13.6, 13.89, 13.98, 13.59, 13.4, 13.3, 13.8, 13.53, 13.67, 13.98, 14.19, 14.71, 15.23, 15.52, 15.61, 15.19, 16.01, 16.24, 17.209999, 17.719998999999998, 17.309998999999998, 17.65, 18.26, 18.219998999999998, 17.700001, 18.110001, 17.99, 18.030001000000002, 17.879998999999998, 16.629998999999998, 16.469998999999998, 16.709999, 17.1, 15.85, 17.1, 15.18, 13.8, 14.55, 15.15, 14.37, 15.05, 15.93, 15.72, 15.9, 15.25, 15.2, 15.3, 15.9, 16.0, 15.12, 16.01, 16.0, 16.299999, 15.97, 15.88, 15.79, 15.55, 15.43, 14.78, 14.9, 14.88, 14.46, 14.45, 14.46, 14.05, 14.32, 14.5, 14.43, 14.85, 14.64, 14.95, 15.45, 15.7, 15.78, 15.5, 15.6, 15.64, 16.15, 15.77, 15.7, 15.73, 15.8, 15.82, 15.84, 15.94, 16.120001000000002, 16.15, 15.73, 15.51, 14.99, 15.26, 14.99, 14.92, 15.38, 15.1, 14.77, 15.18, 15.2, 15.77, 15.74, 15.91, 15.84, 15.74, 15.74, 16.1, 16.0, 15.94, 15.35, 15.51, 15.44, 15.22, 15.11, 15.18, 15.16, 14.34, 14.72, 14.33, 14.07, 13.86, 14.26, 13.81, 12.98, 13.61, 13.2, 13.48, 13.7, 13.24, 13.9, 14.04, 14.55, 14.36, 14.54, 14.67, 15.05, 14.62, 14.61, 14.9, 14.97, 14.6, 14.65, 14.14, 14.15, 14.24, 13.8, 14.13, 13.9, 14.16, 13.99, 13.85, 14.06, 14.04, 14.0, 13.69, 14.13, 14.15, 14.34, 14.88, 15.5, 15.77, 15.77, 15.56, 12.45, 13.75, 13.35, 13.45, 13.75, 13.97, 13.47, 13.68, 13.55, 13.21, 13.16, 12.79, 12.96, 13.23, 13.28, 12.78, 12.96, 12.97, 12.95, 12.94, 12.62, 12.58, 12.31, 12.12, 11.95, 11.76, 12.11, 12.1, 12.34, 12.27, 12.26, 12.25, 12.28, 12.34, 12.38, 12.28, 12.13, 11.83, 11.95, 12.64, 12.96, 12.96, 13.03, 13.0, 13.0, 13.29, 13.0, 12.83, 13.01, 13.3, 13.05, 12.98, 13.22, 13.3, 13.13, 13.57, 13.41, 13.35, 13.5, 13.51, 13.6, 13.14, 12.98, 13.08, 13.3, 13.12, 13.16, 13.64, 13.7, 13.78, 13.78, 13.87, 13.93, 13.76, 13.79, 13.53, 13.85, 13.96, 14.57, 14.65, 15.02, 15.1, 14.88, 14.98, 14.94, 15.03, 15.07, 15.02, 15.1, 15.25, 15.85, 15.6, 15.79, 15.86, 15.7, 15.37, 15.5, 15.19, 15.6, 15.9, 15.88, 15.66, 15.61, 16.129998999999998, 16.17, 16.08, 16.23, 16.16, 16.139999, 16.219998999999998, 16.0, 16.190001000000002, 16.290001, 16.290001, 16.530001000000002, 16.780001000000002, 16.77, 16.969998999999998, 16.9, 16.99, 16.9, 16.959999, 17.049999, 17.309998999999998, 16.690001000000002, 16.889999, 16.709999, 16.690001000000002, 16.639999, 15.35, 15.62, 15.92, 16.02, 16.15, 16.09, 15.98, 16.25, 16.01, 15.93, 15.87, 15.3, 15.34, 15.65, 15.5, 15.22, 15.3, 15.51, 15.48, 15.36, 15.65, 15.1, 15.05, 15.16, 15.18, 15.21, 15.31, 15.75, 15.75, 15.75, 15.99, 16.1, 16.1, 16.190001000000002, 16.49, 16.780001000000002, 16.700001, 16.74, 17.030001000000002, 16.92, 16.879998999999998, 17.040001, 17.32, 17.35, 17.92, 18.35, 18.309998999999998, 18.26, 18.4, 18.42]}],\n",
       "                        {\"barmode\": \"overlay\", \"legend\": {\"bgcolor\": \"#F5F6F9\", \"font\": {\"color\": \"#4D5663\"}}, \"paper_bgcolor\": \"#F5F6F9\", \"plot_bgcolor\": \"#F5F6F9\", \"template\": {\"data\": {\"bar\": [{\"error_x\": {\"color\": \"#2a3f5f\"}, \"error_y\": {\"color\": \"#2a3f5f\"}, \"marker\": {\"line\": {\"color\": \"#E5ECF6\", \"width\": 0.5}}, \"type\": \"bar\"}], \"barpolar\": [{\"marker\": {\"line\": {\"color\": \"#E5ECF6\", \"width\": 0.5}}, \"type\": \"barpolar\"}], \"carpet\": [{\"aaxis\": {\"endlinecolor\": \"#2a3f5f\", \"gridcolor\": \"white\", \"linecolor\": \"white\", \"minorgridcolor\": \"white\", \"startlinecolor\": \"#2a3f5f\"}, \"baxis\": {\"endlinecolor\": \"#2a3f5f\", \"gridcolor\": \"white\", \"linecolor\": \"white\", \"minorgridcolor\": \"white\", \"startlinecolor\": \"#2a3f5f\"}, \"type\": \"carpet\"}], \"choropleth\": [{\"colorbar\": {\"outlinewidth\": 0, \"ticks\": \"\"}, \"type\": \"choropleth\"}], \"contour\": [{\"colorbar\": {\"outlinewidth\": 0, \"ticks\": \"\"}, \"colorscale\": [[0.0, \"#0d0887\"], [0.1111111111111111, \"#46039f\"], [0.2222222222222222, \"#7201a8\"], [0.3333333333333333, \"#9c179e\"], [0.4444444444444444, \"#bd3786\"], [0.5555555555555556, \"#d8576b\"], [0.6666666666666666, \"#ed7953\"], [0.7777777777777778, \"#fb9f3a\"], [0.8888888888888888, \"#fdca26\"], [1.0, \"#f0f921\"]], \"type\": \"contour\"}], \"contourcarpet\": [{\"colorbar\": {\"outlinewidth\": 0, \"ticks\": \"\"}, \"type\": \"contourcarpet\"}], \"heatmap\": [{\"colorbar\": {\"outlinewidth\": 0, \"ticks\": \"\"}, \"colorscale\": [[0.0, \"#0d0887\"], [0.1111111111111111, \"#46039f\"], [0.2222222222222222, \"#7201a8\"], [0.3333333333333333, \"#9c179e\"], [0.4444444444444444, \"#bd3786\"], [0.5555555555555556, \"#d8576b\"], [0.6666666666666666, \"#ed7953\"], [0.7777777777777778, \"#fb9f3a\"], [0.8888888888888888, \"#fdca26\"], [1.0, \"#f0f921\"]], \"type\": \"heatmap\"}], \"heatmapgl\": [{\"colorbar\": {\"outlinewidth\": 0, \"ticks\": \"\"}, \"colorscale\": [[0.0, \"#0d0887\"], [0.1111111111111111, \"#46039f\"], [0.2222222222222222, \"#7201a8\"], [0.3333333333333333, \"#9c179e\"], [0.4444444444444444, \"#bd3786\"], [0.5555555555555556, \"#d8576b\"], [0.6666666666666666, \"#ed7953\"], [0.7777777777777778, \"#fb9f3a\"], [0.8888888888888888, \"#fdca26\"], [1.0, \"#f0f921\"]], \"type\": \"heatmapgl\"}], \"histogram\": [{\"marker\": {\"colorbar\": {\"outlinewidth\": 0, \"ticks\": \"\"}}, \"type\": \"histogram\"}], \"histogram2d\": [{\"colorbar\": {\"outlinewidth\": 0, \"ticks\": \"\"}, \"colorscale\": [[0.0, \"#0d0887\"], [0.1111111111111111, \"#46039f\"], [0.2222222222222222, \"#7201a8\"], [0.3333333333333333, \"#9c179e\"], [0.4444444444444444, \"#bd3786\"], [0.5555555555555556, \"#d8576b\"], [0.6666666666666666, \"#ed7953\"], [0.7777777777777778, \"#fb9f3a\"], [0.8888888888888888, \"#fdca26\"], [1.0, \"#f0f921\"]], \"type\": \"histogram2d\"}], \"histogram2dcontour\": [{\"colorbar\": {\"outlinewidth\": 0, \"ticks\": \"\"}, \"colorscale\": [[0.0, \"#0d0887\"], [0.1111111111111111, \"#46039f\"], [0.2222222222222222, \"#7201a8\"], [0.3333333333333333, \"#9c179e\"], [0.4444444444444444, \"#bd3786\"], [0.5555555555555556, \"#d8576b\"], [0.6666666666666666, \"#ed7953\"], [0.7777777777777778, \"#fb9f3a\"], [0.8888888888888888, \"#fdca26\"], [1.0, \"#f0f921\"]], \"type\": \"histogram2dcontour\"}], \"mesh3d\": [{\"colorbar\": {\"outlinewidth\": 0, \"ticks\": \"\"}, \"type\": \"mesh3d\"}], \"parcoords\": [{\"line\": {\"colorbar\": {\"outlinewidth\": 0, \"ticks\": \"\"}}, \"type\": \"parcoords\"}], \"pie\": [{\"automargin\": true, \"type\": \"pie\"}], \"scatter\": [{\"marker\": {\"colorbar\": {\"outlinewidth\": 0, \"ticks\": \"\"}}, \"type\": \"scatter\"}], \"scatter3d\": [{\"line\": {\"colorbar\": {\"outlinewidth\": 0, \"ticks\": \"\"}}, \"marker\": {\"colorbar\": {\"outlinewidth\": 0, \"ticks\": \"\"}}, \"type\": \"scatter3d\"}], \"scattercarpet\": [{\"marker\": {\"colorbar\": {\"outlinewidth\": 0, \"ticks\": \"\"}}, \"type\": \"scattercarpet\"}], \"scattergeo\": [{\"marker\": {\"colorbar\": {\"outlinewidth\": 0, \"ticks\": \"\"}}, \"type\": \"scattergeo\"}], \"scattergl\": [{\"marker\": {\"colorbar\": {\"outlinewidth\": 0, \"ticks\": \"\"}}, \"type\": \"scattergl\"}], \"scattermapbox\": [{\"marker\": {\"colorbar\": {\"outlinewidth\": 0, \"ticks\": \"\"}}, \"type\": \"scattermapbox\"}], \"scatterpolar\": [{\"marker\": {\"colorbar\": {\"outlinewidth\": 0, \"ticks\": \"\"}}, \"type\": \"scatterpolar\"}], \"scatterpolargl\": [{\"marker\": {\"colorbar\": {\"outlinewidth\": 0, \"ticks\": \"\"}}, \"type\": \"scatterpolargl\"}], \"scatterternary\": [{\"marker\": {\"colorbar\": {\"outlinewidth\": 0, \"ticks\": \"\"}}, \"type\": \"scatterternary\"}], \"surface\": [{\"colorbar\": {\"outlinewidth\": 0, \"ticks\": \"\"}, \"colorscale\": [[0.0, \"#0d0887\"], [0.1111111111111111, \"#46039f\"], [0.2222222222222222, \"#7201a8\"], [0.3333333333333333, \"#9c179e\"], [0.4444444444444444, \"#bd3786\"], [0.5555555555555556, \"#d8576b\"], [0.6666666666666666, \"#ed7953\"], [0.7777777777777778, \"#fb9f3a\"], [0.8888888888888888, \"#fdca26\"], [1.0, \"#f0f921\"]], \"type\": \"surface\"}], \"table\": [{\"cells\": {\"fill\": {\"color\": \"#EBF0F8\"}, \"line\": {\"color\": \"white\"}}, \"header\": {\"fill\": {\"color\": \"#C8D4E3\"}, \"line\": {\"color\": \"white\"}}, \"type\": \"table\"}]}, \"layout\": {\"annotationdefaults\": {\"arrowcolor\": \"#2a3f5f\", \"arrowhead\": 0, \"arrowwidth\": 1}, \"coloraxis\": {\"colorbar\": {\"outlinewidth\": 0, \"ticks\": \"\"}}, \"colorscale\": {\"diverging\": [[0, \"#8e0152\"], [0.1, \"#c51b7d\"], [0.2, \"#de77ae\"], [0.3, \"#f1b6da\"], [0.4, \"#fde0ef\"], [0.5, \"#f7f7f7\"], [0.6, \"#e6f5d0\"], [0.7, \"#b8e186\"], [0.8, \"#7fbc41\"], [0.9, \"#4d9221\"], [1, \"#276419\"]], \"sequential\": [[0.0, \"#0d0887\"], [0.1111111111111111, \"#46039f\"], [0.2222222222222222, \"#7201a8\"], [0.3333333333333333, \"#9c179e\"], [0.4444444444444444, \"#bd3786\"], [0.5555555555555556, \"#d8576b\"], [0.6666666666666666, \"#ed7953\"], [0.7777777777777778, \"#fb9f3a\"], [0.8888888888888888, \"#fdca26\"], [1.0, \"#f0f921\"]], \"sequentialminus\": [[0.0, \"#0d0887\"], [0.1111111111111111, \"#46039f\"], [0.2222222222222222, \"#7201a8\"], [0.3333333333333333, \"#9c179e\"], [0.4444444444444444, \"#bd3786\"], [0.5555555555555556, \"#d8576b\"], [0.6666666666666666, \"#ed7953\"], [0.7777777777777778, \"#fb9f3a\"], [0.8888888888888888, \"#fdca26\"], [1.0, \"#f0f921\"]]}, \"colorway\": [\"#636efa\", \"#EF553B\", \"#00cc96\", \"#ab63fa\", \"#FFA15A\", \"#19d3f3\", \"#FF6692\", \"#B6E880\", \"#FF97FF\", \"#FECB52\"], \"font\": {\"color\": \"#2a3f5f\"}, \"geo\": {\"bgcolor\": \"white\", \"lakecolor\": \"white\", \"landcolor\": \"#E5ECF6\", \"showlakes\": true, \"showland\": true, \"subunitcolor\": \"white\"}, \"hoverlabel\": {\"align\": \"left\"}, \"hovermode\": \"closest\", \"mapbox\": {\"style\": \"light\"}, \"paper_bgcolor\": \"white\", \"plot_bgcolor\": \"#E5ECF6\", \"polar\": {\"angularaxis\": {\"gridcolor\": \"white\", \"linecolor\": \"white\", \"ticks\": \"\"}, \"bgcolor\": \"#E5ECF6\", \"radialaxis\": {\"gridcolor\": \"white\", \"linecolor\": \"white\", \"ticks\": \"\"}}, \"scene\": {\"xaxis\": {\"backgroundcolor\": \"#E5ECF6\", \"gridcolor\": \"white\", \"gridwidth\": 2, \"linecolor\": \"white\", \"showbackground\": true, \"ticks\": \"\", \"zerolinecolor\": \"white\"}, \"yaxis\": {\"backgroundcolor\": \"#E5ECF6\", \"gridcolor\": \"white\", \"gridwidth\": 2, \"linecolor\": \"white\", \"showbackground\": true, \"ticks\": \"\", \"zerolinecolor\": \"white\"}, \"zaxis\": {\"backgroundcolor\": \"#E5ECF6\", \"gridcolor\": \"white\", \"gridwidth\": 2, \"linecolor\": \"white\", \"showbackground\": true, \"ticks\": \"\", \"zerolinecolor\": \"white\"}}, \"shapedefaults\": {\"line\": {\"color\": \"#2a3f5f\"}}, \"ternary\": {\"aaxis\": {\"gridcolor\": \"white\", \"linecolor\": \"white\", \"ticks\": \"\"}, \"baxis\": {\"gridcolor\": \"white\", \"linecolor\": \"white\", \"ticks\": \"\"}, \"bgcolor\": \"#E5ECF6\", \"caxis\": {\"gridcolor\": \"white\", \"linecolor\": \"white\", \"ticks\": \"\"}}, \"title\": {\"x\": 0.05}, \"xaxis\": {\"automargin\": true, \"gridcolor\": \"white\", \"linecolor\": \"white\", \"ticks\": \"\", \"title\": {\"standoff\": 15}, \"zerolinecolor\": \"white\", \"zerolinewidth\": 2}, \"yaxis\": {\"automargin\": true, \"gridcolor\": \"white\", \"linecolor\": \"white\", \"ticks\": \"\", \"title\": {\"standoff\": 15}, \"zerolinecolor\": \"white\", \"zerolinewidth\": 2}}}, \"title\": {\"font\": {\"color\": \"#4D5663\"}, \"text\": \"A\\u00e7\\u00f5es da PET4\"}, \"xaxis\": {\"gridcolor\": \"#E1E5ED\", \"linecolor\": \"black\", \"showgrid\": true, \"tickfont\": {\"color\": \"#4D5663\"}, \"title\": {\"font\": {\"color\": \"#4D5663\"}, \"text\": \"Aberta\"}, \"zerolinecolor\": \"#E1E5ED\"}, \"yaxis\": {\"gridcolor\": \"#E1E5ED\", \"linecolor\": \"black\", \"showgrid\": true, \"tickfont\": {\"color\": \"#4D5663\"}, \"title\": {\"font\": {\"color\": \"#4D5663\"}, \"text\": \"Alta\"}, \"zerolinecolor\": \"#E1E5ED\"}},\n",
       "                        {\"showLink\": true, \"linkText\": \"Export to plot.ly\", \"plotlyServerURL\": \"https://plot.ly\", \"responsive\": true}\n",
       "                    ).then(function(){\n",
       "                            \n",
       "var gd = document.getElementById('0064d86c-5c44-4d16-a3de-434d1bbe5908');\n",
       "var x = new MutationObserver(function (mutations, observer) {{\n",
       "        var display = window.getComputedStyle(gd).display;\n",
       "        if (!display || display === 'none') {{\n",
       "            console.log([gd, 'removed!']);\n",
       "            Plotly.purge(gd);\n",
       "            observer.disconnect();\n",
       "        }}\n",
       "}});\n",
       "\n",
       "// Listen for the removal of the full notebook cells\n",
       "var notebookContainer = gd.closest('#notebook-container');\n",
       "if (notebookContainer) {{\n",
       "    x.observe(notebookContainer, {childList: true});\n",
       "}}\n",
       "\n",
       "// Listen for the clearing of the current output cell\n",
       "var outputEl = gd.closest('.output');\n",
       "if (outputEl) {{\n",
       "    x.observe(outputEl, {childList: true});\n",
       "}}\n",
       "\n",
       "                        })\n",
       "                };\n",
       "                });\n",
       "            </script>\n",
       "        </div>"
      ]
     },
     "metadata": {},
     "output_type": "display_data"
    }
   ],
   "source": [
    "dados['Open'].iplot(\n",
    "    kind='hist',\n",
    "    bins=100,\n",
    "    xTitle='Aberta',\n",
    "    linecolor='black',\n",
    "    yTitle='Alta',\n",
    "    title='Ações da PET4')"
   ]
  },
  {
   "cell_type": "code",
   "execution_count": null,
   "metadata": {},
   "outputs": [],
   "source": []
  }
 ],
 "metadata": {
  "kernelspec": {
   "display_name": "Python 3",
   "language": "python",
   "name": "python3"
  }
 },
 "nbformat": 4,
 "nbformat_minor": 4
}
