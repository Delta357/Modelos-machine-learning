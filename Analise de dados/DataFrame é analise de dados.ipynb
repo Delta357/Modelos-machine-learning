{
 "cells": [
  {
   "cell_type": "code",
   "execution_count": 1,
   "metadata": {},
   "outputs": [],
   "source": [
    "import pandas as pd\n",
    "import numpy as np\n",
    "import seaborn as sns\n",
    "\n",
    "from pandas import DataFrame\n",
    "from collections import OrderedDict"
   ]
  },
  {
   "cell_type": "code",
   "execution_count": 2,
   "metadata": {},
   "outputs": [],
   "source": [
    "Planetas1 = OrderedDict(\n",
    "{\n",
    "'Planetas rochosos': ['Mércurio', 'Vênus', 'Terra', 'Marte'],\n",
    "'Distância ao Sol': [57910000, 108200000, 149600000, 227940000],\n",
    "'Distância ao Sol na escala adotada - cm': [58, 108, 150, 228]\n",
    "})"
   ]
  },
  {
   "cell_type": "code",
   "execution_count": 3,
   "metadata": {},
   "outputs": [],
   "source": [
    "Planetas1 = pd.DataFrame(Planetas1)"
   ]
  },
  {
   "cell_type": "code",
   "execution_count": 4,
   "metadata": {},
   "outputs": [
    {
     "data": {
      "text/html": [
       "<div>\n",
       "<style scoped>\n",
       "    .dataframe tbody tr th:only-of-type {\n",
       "        vertical-align: middle;\n",
       "    }\n",
       "\n",
       "    .dataframe tbody tr th {\n",
       "        vertical-align: top;\n",
       "    }\n",
       "\n",
       "    .dataframe thead th {\n",
       "        text-align: right;\n",
       "    }\n",
       "</style>\n",
       "<table border=\"1\" class=\"dataframe\">\n",
       "  <thead>\n",
       "    <tr style=\"text-align: right;\">\n",
       "      <th></th>\n",
       "      <th>Planetas rochosos</th>\n",
       "      <th>Distância ao Sol</th>\n",
       "      <th>Distância ao Sol na escala adotada - cm</th>\n",
       "    </tr>\n",
       "  </thead>\n",
       "  <tbody>\n",
       "    <tr>\n",
       "      <td>0</td>\n",
       "      <td>Mércurio</td>\n",
       "      <td>57910000</td>\n",
       "      <td>58</td>\n",
       "    </tr>\n",
       "    <tr>\n",
       "      <td>1</td>\n",
       "      <td>Vênus</td>\n",
       "      <td>108200000</td>\n",
       "      <td>108</td>\n",
       "    </tr>\n",
       "    <tr>\n",
       "      <td>2</td>\n",
       "      <td>Terra</td>\n",
       "      <td>149600000</td>\n",
       "      <td>150</td>\n",
       "    </tr>\n",
       "    <tr>\n",
       "      <td>3</td>\n",
       "      <td>Marte</td>\n",
       "      <td>227940000</td>\n",
       "      <td>228</td>\n",
       "    </tr>\n",
       "  </tbody>\n",
       "</table>\n",
       "</div>"
      ],
      "text/plain": [
       "  Planetas rochosos  Distância ao Sol  Distância ao Sol na escala adotada - cm\n",
       "0          Mércurio          57910000                                       58\n",
       "1             Vênus         108200000                                      108\n",
       "2             Terra         149600000                                      150\n",
       "3             Marte         227940000                                      228"
      ]
     },
     "execution_count": 4,
     "metadata": {},
     "output_type": "execute_result"
    }
   ],
   "source": [
    "Planetas1"
   ]
  },
  {
   "cell_type": "code",
   "execution_count": 5,
   "metadata": {},
   "outputs": [],
   "source": [
    "planetas2 = OrderedDict(\n",
    "{\n",
    "'Planetas Gasoso': ['Júpiter', 'Satuno', 'Urano', 'Netuno'],\n",
    "'Distância ao Sol': [778330000, 1429400000, 2870990000, 4504300000],\n",
    "'Distância ao Sol na escala adotada': [778, 1429, 2871, 4504]\n",
    "})"
   ]
  },
  {
   "cell_type": "code",
   "execution_count": 22,
   "metadata": {},
   "outputs": [
    {
     "data": {
      "text/html": [
       "<div>\n",
       "<style scoped>\n",
       "    .dataframe tbody tr th:only-of-type {\n",
       "        vertical-align: middle;\n",
       "    }\n",
       "\n",
       "    .dataframe tbody tr th {\n",
       "        vertical-align: top;\n",
       "    }\n",
       "\n",
       "    .dataframe thead th {\n",
       "        text-align: right;\n",
       "    }\n",
       "</style>\n",
       "<table border=\"1\" class=\"dataframe\">\n",
       "  <thead>\n",
       "    <tr style=\"text-align: right;\">\n",
       "      <th></th>\n",
       "      <th>Sol</th>\n",
       "      <th>Jupiter</th>\n",
       "      <th>Saturno</th>\n",
       "      <th>Urano</th>\n",
       "      <th>Netuno</th>\n",
       "    </tr>\n",
       "  </thead>\n",
       "  <tbody>\n",
       "    <tr>\n",
       "      <td>0</td>\n",
       "      <td>0.740587</td>\n",
       "      <td>0.787632</td>\n",
       "      <td>0.104442</td>\n",
       "      <td>0.300614</td>\n",
       "      <td>0.268019</td>\n",
       "    </tr>\n",
       "    <tr>\n",
       "      <td>1</td>\n",
       "      <td>0.902465</td>\n",
       "      <td>0.604594</td>\n",
       "      <td>0.549049</td>\n",
       "      <td>0.280762</td>\n",
       "      <td>0.664387</td>\n",
       "    </tr>\n",
       "    <tr>\n",
       "      <td>2</td>\n",
       "      <td>0.689454</td>\n",
       "      <td>0.589813</td>\n",
       "      <td>0.806060</td>\n",
       "      <td>0.054702</td>\n",
       "      <td>0.191358</td>\n",
       "    </tr>\n",
       "    <tr>\n",
       "      <td>3</td>\n",
       "      <td>0.112777</td>\n",
       "      <td>0.542139</td>\n",
       "      <td>0.892222</td>\n",
       "      <td>0.988906</td>\n",
       "      <td>0.505979</td>\n",
       "    </tr>\n",
       "    <tr>\n",
       "      <td>4</td>\n",
       "      <td>0.233872</td>\n",
       "      <td>0.040377</td>\n",
       "      <td>0.897407</td>\n",
       "      <td>0.873630</td>\n",
       "      <td>0.527623</td>\n",
       "    </tr>\n",
       "  </tbody>\n",
       "</table>\n",
       "</div>"
      ],
      "text/plain": [
       "        Sol   Jupiter   Saturno     Urano    Netuno\n",
       "0  0.740587  0.787632  0.104442  0.300614  0.268019\n",
       "1  0.902465  0.604594  0.549049  0.280762  0.664387\n",
       "2  0.689454  0.589813  0.806060  0.054702  0.191358\n",
       "3  0.112777  0.542139  0.892222  0.988906  0.505979\n",
       "4  0.233872  0.040377  0.897407  0.873630  0.527623"
      ]
     },
     "execution_count": 22,
     "metadata": {},
     "output_type": "execute_result"
    }
   ],
   "source": [
    "planetas2.head()"
   ]
  },
  {
   "cell_type": "code",
   "execution_count": 23,
   "metadata": {},
   "outputs": [
    {
     "data": {
      "text/html": [
       "<div>\n",
       "<style scoped>\n",
       "    .dataframe tbody tr th:only-of-type {\n",
       "        vertical-align: middle;\n",
       "    }\n",
       "\n",
       "    .dataframe tbody tr th {\n",
       "        vertical-align: top;\n",
       "    }\n",
       "\n",
       "    .dataframe thead th {\n",
       "        text-align: right;\n",
       "    }\n",
       "</style>\n",
       "<table border=\"1\" class=\"dataframe\">\n",
       "  <thead>\n",
       "    <tr style=\"text-align: right;\">\n",
       "      <th></th>\n",
       "      <th>Sol</th>\n",
       "      <th>Jupiter</th>\n",
       "      <th>Saturno</th>\n",
       "      <th>Urano</th>\n",
       "      <th>Netuno</th>\n",
       "    </tr>\n",
       "  </thead>\n",
       "  <tbody>\n",
       "    <tr>\n",
       "      <td>count</td>\n",
       "      <td>10.000000</td>\n",
       "      <td>10.000000</td>\n",
       "      <td>10.000000</td>\n",
       "      <td>10.000000</td>\n",
       "      <td>10.000000</td>\n",
       "    </tr>\n",
       "    <tr>\n",
       "      <td>mean</td>\n",
       "      <td>0.576519</td>\n",
       "      <td>0.494404</td>\n",
       "      <td>0.580372</td>\n",
       "      <td>0.515924</td>\n",
       "      <td>0.420237</td>\n",
       "    </tr>\n",
       "    <tr>\n",
       "      <td>std</td>\n",
       "      <td>0.371359</td>\n",
       "      <td>0.338060</td>\n",
       "      <td>0.287234</td>\n",
       "      <td>0.366508</td>\n",
       "      <td>0.238696</td>\n",
       "    </tr>\n",
       "    <tr>\n",
       "      <td>min</td>\n",
       "      <td>0.033786</td>\n",
       "      <td>0.040377</td>\n",
       "      <td>0.104442</td>\n",
       "      <td>0.054702</td>\n",
       "      <td>0.017244</td>\n",
       "    </tr>\n",
       "    <tr>\n",
       "      <td>25%</td>\n",
       "      <td>0.242821</td>\n",
       "      <td>0.158340</td>\n",
       "      <td>0.358208</td>\n",
       "      <td>0.222858</td>\n",
       "      <td>0.210524</td>\n",
       "    </tr>\n",
       "    <tr>\n",
       "      <td>50%</td>\n",
       "      <td>0.715021</td>\n",
       "      <td>0.565976</td>\n",
       "      <td>0.647495</td>\n",
       "      <td>0.511819</td>\n",
       "      <td>0.516801</td>\n",
       "    </tr>\n",
       "    <tr>\n",
       "      <td>75%</td>\n",
       "      <td>0.895141</td>\n",
       "      <td>0.741873</td>\n",
       "      <td>0.803357</td>\n",
       "      <td>0.850296</td>\n",
       "      <td>0.579821</td>\n",
       "    </tr>\n",
       "    <tr>\n",
       "      <td>max</td>\n",
       "      <td>0.958186</td>\n",
       "      <td>0.951291</td>\n",
       "      <td>0.897407</td>\n",
       "      <td>0.988906</td>\n",
       "      <td>0.712723</td>\n",
       "    </tr>\n",
       "  </tbody>\n",
       "</table>\n",
       "</div>"
      ],
      "text/plain": [
       "             Sol    Jupiter    Saturno      Urano     Netuno\n",
       "count  10.000000  10.000000  10.000000  10.000000  10.000000\n",
       "mean    0.576519   0.494404   0.580372   0.515924   0.420237\n",
       "std     0.371359   0.338060   0.287234   0.366508   0.238696\n",
       "min     0.033786   0.040377   0.104442   0.054702   0.017244\n",
       "25%     0.242821   0.158340   0.358208   0.222858   0.210524\n",
       "50%     0.715021   0.565976   0.647495   0.511819   0.516801\n",
       "75%     0.895141   0.741873   0.803357   0.850296   0.579821\n",
       "max     0.958186   0.951291   0.897407   0.988906   0.712723"
      ]
     },
     "execution_count": 23,
     "metadata": {},
     "output_type": "execute_result"
    }
   ],
   "source": [
    "planetas2.describe()"
   ]
  },
  {
   "cell_type": "code",
   "execution_count": 10,
   "metadata": {},
   "outputs": [],
   "source": [
    "#plot\n",
    "import matplotlib.pyplot as plt\n",
    "from matplotlib import style\n",
    "%matplotlib inline"
   ]
  },
  {
   "cell_type": "code",
   "execution_count": 24,
   "metadata": {},
   "outputs": [
    {
     "data": {
      "image/png": "[encoded data removed]",
      "text/plain": [
       "<Figure size 432x288 with 1 Axes>"
      ]
     },
     "metadata": {
      "needs_background": "light"
     },
     "output_type": "display_data"
    }
   ],
   "source": [
    "planetas1.plot.barh(stacked=True);"
   ]
  },
  {
   "cell_type": "code",
   "execution_count": 25,
   "metadata": {},
   "outputs": [
    {
     "data": {
      "image/png": "[encoded data removed]",
      "text/plain": [
       "<Figure size 432x288 with 1 Axes>"
      ]
     },
     "metadata": {
      "needs_background": "light"
     },
     "output_type": "display_data"
    }
   ],
   "source": [
    "planetas2.plot.barh(stacked=True);"
   ]
  },
  {
   "cell_type": "code",
   "execution_count": 13,
   "metadata": {},
   "outputs": [
    {
     "data": {
      "image/png": "[encoded data removed]",
      "text/plain": [
       "<Figure size 432x288 with 1 Axes>"
      ]
     },
     "metadata": {
      "needs_background": "light"
     },
     "output_type": "display_data"
    }
   ],
   "source": [
    "#Planetas perto do Sol\n",
    "planetas1 = pd.DataFrame(np.random.rand(10, 4), columns=['Mércurio', 'Vênus', 'Terra', 'Marte'])\n",
    "planetas1.plot.bar();"
   ]
  },
  {
   "cell_type": "code",
   "execution_count": 14,
   "metadata": {},
   "outputs": [
    {
     "data": {
      "image/png": "[encoded data removed]",
      "text/plain": [
       "<Figure size 432x288 with 1 Axes>"
      ]
     },
     "metadata": {
      "needs_background": "light"
     },
     "output_type": "display_data"
    }
   ],
   "source": [
    "planetas2 = pd.DataFrame(np.random.rand(10, 4), columns=['Jupiter', 'Saturno', 'Urano', 'Netuno'])\n",
    "planetas2.plot.bar();"
   ]
  },
  {
   "cell_type": "code",
   "execution_count": 15,
   "metadata": {},
   "outputs": [
    {
     "data": {
      "text/plain": [
       "<matplotlib.axes._subplots.AxesSubplot at 0x1a93660bd48>"
      ]
     },
     "execution_count": 15,
     "metadata": {},
     "output_type": "execute_result"
    },
    {
     "data": {
      "image/png": "[encoded data removed]",
      "text/plain": [
       "<Figure size 432x288 with 1 Axes>"
      ]
     },
     "metadata": {
      "needs_background": "light"
     },
     "output_type": "display_data"
    }
   ],
   "source": [
    "#Box plot\n",
    "planetas1 = pd.DataFrame(np.random.rand(10, 5), columns=['Sol', 'Mercurio', 'Vênus', 'Terra', 'Marte',])\n",
    "planetas1.plot.box()"
   ]
  },
  {
   "cell_type": "code",
   "execution_count": 16,
   "metadata": {},
   "outputs": [
    {
     "data": {
      "text/plain": [
       "<matplotlib.axes._subplots.AxesSubplot at 0x1a9366d92c8>"
      ]
     },
     "execution_count": 16,
     "metadata": {},
     "output_type": "execute_result"
    },
    {
     "data": {
      "image/png": "[encoded data removed]",
      "text/plain": [
       "<Figure size 432x288 with 1 Axes>"
      ]
     },
     "metadata": {
      "needs_background": "light"
     },
     "output_type": "display_data"
    }
   ],
   "source": [
    "#Box plot\n",
    "planetas2 = pd.DataFrame(np.random.rand(10, 5), columns=['Sol', 'Jupiter', 'Saturno', 'Urano', 'Netuno',])\n",
    "planetas2.plot.box()"
   ]
  },
  {
   "cell_type": "code",
   "execution_count": 17,
   "metadata": {},
   "outputs": [
    {
     "data": {
      "text/plain": [
       "<matplotlib.axes._subplots.AxesSubplot at 0x1a9367aa6c8>"
      ]
     },
     "execution_count": 17,
     "metadata": {},
     "output_type": "execute_result"
    },
    {
     "data": {
      "image/png": "[encoded data removed]",
      "text/plain": [
       "<Figure size 432x288 with 1 Axes>"
      ]
     },
     "metadata": {
      "needs_background": "light"
     },
     "output_type": "display_data"
    }
   ],
   "source": [
    "df = pd.DataFrame(np.random.rand(10, 5), columns=['Júpiter', 'Saturno', 'Urano', 'Netuno', 'Plutão',])\n",
    "df.plot.box()"
   ]
  },
  {
   "cell_type": "code",
   "execution_count": 18,
   "metadata": {},
   "outputs": [
    {
     "data": {
      "text/plain": [
       "<matplotlib.axes._subplots.AxesSubplot at 0x1a936852bc8>"
      ]
     },
     "execution_count": 18,
     "metadata": {},
     "output_type": "execute_result"
    },
    {
     "data": {
      "image/png": "[encoded data removed]",
      "text/plain": [
       "<Figure size 432x288 with 1 Axes>"
      ]
     },
     "metadata": {
      "needs_background": "light"
     },
     "output_type": "display_data"
    }
   ],
   "source": [
    "#Distancia de Mercurio ate sol\n",
    "ser = pd.Series(np.random.randn(57910))\n",
    "ser.plot.kde()"
   ]
  },
  {
   "cell_type": "code",
   "execution_count": 19,
   "metadata": {},
   "outputs": [
    {
     "data": {
      "image/png": "[encoded data removed]",
      "text/plain": [
       "<Figure size 432x288 with 6 Axes>"
      ]
     },
     "execution_count": 19,
     "metadata": {},
     "output_type": "execute_result"
    },
    {
     "data": {
      "image/png": "[encoded data removed]",
      "text/plain": [
       "<Figure size 432x288 with 6 Axes>"
      ]
     },
     "metadata": {
      "needs_background": "light"
     },
     "output_type": "display_data"
    }
   ],
   "source": [
    "#Distancia dos planetas entre sol\n",
    "from pandas.plotting import bootstrap_plot\n",
    "data = pd.Series(np.random.rand(1000))\n",
    "bootstrap_plot(data, size=50, samples=500, color='blue')"
   ]
  },
  {
   "cell_type": "markdown",
   "metadata": {},
   "source": [
    "# Distancia entre planetas \n"
   ]
  },
  {
   "cell_type": "code",
   "execution_count": 20,
   "metadata": {},
   "outputs": [
    {
     "data": {
      "text/html": [
       "<div>\n",
       "<style scoped>\n",
       "    .dataframe tbody tr th:only-of-type {\n",
       "        vertical-align: middle;\n",
       "    }\n",
       "\n",
       "    .dataframe tbody tr th {\n",
       "        vertical-align: top;\n",
       "    }\n",
       "\n",
       "    .dataframe thead th {\n",
       "        text-align: right;\n",
       "    }\n",
       "</style>\n",
       "<table border=\"1\" class=\"dataframe\">\n",
       "  <thead>\n",
       "    <tr style=\"text-align: right;\">\n",
       "      <th></th>\n",
       "      <th></th>\n",
       "      <th>Distancia media ao Sol</th>\n",
       "      <th>Distância ao Sol na escala adotada - cm</th>\n",
       "    </tr>\n",
       "    <tr>\n",
       "      <th>Planetas 1</th>\n",
       "      <th>Planetas 2</th>\n",
       "      <th></th>\n",
       "      <th></th>\n",
       "    </tr>\n",
       "  </thead>\n",
       "  <tbody>\n",
       "    <tr>\n",
       "      <td>Jupiter</td>\n",
       "      <td>Plutão</td>\n",
       "      <td>1429400000</td>\n",
       "      <td>1429</td>\n",
       "    </tr>\n",
       "    <tr>\n",
       "      <td>Marte</td>\n",
       "      <td>Netuno</td>\n",
       "      <td>778330000</td>\n",
       "      <td>778</td>\n",
       "    </tr>\n",
       "    <tr>\n",
       "      <td>Mercurio</td>\n",
       "      <td>Jupiter</td>\n",
       "      <td>10820000</td>\n",
       "      <td>108</td>\n",
       "    </tr>\n",
       "    <tr>\n",
       "      <td>Saturno</td>\n",
       "      <td>Palneta X</td>\n",
       "      <td>2870990000</td>\n",
       "      <td>2871</td>\n",
       "    </tr>\n",
       "    <tr>\n",
       "      <td>Sol</td>\n",
       "      <td>Sol</td>\n",
       "      <td>57910000</td>\n",
       "      <td>58</td>\n",
       "    </tr>\n",
       "    <tr>\n",
       "      <td>Terra</td>\n",
       "      <td>Urano</td>\n",
       "      <td>227940000</td>\n",
       "      <td>228</td>\n",
       "    </tr>\n",
       "    <tr>\n",
       "      <td>Urano</td>\n",
       "      <td>Estela Alfa</td>\n",
       "      <td>4504300000</td>\n",
       "      <td>4504</td>\n",
       "    </tr>\n",
       "    <tr>\n",
       "      <td>Venus</td>\n",
       "      <td>Saturno</td>\n",
       "      <td>149600000</td>\n",
       "      <td>15</td>\n",
       "    </tr>\n",
       "  </tbody>\n",
       "</table>\n",
       "</div>"
      ],
      "text/plain": [
       "                        Distancia media ao Sol  \\\n",
       "Planetas 1 Planetas 2                            \n",
       "Jupiter    Plutão                   1429400000   \n",
       "Marte      Netuno                    778330000   \n",
       "Mercurio   Jupiter                    10820000   \n",
       "Saturno    Palneta X                2870990000   \n",
       "Sol        Sol                        57910000   \n",
       "Terra      Urano                     227940000   \n",
       "Urano      Estela Alfa              4504300000   \n",
       "Venus      Saturno                   149600000   \n",
       "\n",
       "                        Distância ao Sol na escala adotada - cm  \n",
       "Planetas 1 Planetas 2                                            \n",
       "Jupiter    Plutão                                          1429  \n",
       "Marte      Netuno                                           778  \n",
       "Mercurio   Jupiter                                          108  \n",
       "Saturno    Palneta X                                       2871  \n",
       "Sol        Sol                                               58  \n",
       "Terra      Urano                                            228  \n",
       "Urano      Estela Alfa                                     4504  \n",
       "Venus      Saturno                                           15  "
      ]
     },
     "execution_count": 20,
     "metadata": {},
     "output_type": "execute_result"
    }
   ],
   "source": [
    "ix3 = pd.MultiIndex.from_arrays([\n",
    "['Sol', 'Mercurio', 'Venus', 'Terra', 'Marte', 'Jupiter', 'Saturno', 'Urano'],\n",
    "['Sol', 'Jupiter', 'Saturno', 'Urano', 'Netuno', 'Plutão', 'Palneta X', 'Estela Alfa']],\n",
    "names=['Planetas 1', 'Planetas 2'])\n",
    "df3 = pd.DataFrame({'Distancia media ao Sol': [57910000, 10820000, 149600000, 227940000, 778330000, 1429400000, 2870990000, 4504300000],\n",
    "'Distância ao Sol na escala adotada - cm': [58, 108, 15, 228, 778, 1429, 2871, 4504]}, index=ix3)\n",
    "gp3 = df3.groupby(level=('Planetas 1', 'Planetas 2'))\n",
    "means = gp3.mean()\n",
    "errors = gp3.std()\n",
    "means"
   ]
  },
  {
   "cell_type": "code",
   "execution_count": 21,
   "metadata": {},
   "outputs": [
    {
     "data": {
      "text/plain": [
       "<matplotlib.axes._subplots.AxesSubplot at 0x1a93510d248>"
      ]
     },
     "execution_count": 21,
     "metadata": {},
     "output_type": "execute_result"
    },
    {
     "data": {
      "image/png": "[encoded data removed]",
      "text/plain": [
       "<Figure size 432x288 with 1 Axes>"
      ]
     },
     "metadata": {
      "needs_background": "light"
     },
     "output_type": "display_data"
    }
   ],
   "source": [
    "fig, ax = plt.subplots()\n",
    "means.plot.bar(yerr=errors, ax=ax, capsize=4)"
   ]
  },
  {
   "cell_type": "code",
   "execution_count": null,
   "metadata": {},
   "outputs": [],
   "source": []
  },
  {
   "cell_type": "code",
   "execution_count": null,
   "metadata": {},
   "outputs": [],
   "source": []
  },
  {
   "cell_type": "code",
   "execution_count": null,
   "metadata": {},
   "outputs": [],
   "source": []
  }
 ],
 "metadata": {
  "kernelspec": {
   "display_name": "Python 3",
   "language": "python",
   "name": "python3"
  },
  "language_info": {
   "codemirror_mode": {
    "name": "ipython",
    "version": 3
   },
   "file_extension": ".py",
   "mimetype": "text/x-python",
   "name": "python",
   "nbconvert_exporter": "python",
   "pygments_lexer": "ipython3",
   "version": "3.7.7"
  }
 },
 "nbformat": 4,
 "nbformat_minor": 2
}
